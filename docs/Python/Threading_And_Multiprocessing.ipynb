{
 "cells": [
  {
   "cell_type": "markdown",
   "id": "6ae25b7b-400d-403b-a11b-b1fb5eee0bae",
   "metadata": {},
   "source": [
    "## What is Concurrent Programming\n",
    "\n",
    "Concurrent programming is when a number of processes, tasks or instructions happen at the same time. This is similar but not nessicarily the same of parallel programming. Concurrent programming can be strictly logical, meaning that multiple processes are logically running at the same time, however they only utilize the same processor. In this case the two proceses share the processor with only one process being active at a given time. \n",
    "\n",
    "\n",
    "<!-- ### Example\n",
    "For example we could add two vectors together. In simple code this could be something like:\n",
    "```python\n",
    "def add_vectors(a, b, c, n):\n",
    "    for i in range(n):\n",
    "        c[i] = a[i] + b[i]\n",
    "```\n",
    "We could run each step of this code using somthing like:\n",
    "```python\n",
    "def add_vectors_element(a, b, c, i):\n",
    "    c[i] = a[i] + b[i]\n",
    "```\n",
    "If we wanted to add the vectors `a` and `b` in parallel, we need to call `add_vectors_element` `n` times. We could run each of these `n` processes in parallel over `m` processors. Let's say `n = 32` and we have 16 cores available (`m = 16`) when we could run 16 tasks in parallel. Typically we would request 32 jobs and specify that we have 16 cores available, nievely we'd expect `n = 0` to run on `m = 0`, with `n = 16`, `m = 0` running when it finishes, but a scheduler will work by chosing which ever processor is free at the time. So we might have (`n = 0`, `m = 0`) and (`n = 1`, `m = 1`) starting at the same time, but (`n = 1`, `m = 1`) might finish first. The scheduler will therefore run (`n = 16`, `m = 1`).\n",
    " -->\n",
    "\n",
    "\n",
    " ## What is Threading\n",
    "\n",
    "Threading is where we have multiple processes running concurrently, while utilizing a single processor<a name=\"cite_ref-2\"></a>[<sup>[1]</sup>](#cite_note-1)\n",
    ". Threading gives off the appearance of parallel processing by switching between tasks such that only one task is ever running at a given time. In this case the processes are \"logically happening at the same time\", but not parallel.\n",
    "\n",
    "A example of this could be a web browser with multiple tabs open. In this analogy each tab is a seperate thread, but we're only ever looking at a single tab, therefore only one thread is ever executed at a time.\n",
    "\n",
    "In programming, threading can be useful for expensive unrelated tasks such as downloading a file.\n",
    "Consider the following example:\n",
    "\n",
    "\n",
    "| Time Step | Main  | Child 1 | Child 2|\n",
    "| -------- | -------- | -------- | -------- |\n",
    "| 1 | spawns child 1|  | | \n",
    "| 2 | determine background criteria | downloading file | | \n",
    "| 3 | spawns child 2| downloading file | | \n",
    "| 4 | look up existing files | downloading file | Background calculation| \n",
    "| 5 | organise files | downloading file | <span style=\"color:red\"> Background complete </span>| \n",
    "| 6 | select files of interest | <span style=\"color:red\"> Download complete </span>|  <span style=\"color:red\"> Background complete </span>| \n",
    "| 7 | close threads | <span style=\"color:red\"> Download complete </span>|  <span style=\"color:red\"> Background complete </span>| \n",
    "| 8 | perform analysis | | |\n",
    "\n",
    "\n",
    "<a name=\"cite_note-1\"></a>1. [^](#cite_ref-1) Note this is specifically the case in Python and may not be the case in other langugaes."
   ]
  },
  {
   "cell_type": "code",
   "execution_count": 1,
   "id": "28924133-58ef-4fd0-a73f-1448b95308f4",
   "metadata": {},
   "outputs": [],
   "source": [
    "import threading\n",
    "import time\n",
    "import numpy as np\n",
    "import matplotlib.pyplot as plt\n",
    "import multiprocessing as mp"
   ]
  },
  {
   "cell_type": "markdown",
   "id": "2651aabc-f72d-4321-af55-a2723d25eb4a",
   "metadata": {},
   "source": [
    "Let's define some expensive funtion with some randomness to it:"
   ]
  },
  {
   "cell_type": "code",
   "execution_count": 2,
   "id": "0fbe2fa4-9ce9-4450-84be-c8080b91128d",
   "metadata": {},
   "outputs": [],
   "source": [
    "def expensive_function(n):\n",
    "    counter = 0\n",
    "    for i in range(n):\n",
    "        time.sleep(0.1)\n",
    "        counter += i\n",
    "    print (f\"sum of {n} = {counter}\")\n",
    "    return counter"
   ]
  },
  {
   "cell_type": "markdown",
   "id": "e5a9a07f-8af5-4553-8383-d60bc9cb4a4f",
   "metadata": {},
   "source": [
    "We can span a thread using \n",
    "``` python\n",
    "t = threading.Thread(target = function_to_run, args = [arguments])\n",
    "```\n",
    "\n",
    "Let's create 16 threads:"
   ]
  },
  {
   "cell_type": "code",
   "execution_count": 12,
   "id": "ca9d6185-df70-4f9c-a49c-6d2fc49606fd",
   "metadata": {},
   "outputs": [],
   "source": [
    "n_threads = 16\n",
    "threads = []\n",
    "for i in range(n_threads):\n",
    "    r = np.random.randint(1,50)\n",
    "    threads.append( threading.Thread(target = expensive_function, args = [r]))\n"
   ]
  },
  {
   "cell_type": "markdown",
   "id": "b08a6b7f-5aac-4faa-9b44-d5c7899abf1f",
   "metadata": {},
   "source": [
    "The threads won't start running until we call:\n",
    "```\n",
    "t.start()\n",
    "```\n",
    "\n",
    "This will make the function run the a seperate thread. We can wait for a thread to finish by calling:\n",
    "```\n",
    "t.join()\n",
    "```"
   ]
  },
  {
   "cell_type": "code",
   "execution_count": 13,
   "id": "33601d8a-abb2-4adf-98d0-b718576fa626",
   "metadata": {},
   "outputs": [
    {
     "name": "stdout",
     "output_type": "stream",
     "text": [
      "sum of 6 = 15\n",
      "sum of 8 = 28\n",
      "This code will run while threads are running\n",
      "sum of 10 = 45\n",
      "sum of 16 = 120\n",
      "sum of 18 = 153\n",
      "sum of 20 = 190\n",
      "sum of 22 = 231\n",
      "sum of 22 = 231\n",
      "sum of 25 = 300\n",
      "sum of 28 = 378\n",
      "sum of 29 = 406\n",
      "sum of 32 = 496\n",
      "sum of 35 = 595\n",
      "sum of 37 = 666\n",
      "sum of 41 = 820\n",
      "sum of 49 = 1176\n",
      "This code will wait until the threads are finished\n"
     ]
    }
   ],
   "source": [
    "for t in threads:\n",
    "    t.start()\n",
    "\n",
    "time.sleep(1)\n",
    "print (\"This code will run while threads are running\")\n",
    "\n",
    "\n",
    "for t in threads:\n",
    "    t.join()\n",
    "\n",
    "print (\"This code will wait until the threads are finished\")"
   ]
  },
  {
   "cell_type": "markdown",
   "id": "633a9d78-6834-4674-8260-c97b3893a183",
   "metadata": {},
   "source": [
    "Let's perform vector addition using threading. We'll use `global` to ensure we're working on the global `a`, `b`, and `c` rather than a copy local to the function."
   ]
  },
  {
   "cell_type": "code",
   "execution_count": 59,
   "id": "eab0085d-6188-4bd3-9098-5cc0479d2e23",
   "metadata": {},
   "outputs": [],
   "source": [
    "n = 200\n",
    "a = [1] * n\n",
    "b = [2] * n\n",
    "c = [0] * n\n",
    "\n",
    "def add_vectors(n):\n",
    "    global a, b, c\n",
    "    for i in range(n):\n",
    "        c[i] = a[i] + b[i]\n",
    "\n"
   ]
  },
  {
   "cell_type": "code",
   "execution_count": 60,
   "id": "eff80008-ea24-4b2d-8918-b0640e67c6c4",
   "metadata": {},
   "outputs": [
    {
     "name": "stdout",
     "output_type": "stream",
     "text": [
      "8.15 µs ± 19.8 ns per loop (mean ± std. dev. of 7 runs, 100,000 loops each)\n"
     ]
    }
   ],
   "source": [
    "%%timeit\n",
    "n = 200\n",
    "a = [1] * n\n",
    "b = [2] * n\n",
    "c = [0] * n\n",
    "\n",
    "add_vectors(n)\n"
   ]
  },
  {
   "cell_type": "code",
   "execution_count": 61,
   "id": "5ef0d16f-d91f-48fb-9f99-403326ebc286",
   "metadata": {},
   "outputs": [
    {
     "name": "stdout",
     "output_type": "stream",
     "text": [
      "[3, 3, 3, 3, 3]\n"
     ]
    }
   ],
   "source": [
    "print (c[:5])"
   ]
  },
  {
   "cell_type": "markdown",
   "id": "9cdff60a-5e63-4747-9eb5-dd6e69c4315e",
   "metadata": {},
   "source": [
    "Let's define a function that will only apply the addition to a single element of the array:"
   ]
  },
  {
   "cell_type": "code",
   "execution_count": 62,
   "id": "91528f37-463b-473c-bf97-590796b42e8d",
   "metadata": {
    "scrolled": true
   },
   "outputs": [
    {
     "name": "stdout",
     "output_type": "stream",
     "text": [
      "[3, 0, 0, 0, 0]\n"
     ]
    }
   ],
   "source": [
    "n = 200\n",
    "a = [1] * n\n",
    "b = [2] * n\n",
    "c = [0] * n\n",
    "\n",
    "def add_vectors_element(i):\n",
    "    global a, b, c\n",
    "    c[i] = a[i] + b[i]\n",
    "\n",
    "add_vectors_element(0)\n",
    "print (c[:5])\n"
   ]
  },
  {
   "cell_type": "markdown",
   "id": "538ba899-4085-45b0-be08-d172a2a51c23",
   "metadata": {},
   "source": [
    "Let's spawn `n` threads and allow each thread to operate on a single element"
   ]
  },
  {
   "cell_type": "code",
   "execution_count": 19,
   "id": "a103f26d-6d4a-4fc5-a2da-4998880fc7c4",
   "metadata": {},
   "outputs": [
    {
     "name": "stdout",
     "output_type": "stream",
     "text": [
      "7.18 ms ± 241 µs per loop (mean ± std. dev. of 7 runs, 100 loops each)\n"
     ]
    }
   ],
   "source": [
    "%%timeit\n",
    "n = 200\n",
    "a = [1] * n\n",
    "b = [2] * n\n",
    "c = [0] * n\n",
    "\n",
    "\n",
    "threads = []\n",
    "for i in range(n):\n",
    "    threads.append(threading.Thread(target = add_vectors_element, args = [i]))\n",
    "\n",
    "for t in threads:\n",
    "    t.start()\n",
    "for t in threads:\n",
    "    t.join()"
   ]
  },
  {
   "cell_type": "code",
   "execution_count": 20,
   "id": "55002299-55ac-4d16-bab6-65f6c413e9e5",
   "metadata": {},
   "outputs": [
    {
     "name": "stdout",
     "output_type": "stream",
     "text": [
      "[3, 3, 3, 3, 3]\n"
     ]
    }
   ],
   "source": [
    "print (c[:5])"
   ]
  },
  {
   "cell_type": "markdown",
   "id": "400a2e70-ab3a-4b3d-88c8-3ea1119f6cbb",
   "metadata": {},
   "source": [
    "## What is this slower?\n",
    "\n",
    "There are a few reasons why. Firstly, spawning and waiting for threads to finish introduces and additional overhead, but it's not likely the major problem.\n",
    "\n",
    "It is likely we are being blocked by the Global interpreter lock.\n"
   ]
  },
  {
   "cell_type": "markdown",
   "id": "ffa4d0b9-f4a7-4cdb-a968-9c2cc11c150c",
   "metadata": {},
   "source": [
    "## What is the GIL\n",
    "\n",
    "The GIL (Global interpreter lock) is a mechinism in CPython which allows only one instance of bytecode to be executed at a time. Essentially, to prevent data races.\n",
    "\n",
    "## What is a data race/race condition\n",
    "\n",
    "A data race or a race condition occurs when multiple processes try to modify and/or read the same piece of memory at the same time. \n",
    "\n",
    "This can result in the output of the code being dependent on the order in which the code is executed.\n",
    "\n",
    "Consider two functions that act on the same object:\n"
   ]
  },
  {
   "cell_type": "code",
   "execution_count": 24,
   "id": "6ea6cb47-d669-4ce9-9077-af47ef55f24a",
   "metadata": {},
   "outputs": [],
   "source": [
    "class MyObject:\n",
    "    def __init__(self):\n",
    "        self.property = 0\n",
    "\n",
    "    def write(self):\n",
    "        time.sleep(0.01)\n",
    "        self.property = 5\n",
    "    \n",
    "    def read(self):\n",
    "        time.sleep(0.01)\n",
    "        if self.property != 5:\n",
    "            print (\"reading...\")\n"
   ]
  },
  {
   "cell_type": "markdown",
   "id": "23b8d625-5f3f-447e-93c3-1c29d8f2b573",
   "metadata": {},
   "source": [
    "What would happen if we took called `write` and `read` from two different threads? Would we see \"reading...\"?"
   ]
  },
  {
   "cell_type": "code",
   "execution_count": 63,
   "id": "b719accc-18b5-411c-af8f-f65d5b53eb48",
   "metadata": {},
   "outputs": [],
   "source": [
    "obj = MyObject()\n",
    "t1 = threading.Thread(target = obj.write)\n",
    "t2 = threading.Thread(target = obj.read)\n",
    "\n",
    "t1.start()\n",
    "t2.start()\n",
    "\n",
    "t1.join()\n",
    "t2.join()"
   ]
  },
  {
   "cell_type": "markdown",
   "id": "48cf89c7-0b6c-463c-96f1-c785cc8da5af",
   "metadata": {},
   "source": [
    "Is this always the case?"
   ]
  },
  {
   "cell_type": "code",
   "execution_count": 66,
   "id": "f30c54c6-f859-4ea7-9b9b-7a173a4f1964",
   "metadata": {},
   "outputs": [
    {
     "name": "stdout",
     "output_type": "stream",
     "text": [
      "reading...\n",
      "reading...\n",
      "reading...\n",
      "reading...\n",
      "reading...\n",
      "reading...\n",
      "reading...\n",
      "reading...\n",
      "reading...\n"
     ]
    }
   ],
   "source": [
    "for i in range(100):\n",
    "    obj = MyObject()\n",
    "    t1 = threading.Thread(target = obj.write)\n",
    "    t2 = threading.Thread(target = obj.read)\n",
    "    \n",
    "    t1.start()\n",
    "    t2.start()\n",
    "    \n",
    "    t1.join()\n",
    "    t2.join()"
   ]
  },
  {
   "cell_type": "markdown",
   "id": "41030bac-1d08-44d5-ae9f-a787c750b85e",
   "metadata": {},
   "source": [
    "Here the small and variable overhead in creating thread and starting threads creates behaviour that is difficult to reproduce and therefore difficult to debug. In cases like this we should wrap dependent jobs within the same thread to ensure the execution order."
   ]
  },
  {
   "cell_type": "markdown",
   "id": "4408db9b-d06e-4381-b889-162a3e7d95ab",
   "metadata": {},
   "source": [
    "No that we know what the GIL is, let's take a closer look at it's impact on our performance:"
   ]
  },
  {
   "cell_type": "code",
   "execution_count": 29,
   "id": "b0ce6486-c87a-4381-8f19-0b40b964aabc",
   "metadata": {},
   "outputs": [],
   "source": [
    "def countdown(n): \n",
    "    while n > 0: \n",
    "        n -= 1"
   ]
  },
  {
   "cell_type": "code",
   "execution_count": 67,
   "id": "bc681723-4811-4a6e-8c37-7207d2956b62",
   "metadata": {},
   "outputs": [
    {
     "name": "stdout",
     "output_type": "stream",
     "text": [
      "This took  2.389 s\n"
     ]
    }
   ],
   "source": [
    "large_number = 100_000_000\n",
    "tstart = time.time()\n",
    "countdown(large_number)\n",
    "telap = time.time() - tstart\n",
    "\n",
    "print (f\"This took {telap : 0.3f} s\")"
   ]
  },
  {
   "cell_type": "markdown",
   "id": "3978faf4-30b1-4164-a7bf-174fa01b0875",
   "metadata": {},
   "source": [
    "It would make sense that if we were able to do half the work in two threads running at the same time, then it should take half the time to run. Is this the case?"
   ]
  },
  {
   "cell_type": "code",
   "execution_count": 68,
   "id": "04b722e1-b8cc-46c8-8c55-39c51485f4c3",
   "metadata": {},
   "outputs": [
    {
     "name": "stdout",
     "output_type": "stream",
     "text": [
      "This took  2.740 s\n"
     ]
    }
   ],
   "source": [
    "# run this in two seperate threads\n",
    "t1 = threading.Thread(target = countdown, args = [large_number // 2])\n",
    "t2 = threading.Thread(target = countdown, args = [large_number // 2])\n",
    "\n",
    "tstart = time.time()\n",
    "t1.start()\n",
    "t2.start()\n",
    "t1.join()\n",
    "t2.join()\n",
    "\n",
    "telap = time.time() - tstart\n",
    "\n",
    "print (f\"This took {telap : 0.3f} s\")"
   ]
  },
  {
   "cell_type": "markdown",
   "id": "639ddf7b-6557-45ef-a844-81de4460c425",
   "metadata": {},
   "source": [
    "It actually takes about the same time to run, if not longer! This is because the GIL is making it such that only thread can run at a time. \n",
    "\n",
    "How can we get around this?\n",
    "\n",
    "## Multiprocessing\n",
    "\n",
    "Multiprocessing  is a method where instead of spawning a new thread, we spawn an entirely new process. This essentially means that we start a new instance of python, load what is needed into that instance and execute the code we want. \n",
    "\n",
    "The GIL will still be enforce, however each process will have it's own GIL, meaning the two can operate independently."
   ]
  },
  {
   "cell_type": "code",
   "execution_count": 69,
   "id": "da3cc6c9-0b17-4976-a30b-2cadea8f3b34",
   "metadata": {},
   "outputs": [
    {
     "name": "stdout",
     "output_type": "stream",
     "text": [
      "This took  1.410 s\n"
     ]
    }
   ],
   "source": [
    "# run this in two seperate processes\n",
    "p1 = mp.Process(target = countdown, args = [large_number // 2])\n",
    "p2 = mp.Process(target = countdown, args = [large_number // 2])\n",
    "\n",
    "tstart = time.time()\n",
    "p1.start()\n",
    "p2.start()\n",
    "p1.join()\n",
    "p2.join()\n",
    "\n",
    "telap = time.time() - tstart\n",
    "\n",
    "print (f\"This took {telap : 0.3f} s\")"
   ]
  },
  {
   "cell_type": "markdown",
   "id": "16d41d87-9fb3-441e-994c-442412e61d1c",
   "metadata": {},
   "source": [
    "## What is Parallel Programming?\n",
    "\n",
    "Parallel programming is when a number of processes, tasks or instructions are executed in parallel to each other. This can be obtained using a single CPU by threading or using multiple CPUs by multiprocessing, or some combination of both. In Python, threading will only give us logically parallel programming as the GIL limits true parallelization using threading. This is not the case in languages like C++.\n",
    "\n",
    "<img src=\"./concurrent.JPG\" alt=\"Concurrency\" style=\"width:500px;\"/>\n",
    "\n",
    "## What is the Difference between Threading and Multiprocessing?\n",
    "\n",
    "As we've seen, Threading, in Python, is limited to one task at a time by the GIL. Threading achieves the appearance of true parallelization by switching between tasks. \n",
    "\n",
    "Multiprocessing explicitly creates a new python process. As a result, we copy data into the new instant. This allows us to get around the GIL and obtain true parallelization. However, since we are required to copy memory into the instance, we cannot, by default, share memory across different threads. We'll look into how to do this later...\n",
    "\n",
    "Consider the following example of a function that logs the time inbetween interations of a loop\n"
   ]
  },
  {
   "cell_type": "code",
   "execution_count": 52,
   "id": "00341d2e-9638-4a03-96d8-dde646eca927",
   "metadata": {},
   "outputs": [],
   "source": [
    "def track_live_time(x):\n",
    "    t = []\n",
    "    for i in range(10**6):\n",
    "        # log the current time\n",
    "        t.append(time.time())\n",
    "    # return array of times\n",
    "    return np.array(t)"
   ]
  },
  {
   "cell_type": "markdown",
   "id": "a8f15637-ab04-40f7-8c34-d71eb62a1995",
   "metadata": {},
   "source": [
    "For this example I'll use `concurrent.futures import ThreadPoolExecutor, ProcessPoolExecutor` because they have a very similar API."
   ]
  },
  {
   "cell_type": "code",
   "execution_count": 70,
   "id": "0abdeb10-1b53-442e-9152-ed09991d0bb3",
   "metadata": {},
   "outputs": [],
   "source": [
    "from concurrent.futures import ThreadPoolExecutor, ProcessPoolExecutor\n",
    "\n",
    "\n",
    "def multi_threading(func, args, workers):\n",
    "    with ThreadPoolExecutor(workers) as ex:\n",
    "        res = ex.map(func, args)\n",
    "    return list(res)\n",
    "\n",
    "def multi_processing(func, args, workers):\n",
    "    with ProcessPoolExecutor(workers) as ex:\n",
    "        res = ex.map(func, args)\n",
    "    return list(res)"
   ]
  },
  {
   "cell_type": "markdown",
   "id": "745ad6cd-f904-4bab-9f15-0bf2da088b32",
   "metadata": {},
   "source": [
    "let's run 10 tasks across 4 workers.\n",
    "\n",
    "Here the workers are the number of threads or processes we're using:"
   ]
  },
  {
   "cell_type": "code",
   "execution_count": 71,
   "id": "f0a54f23-a621-4fdd-80e7-7933473739e3",
   "metadata": {},
   "outputs": [
    {
     "name": "stdout",
     "output_type": "stream",
     "text": [
      "Serial took: 1.3956 s\n",
      "Multithreading took: 1.3856 s\n",
      "Multiprocessing took: 0.76431 s\n"
     ]
    }
   ],
   "source": [
    "n = 10\n",
    "workers = 4\n",
    "r = np.random.randint(1, 10, size = n)\n",
    "\n",
    "tstart = time.time()\n",
    "[track_live_time(r) for i in range(n)]\n",
    "telap = time.time() - tstart \n",
    "print(f\"Serial took: {telap:0.5} s\")\n",
    "\n",
    "tstart = time.time()\n",
    "live_times_threading = multi_threading(track_live_time, r, workers)\n",
    "telap = time.time() - tstart \n",
    "print(f\"Multithreading took: {telap:0.5} s\")\n",
    "\n",
    "tstart = time.time()\n",
    "live_times_processing = multi_processing(track_live_time, r, workers)\n",
    "telap = time.time() - tstart \n",
    "print(f\"Multiprocessing took: {telap:0.5} s\")\n"
   ]
  },
  {
   "cell_type": "markdown",
   "id": "f967b3d0-5d0a-4a7e-8f03-1953403197e0",
   "metadata": {},
   "source": [
    "We can see that the multithreaded example takes about as long as the serial example. But the multiprocessing example takes about half the time.\n",
    "\n",
    "Let's plot the times logged by each:"
   ]
  },
  {
   "cell_type": "code",
   "execution_count": 72,
   "id": "30e64230-fab3-4512-b1d9-f56601b8ec79",
   "metadata": {},
   "outputs": [
    {
     "data": {
      "image/png": "[encoded data removed]",
      "text/plain": [
       "<Figure size 1200x400 with 2 Axes>"
      ]
     },
     "metadata": {},
     "output_type": "display_data"
    }
   ],
   "source": [
    "fig, axs = plt.subplots(1,2, figsize = (12,4), sharey= True)\n",
    "for i in range(len(live_times_threading)):\n",
    "    axs[0].plot(\n",
    "        live_times_threading[i] - np.min(live_times_threading),\n",
    "        np.ones(len(live_times_threading[i])) + i,\n",
    "        \"o\",\n",
    "        ms = 0.5)\n",
    "    \n",
    "    axs[1].plot(\n",
    "        live_times_processing[i] - np.min(live_times_processing),\n",
    "        np.ones(len(live_times_processing[i])) + i,\n",
    "        \"o\",\n",
    "        ms = 0.5)\n",
    "for ax in axs:\n",
    "    ax.grid()\n",
    "    ax.set_xlabel(\"Time Elapsed [s]\")\n",
    "axs[0].set_ylabel(\"Job Number\")\n",
    "\n",
    "axs[0].set_title(\"Multi-Threading\")\n",
    "axs[1].set_title(\"Multi-Processing\")\n",
    "\n",
    "fig.tight_layout()\n",
    "fig.savefig(\"multi.png\")"
   ]
  },
  {
   "cell_type": "markdown",
   "id": "309dc178-4efc-48b3-b714-dac07a80e95c",
   "metadata": {},
   "source": [
    "We see gaps in the multi-threaded example. This is because we are switching between threads as the code is ran. However in the multi-processing example we are running 4 instances at the same time."
   ]
  },
  {
   "cell_type": "markdown",
   "id": "30177ea1-2594-4fa6-9020-7bdc66a236b7",
   "metadata": {},
   "source": [
    "## Returning to the vector addition:\n",
    "\n",
    "Let's return to the vector example and try to run it with multiprocessing"
   ]
  },
  {
   "cell_type": "code",
   "execution_count": 73,
   "id": "eda14fdf-0b58-4c25-a5f2-d7dfa679fe7a",
   "metadata": {},
   "outputs": [],
   "source": [
    "#%%timeit\n",
    "n = 200\n",
    "a = [1] * n\n",
    "b = [2] * n\n",
    "c = [0] * n\n",
    "\n",
    "with mp.Pool(processes = 16) as pool:\n",
    "    pool.map(add_vectors_element, range(n))"
   ]
  },
  {
   "cell_type": "code",
   "execution_count": 74,
   "id": "7f88c590-7059-45a0-a282-2b8d091e7a8d",
   "metadata": {},
   "outputs": [
    {
     "name": "stdout",
     "output_type": "stream",
     "text": [
      "[0, 0, 0, 0]\n"
     ]
    }
   ],
   "source": [
    "print (c[:4])"
   ]
  },
  {
   "cell_type": "markdown",
   "id": "0405c6d1-45e6-4670-a1c4-ef6de0568e0e",
   "metadata": {},
   "source": [
    "What happened here? `c` should be a list with 200 values of `3`. We specifically used `global` in `add_vectors_element` to specify we're using the global value of `c` not the local value. \n",
    "\n",
    "```python\n",
    "def add_vectors_element(i):\n",
    "    global a, b, c\n",
    "    c[i] = a[i] + b[i]\n",
    "```\n",
    "\n",
    "It looks like the global value of `c` wasn't modified by multiprocessing. This is because we've created entirely new instances of python to run our process through. This includes a new `global c` which is local to the child process and not the main process.\n",
    "\n",
    "By copying the variables that are need from the main to the child process and running as a new python process, multiprocessing circumvents the GIL. Each process will have its own local variables and its own GIL. This means a \"lock\" will be issued when each process is modifying their own instance of `c`, but since these aren't shared, there is no mutual lock preventing the processes from running at the same time.\n",
    "\n",
    "How could we rewrite this to get our desired output?"
   ]
  },
  {
   "cell_type": "code",
   "execution_count": 75,
   "id": "9b5d81b4-d4db-49c1-a287-d274adf50fbd",
   "metadata": {},
   "outputs": [],
   "source": [
    "from multiprocessing import shared_memory\n",
    "import sys\n",
    "c_shared = shared_memory.SharedMemory(create=True, size=sys.getsizeof(c))\n"
   ]
  },
  {
   "cell_type": "code",
   "execution_count": 76,
   "id": "ef52c395-d567-4171-826b-da6db6bc9ef2",
   "metadata": {},
   "outputs": [],
   "source": [
    "def add_vectors_element_shared(i):\n",
    "    global a, b, c_shared\n",
    "    c_shared.buf[i] = a[i] + b[i]"
   ]
  },
  {
   "cell_type": "code",
   "execution_count": 77,
   "id": "6cd8b4ef-1e7e-476b-b263-a0ce77351751",
   "metadata": {},
   "outputs": [],
   "source": [
    "with mp.Pool(processes = 16) as pool:\n",
    "    pool.map(add_vectors_element_shared, range(n))"
   ]
  },
  {
   "cell_type": "code",
   "execution_count": 78,
   "id": "1296f905-0d56-4a99-a94c-06c55eb6a7e5",
   "metadata": {},
   "outputs": [
    {
     "data": {
      "text/plain": [
       "[3, 3, 3, 3]"
      ]
     },
     "execution_count": 78,
     "metadata": {},
     "output_type": "execute_result"
    }
   ],
   "source": [
    "[c_shared.buf[i] for i in range(4)]\n"
   ]
  },
  {
   "cell_type": "code",
   "execution_count": 79,
   "id": "e609bb1b-26c4-4b75-914a-dc0b0f5f438b",
   "metadata": {},
   "outputs": [],
   "source": [
    "c_shared.close()\n",
    "c_shared.unlink()"
   ]
  },
  {
   "cell_type": "markdown",
   "id": "9f29a87f-a1a6-469a-8aa7-f60619b94262",
   "metadata": {},
   "source": [
    "Another way could be to split the task into chunk and then combine the chunks from each task."
   ]
  },
  {
   "cell_type": "code",
   "execution_count": 80,
   "id": "ddb450c3-85bf-463f-a301-f0ef869e4ef4",
   "metadata": {},
   "outputs": [],
   "source": [
    "def add_vectors_parallel(n, chunk):\n",
    "    global a, b\n",
    "    c = []\n",
    "    for i in range(n * chunk, (n+1) * chunk):\n",
    "        if i >= len(a):\n",
    "            return c\n",
    "        c.append(a[i] + b[i])\n",
    "    return c\n"
   ]
  },
  {
   "cell_type": "code",
   "execution_count": 81,
   "id": "e6e21d90-b4c5-44e9-9760-f0e1b388e7ff",
   "metadata": {},
   "outputs": [
    {
     "name": "stdout",
     "output_type": "stream",
     "text": [
      "[3, 3, 3]\n"
     ]
    }
   ],
   "source": [
    "n = 200\n",
    "a = [1] * n\n",
    "b = [2] * n\n",
    "c = [0] * n\n",
    "\n",
    "res = add_vectors_parallel(0, 3)\n",
    "print (res[:5])"
   ]
  },
  {
   "cell_type": "code",
   "execution_count": 82,
   "id": "23b2ff72-6b7c-4861-a59d-c80f24b419db",
   "metadata": {},
   "outputs": [],
   "source": [
    "# %%timeit\n",
    "n_proc = 8\n",
    "n = 200\n",
    "# Adding a little over subscription to ensure we fill all elements\n",
    "over_sub  = 0.3\n",
    "chunk = int(n // (n_proc - 1))\n",
    "\n",
    "a = [1] * n\n",
    "b = [2] * n\n",
    "with mp.Pool(n_proc) as pool:\n",
    "    res = pool.starmap(add_vectors_parallel, [[i, chunk] for i in range(n_proc)])\n",
    "\n",
    "\n"
   ]
  },
  {
   "cell_type": "code",
   "execution_count": 83,
   "id": "14c8b812-9883-40c0-a9ad-fc7ea68191f8",
   "metadata": {},
   "outputs": [
    {
     "name": "stdout",
     "output_type": "stream",
     "text": [
      "28\n",
      "28\n",
      "28\n",
      "28\n",
      "28\n",
      "28\n",
      "28\n",
      "4\n",
      "[3. 3. 3. 3. 3.]\n",
      "(200,)\n",
      "3.0\n"
     ]
    }
   ],
   "source": [
    "final = np.array([])\n",
    "for r in res:\n",
    "    print (len(r))\n",
    "    final = np.append(final, r)\n",
    "print (final[:5])\n",
    "print (final.shape)\n",
    "print (final.sum() / n)"
   ]
  },
  {
   "cell_type": "markdown",
   "id": "07e66633-4b7b-4ba3-b836-96c073954a84",
   "metadata": {},
   "source": [
    "## Taking a closer look at multiprocessing\n",
    "\n",
    "Multiprocessing has different ways to execute in parallel. Let's take alook at:\n",
    "* map\n",
    "* starmap"
   ]
  },
  {
   "cell_type": "code",
   "execution_count": 89,
   "id": "ed43017e-a3d8-494c-a867-e6122cef467a",
   "metadata": {},
   "outputs": [],
   "source": [
    "def parallel_task(i):\n",
    "    time.sleep(0.1)\n",
    "    print(f\"Running task: {i}\")\n",
    "    return i*i"
   ]
  },
  {
   "cell_type": "code",
   "execution_count": 91,
   "id": "62716589-7245-4525-9adb-bc183c58b202",
   "metadata": {},
   "outputs": [
    {
     "name": "stdout",
     "output_type": "stream",
     "text": [
      "Running task: 0Running task: 3\n",
      "\n",
      "Running task: 2\n",
      "Running task: 1\n",
      "Running task: 4Running task: 5\n",
      "\n",
      "Running task: 6\n",
      "Running task: 7\n",
      "Running task: 8Running task: 9\n",
      "\n",
      "[0, 1, 4, 9, 16, 25, 36, 49, 64, 81]\n"
     ]
    }
   ],
   "source": [
    "with mp.Pool(processes=4) as pool:\n",
    "    res = pool.map(parallel_task, range(10))\n",
    "print (res)"
   ]
  },
  {
   "cell_type": "markdown",
   "id": "3a856cc2-23fe-45c4-a61b-58bab14769f9",
   "metadata": {},
   "source": [
    "How do we pass multiple arguments?\n",
    "\n",
    "We can use starmap!"
   ]
  },
  {
   "cell_type": "code",
   "execution_count": 98,
   "id": "b3d541eb-8619-4660-a37f-c2d9736d9499",
   "metadata": {},
   "outputs": [],
   "source": [
    "def parallel_task_with_arg(i, number):\n",
    "    time.sleep(0.1)\n",
    "    print(f\"Running task: {i}, with number {number}\")\n",
    "    return i*number"
   ]
  },
  {
   "cell_type": "code",
   "execution_count": 101,
   "id": "1a13e726-04bf-4869-962d-c82951410365",
   "metadata": {},
   "outputs": [
    {
     "name": "stdout",
     "output_type": "stream",
     "text": [
      "Running task: 0, with number 0.9485979316997868Running task: 1, with number 0.5395337513089026Running task: 2, with number 0.28013889341958087Running task: 3, with number 0.5752552495120759\n",
      "\n",
      "\n",
      "\n",
      "Running task: 4, with number 0.19117026413827765Running task: 5, with number 0.8768078872759388Running task: 6, with number 0.8529407224083398Running task: 7, with number 0.644406631619091\n",
      "\n",
      "\n",
      "\n",
      "Running task: 8, with number 0.08242269827131332Running task: 9, with number 0.7439961150318876\n",
      "\n",
      "[0.0, 0.5395337513089026, 0.5602777868391617, 1.7257657485362277, 0.7646810565531106, 4.384039436379695, 5.1176443344500395, 4.510846421333636, 0.6593815861705066, 6.695965035286988]\n"
     ]
    }
   ],
   "source": [
    "with mp.Pool(processes=4) as pool:\n",
    "    arguments = [(i, np.random.random()) for i in range(10)]\n",
    "    res = pool.starmap(parallel_task_with_arg, arguments)\n",
    "print (res)"
   ]
  },
  {
   "cell_type": "markdown",
   "id": "e988b63d-f771-42a8-b4ed-cf9ca997eca7",
   "metadata": {},
   "source": [
    "## Parallelizing with Numba\n",
    "\n",
    "Numba is an awesome library that can really help turbo charge our code. Numba allows for automagic parallelization and just in time (JIT) compiling. JIT allows us to compile the Python code we write to machine code, often providing significant performace improvements."
   ]
  },
  {
   "cell_type": "code",
   "execution_count": 137,
   "id": "9abd39f8-e7a0-4117-a9f1-82116bcba7c7",
   "metadata": {},
   "outputs": [],
   "source": [
    "def large_sum(n):\n",
    "    counter = 0\n",
    "    for i in range(n):\n",
    "        counter +=1\n",
    "    return counter\n"
   ]
  },
  {
   "cell_type": "code",
   "execution_count": 138,
   "id": "4653da8d-5b91-4799-a5a6-352bb525feae",
   "metadata": {},
   "outputs": [
    {
     "name": "stdout",
     "output_type": "stream",
     "text": [
      "100000\n",
      "CPU times: user 3.5 ms, sys: 0 ns, total: 3.5 ms\n",
      "Wall time: 3.48 ms\n"
     ]
    }
   ],
   "source": [
    "%%time \n",
    "res = large_sum(10**5)\n",
    "print (res)"
   ]
  },
  {
   "cell_type": "code",
   "execution_count": 139,
   "id": "0e80bbda-231e-4cef-80b5-f3025bb5ca50",
   "metadata": {},
   "outputs": [
    {
     "name": "stdout",
     "output_type": "stream",
     "text": [
      "2.58 ms ± 84.7 µs per loop (mean ± std. dev. of 7 runs, 100 loops each)\n"
     ]
    }
   ],
   "source": [
    "%timeit large_sum(10**5)"
   ]
  },
  {
   "cell_type": "code",
   "execution_count": 140,
   "id": "9c3e92fb-feda-4a51-b827-aba8e8a69004",
   "metadata": {},
   "outputs": [],
   "source": [
    "from numba import jit\n",
    "@jit\n",
    "def large_sum_jit(n):\n",
    "    counter = 0\n",
    "    for i in range(n):\n",
    "        counter +=1\n",
    "    return counter"
   ]
  },
  {
   "cell_type": "code",
   "execution_count": 141,
   "id": "bba856ff-ff78-49de-824a-b6d0e0ea2193",
   "metadata": {},
   "outputs": [
    {
     "name": "stdout",
     "output_type": "stream",
     "text": [
      "CPU times: user 34.2 ms, sys: 170 µs, total: 34.4 ms\n",
      "Wall time: 33.5 ms\n"
     ]
    },
    {
     "data": {
      "text/plain": [
       "100000"
      ]
     },
     "execution_count": 141,
     "metadata": {},
     "output_type": "execute_result"
    }
   ],
   "source": [
    "%time large_sum_jit(10**5)"
   ]
  },
  {
   "cell_type": "markdown",
   "id": "561ef5ed-e9c1-490b-ad55-5cabcca3a6ac",
   "metadata": {},
   "source": [
    "This took longer.... What happened?\n",
    "\n",
    "The first time we run a `jit`-ted function it is compiled! We will aways get poor performance the first time we run it!"
   ]
  },
  {
   "cell_type": "code",
   "execution_count": 142,
   "id": "34eefd9b-8864-43af-bcde-608e45fd91fa",
   "metadata": {},
   "outputs": [
    {
     "name": "stdout",
     "output_type": "stream",
     "text": [
      "100000\n",
      "CPU times: user 49 µs, sys: 0 ns, total: 49 µs\n",
      "Wall time: 46.7 µs\n"
     ]
    }
   ],
   "source": [
    "%%time \n",
    "res = large_sum_jit(10**5)\n",
    "print (res)"
   ]
  },
  {
   "cell_type": "code",
   "execution_count": 143,
   "id": "e723174f-7db0-466b-b9a3-fcb7b776b47c",
   "metadata": {},
   "outputs": [
    {
     "name": "stdout",
     "output_type": "stream",
     "text": [
      "98.4 ns ± 3.81 ns per loop (mean ± std. dev. of 7 runs, 10,000,000 loops each)\n"
     ]
    }
   ],
   "source": [
    "%timeit large_sum_jit(10**5)"
   ]
  },
  {
   "cell_type": "code",
   "execution_count": 144,
   "id": "e4f2afdd-ae55-40da-a42b-79405f096e15",
   "metadata": {},
   "outputs": [],
   "source": [
    "def vector_addition_loop(x,y):\n",
    "    z = np.zeros(x.shape)\n",
    "    n = z.shape[0]\n",
    "\n",
    "    for i in range(n):\n",
    "        z[i] = x[i] + y[i]\n",
    "    return z"
   ]
  },
  {
   "cell_type": "code",
   "execution_count": 145,
   "id": "dde8aac3-6547-43d4-ac8a-0033e7ff46a1",
   "metadata": {},
   "outputs": [],
   "source": [
    "x = np.random.random(size = 10**5)\n",
    "y = np.random.random(size = 10**5)"
   ]
  },
  {
   "cell_type": "code",
   "execution_count": 146,
   "id": "b7412215-6ce7-42fd-9015-10a700518f8f",
   "metadata": {},
   "outputs": [
    {
     "name": "stdout",
     "output_type": "stream",
     "text": [
      "16.1 ms ± 465 µs per loop (mean ± std. dev. of 7 runs, 100 loops each)\n"
     ]
    }
   ],
   "source": [
    "%timeit _ = vector_addition_loop(x,y)"
   ]
  },
  {
   "cell_type": "code",
   "execution_count": 147,
   "id": "6730fd0e-8a32-4aa8-b236-b6e49e4146aa",
   "metadata": {},
   "outputs": [],
   "source": [
    "@jit\n",
    "def vector_addition_loop_jit(x,y):\n",
    "    z = np.zeros(x.shape)\n",
    "    n = z.shape[0]\n",
    "\n",
    "    for i in range(n):\n",
    "        z[i] = x[i] + y[i]\n",
    "    return z"
   ]
  },
  {
   "cell_type": "code",
   "execution_count": 148,
   "id": "54890f1b-e223-4964-a813-7d087fb23cc6",
   "metadata": {},
   "outputs": [],
   "source": [
    "_ = vector_addition_loop_jit(x,y)"
   ]
  },
  {
   "cell_type": "code",
   "execution_count": 149,
   "id": "3e2f38aa-2a9c-4842-a05c-afc3cd91b2e2",
   "metadata": {},
   "outputs": [
    {
     "name": "stdout",
     "output_type": "stream",
     "text": [
      "36.9 µs ± 980 ns per loop (mean ± std. dev. of 7 runs, 10,000 loops each)\n"
     ]
    }
   ],
   "source": [
    "%timeit _ = vector_addition_loop_jit(x,y)"
   ]
  },
  {
   "cell_type": "markdown",
   "id": "4f5ba901-1132-4ea6-86dd-0874bfe2f53e",
   "metadata": {},
   "source": [
    "Automagic parallelization with `numba`. We can use `prange` to explicitly tell `numba` that a loop is to be ran in parallel across all available CPUs. We also ass `parallel = True` to the `@jit` decorator. Without `parallel = True` `prange` will behave the same as `range`.\n",
    "\n",
    "`Numba` can parallelize a lot of common element/bitwise operations ([see here](https://numba.pydata.org/numba-doc/latest/user/parallel.html)):\n",
    "\n",
    "* unary operators: + - ~\n",
    "* binary operators: + - * / /? % | >> ^ << & ** //\n",
    "* comparison operators: == != < <= > >=\n",
    "* Numpy ufuncs that are supported in nopython mode.\n",
    "* User defined DUFunc through vectorize().\n",
    "\n"
   ]
  },
  {
   "cell_type": "code",
   "execution_count": 150,
   "id": "0816d372-23b3-495b-9009-a2a6be4c2fbd",
   "metadata": {},
   "outputs": [],
   "source": [
    "from numba import prange\n",
    "@jit(parallel= True)\n",
    "def vector_addition_loop_jit_parallel(x,y):\n",
    "    z = np.zeros(x.shape)\n",
    "    n = z.shape[0]\n",
    "\n",
    "    # Use prange to explicitly run a parallel loop\n",
    "    for i in prange(n):\n",
    "        z[i] = x[i] + y[i]\n",
    "    return z"
   ]
  },
  {
   "cell_type": "code",
   "execution_count": 151,
   "id": "df4c392a-f519-41e4-b5ce-8a2cf232e91a",
   "metadata": {},
   "outputs": [],
   "source": [
    "_ = vector_addition_loop_jit_parallel(x,y)"
   ]
  },
  {
   "cell_type": "code",
   "execution_count": 152,
   "id": "2b9ab596-0e66-4328-950d-1416c7ed8d3b",
   "metadata": {},
   "outputs": [],
   "source": [
    "x = np.random.random(size = 10**7)\n",
    "y = np.random.random(size = 10**7)"
   ]
  },
  {
   "cell_type": "code",
   "execution_count": 153,
   "id": "e6f349a8-c21e-46a2-81d8-fd6b68235624",
   "metadata": {},
   "outputs": [
    {
     "name": "stdout",
     "output_type": "stream",
     "text": [
      "14.8 ms ± 908 µs per loop (mean ± std. dev. of 7 runs, 100 loops each)\n"
     ]
    }
   ],
   "source": [
    "%timeit _ = vector_addition_loop_jit_parallel(x,y)"
   ]
  },
  {
   "cell_type": "code",
   "execution_count": 154,
   "id": "a5794cf1-b302-4414-8861-0311ebfebe67",
   "metadata": {},
   "outputs": [
    {
     "name": "stdout",
     "output_type": "stream",
     "text": [
      "16.3 ms ± 201 µs per loop (mean ± std. dev. of 7 runs, 100 loops each)\n"
     ]
    }
   ],
   "source": [
    "%timeit _ = vector_addition_loop_jit(x,y)"
   ]
  }
 ],
 "metadata": {
  "kernelspec": {
   "display_name": "Python 3 (ipykernel)",
   "language": "python",
   "name": "python3"
  },
  "language_info": {
   "codemirror_mode": {
    "name": "ipython",
    "version": 3
   },
   "file_extension": ".py",
   "mimetype": "text/x-python",
   "name": "python",
   "nbconvert_exporter": "python",
   "pygments_lexer": "ipython3",
   "version": "3.10.14"
  }
 },
 "nbformat": 4,
 "nbformat_minor": 5
}
