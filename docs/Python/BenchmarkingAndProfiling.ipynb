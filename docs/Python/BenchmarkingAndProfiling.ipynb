{
 "cells": [
  {
   "cell_type": "markdown",
   "id": "9a835be2-3244-4b84-bc64-72f7bd4a4560",
   "metadata": {},
   "source": [
    "# Benchmarking and Profiling\n",
    "\n",
    "Benchmarking and Profiling are crucial techniques used to quantify the performance of code and measure improvements in its execution. In Python, understanding the performance of different implementations or comparing the efficiency of algorithms is essential, especially in scenarios where optimization is vital.\n",
    "\n",
    "When trying to optimize code, it is important to remember that the time required to optimize the code, might be better spent on other tasks. This is to say, when developing code the primary goal is to deliver working code. Delivering fast and efficent code is a secondary goal. With this in mind, it is important not to prematurely optimize code. One can spend an incredible ammount of time trying to optimize code before it even works! Futhermore, one could spend house of work to save only seconds of run time. A balance needs to be struck!\n",
    "\n",
    "A suitable development workflow would look something like this:\n",
    "1. **Get a working instance of the code.**\n",
    "2. Determine suitable benchmarks for evaluating the code (run time, iterations/second, iterations/cpu cores, percision on output, memory usage etc), and set target performance goals (e.g. total run time, total memory budget, etc).\n",
    "3. Evaluate the performance using the **predefined** benchmarks.\n",
    "4. **If performance goals aren't met**, profile the code to determine where the bottle necks are and whether changes can be made.\n",
    "5. Implement suitable changes to the code and repeat from step 3.\n",
    "\n",
    "Optimizing code can be a very time consuming process. There is a balance that needs to be made between acceptable run time and developer hours needed. Making mulitple changes to the code at once can also introduce bugs that might be difficult to debug. Either make small iterative changes to the code, or make sure the code passes pre-defined tests after each development cycle.\n",
    "\n",
    "Python provides the `timeit` module, which enables the measurement of execution time for specific code segments. This module offers a simple yet effective way to evaluate the performance of individual code snippets or functions:\n",
    "\n",
    "* `%%time` will time the contents of an entire cell with a single run\n",
    "* `%%timeit` will time the contents of an entire cell, averaging over multiples run of that cell\n",
    "* `%time` will time a signle line with a single run\n",
    "* `%timeit` will time a single line, averaging over multiples run of that cell\n",
    "\n",
    "\n",
    "`timeit` will also suspend some features, such as the garbage collector, to get an accurate measurement of the code's runtime."
   ]
  },
  {
   "cell_type": "code",
   "execution_count": 29,
   "id": "5f8241fd-01e7-4464-818b-43c59dd70f29",
   "metadata": {},
   "outputs": [],
   "source": [
    "import time\n",
    "import timeit\n",
    "import numpy as np\n",
    "import matplotlib.pyplot as plt"
   ]
  },
  {
   "cell_type": "code",
   "execution_count": 30,
   "id": "b8afd5e8-6287-461c-9f66-e4668e2e9c98",
   "metadata": {},
   "outputs": [
    {
     "name": "stdout",
     "output_type": "stream",
     "text": [
      "2.48 ms ± 31.4 µs per loop (mean ± std. dev. of 7 runs, 100 loops each)\n"
     ]
    }
   ],
   "source": [
    "%%timeit\n",
    "test = 0\n",
    "for i in range(100000):\n",
    "    test += 1"
   ]
  },
  {
   "cell_type": "markdown",
   "id": "10ccc59a-ebde-435c-9469-84402190078e",
   "metadata": {},
   "source": [
    "We can also measure the time of the cell from one iteration using `%%time`"
   ]
  },
  {
   "cell_type": "code",
   "execution_count": 31,
   "id": "ee12a655-a5ca-4b76-9d0a-cae06e50a875",
   "metadata": {},
   "outputs": [
    {
     "name": "stdout",
     "output_type": "stream",
     "text": [
      "CPU times: user 4.59 ms, sys: 0 ns, total: 4.59 ms\n",
      "Wall time: 4.61 ms\n"
     ]
    }
   ],
   "source": [
    "%%time\n",
    "test = 0\n",
    "for i in range(100000):\n",
    "    test += 1"
   ]
  },
  {
   "cell_type": "markdown",
   "id": "906d210d-342f-428a-b9b2-2ce00fcdc816",
   "metadata": {},
   "source": [
    "We see a number of different times listed here:\n",
    "* `Wall time`: This is the time that has passed during the running of the code\n",
    "* `CPU time`: This is the time that the CPU was busy. This also includes time when the CPU has \"swapped\" its attention to a different process.\n",
    "* `user`: This is the time that the process has been running on the CPU but outside of the system kernel\n",
    "* `sys` : This is the time taken inside the system kernel. This could indicate that the code requires a lot of system calls rather than calls written by the developer.\n",
    "\n",
    "As a rule of thumb:\n",
    "* CPU Time / Wall Time ~ 1. The process spent most of it's time using the CPU. A faster CPU could improve performance.\n",
    "* CPU Time / Wall Time < 1. This suggest the process has spent time waiting. This could be resource allocations, network/hardware IO, locks (to prevent data races) etc. The smaller the number, the more time spent waiting. 0.9 would suggest 10% of the time the CPU is idle.\n",
    "* CPU Time / Wall Time > 1. This suggests that we are utilizing multiple processors when running our code.\n",
    "\n",
    "\n",
    "If we are running with N processors:\n",
    "* CPU Time / Wall Time ~ N. The process is well distributed across all CPUs with little to no idle time.\n",
    "* CPU Time / Wall Time < N. This suggest the process has spent time waiting. This could be resource allocations, network/hardware IO, locks (to prevent data races) etc."
   ]
  },
  {
   "cell_type": "markdown",
   "id": "6a4ca598-b486-4918-aa6c-b1952fe785bf",
   "metadata": {},
   "source": [
    "We can use `%timeit` to time an single line or process, averaging over multiple runs:"
   ]
  },
  {
   "cell_type": "code",
   "execution_count": 32,
   "id": "5b586abd-6f10-4827-a465-5a97cf54a60d",
   "metadata": {},
   "outputs": [
    {
     "name": "stdout",
     "output_type": "stream",
     "text": [
      "This line won't be timed\n",
      "4.14 µs ± 87.6 ns per loop (mean ± std. dev. of 7 runs, 100,000 loops each)\n"
     ]
    }
   ],
   "source": [
    "print (\"This line won't be timed\")\n",
    "# Either will this line\n",
    "test = np.random.random(1000)\n",
    "# This line will be timed\n",
    "%timeit test = np.random.random(1000)"
   ]
  },
  {
   "cell_type": "markdown",
   "id": "e2d156a6-9788-4ca8-8b00-1d463658c426",
   "metadata": {},
   "source": [
    "Or we can use `%time` to time an single line or process, with no averaging:"
   ]
  },
  {
   "cell_type": "code",
   "execution_count": 33,
   "id": "182a4a78-3d20-4908-b369-14c333db68c8",
   "metadata": {},
   "outputs": [
    {
     "name": "stdout",
     "output_type": "stream",
     "text": [
      "This line won't be timed\n",
      "CPU times: user 100 µs, sys: 4 µs, total: 104 µs\n",
      "Wall time: 78.7 µs\n"
     ]
    }
   ],
   "source": [
    "print (\"This line won't be timed\")\n",
    "# Either will this line\n",
    "test = np.random.random(1000)\n",
    "# This line will be timed\n",
    "%time test = np.random.random(1000)"
   ]
  },
  {
   "cell_type": "markdown",
   "id": "ea2a579c-b824-4aa9-866c-10319d18c540",
   "metadata": {},
   "source": [
    "Let's look at comparing two functions. Consider vector addition. In a pure Python, we would use a for loop to iterate over each element. We could also use numpy's inbuild functions to perform the addition/"
   ]
  },
  {
   "cell_type": "code",
   "execution_count": 34,
   "id": "da6cad13-f79f-4268-bb8e-358ce2401a81",
   "metadata": {},
   "outputs": [],
   "source": [
    "def add_two_arrays(a : np.ndarray,b : np.ndarray) -> np.ndarray:\n",
    "    \"\"\"Add two numpy arrays togeter using a for loop\n",
    "\n",
    "    Args:\n",
    "        a : array 1 to be added\n",
    "        b : array 2 to be added\n",
    "\n",
    "    Returns:\n",
    "        array of a + b\n",
    "    \"\"\"\n",
    "    c = np.zeros(len(a))\n",
    "    for i in range(len(a)):\n",
    "        c[i] = a[i] + b[i]\n",
    "    return c\n",
    "\n",
    "def add_two_arrays_numpy(a : np.ndarray, b : np.ndarray) -> np.ndarray:\n",
    "    \"\"\"Add two numpy arrays togeter using vectorization\n",
    "\n",
    "    Args:\n",
    "        a : array 1 to be added\n",
    "        b : array 2 to be added\n",
    "\n",
    "    Returns:\n",
    "        array of a + b\n",
    "    \"\"\"\n",
    "    c = a + b\n",
    "    return c"
   ]
  },
  {
   "cell_type": "code",
   "execution_count": 35,
   "id": "0a2c26bf-4fd9-4ac7-affa-893a01248051",
   "metadata": {},
   "outputs": [
    {
     "name": "stdout",
     "output_type": "stream",
     "text": [
      "Pure Python:\n",
      "155 µs ± 742 ns per loop (mean ± std. dev. of 7 runs, 1,000 loops each)\n",
      "Numpy:\n"
     ]
    },
    {
     "ename": "KeyboardInterrupt",
     "evalue": "",
     "output_type": "error",
     "traceback": [
      "\u001b[0;31m---------------------------------------------------------------------------\u001b[0m",
      "\u001b[0;31mKeyboardInterrupt\u001b[0m                         Traceback (most recent call last)",
      "Cell \u001b[0;32mIn[35], line 7\u001b[0m\n\u001b[1;32m      5\u001b[0m get_ipython()\u001b[38;5;241m.\u001b[39mrun_line_magic(\u001b[38;5;124m'\u001b[39m\u001b[38;5;124mtimeit\u001b[39m\u001b[38;5;124m'\u001b[39m, \u001b[38;5;124m'\u001b[39m\u001b[38;5;124mtest_z = add_two_arrays(test_x, test_y)\u001b[39m\u001b[38;5;124m'\u001b[39m)\n\u001b[1;32m      6\u001b[0m \u001b[38;5;28mprint\u001b[39m(\u001b[38;5;124m\"\u001b[39m\u001b[38;5;124mNumpy:\u001b[39m\u001b[38;5;124m\"\u001b[39m)\n\u001b[0;32m----> 7\u001b[0m \u001b[43mget_ipython\u001b[49m\u001b[43m(\u001b[49m\u001b[43m)\u001b[49m\u001b[38;5;241;43m.\u001b[39;49m\u001b[43mrun_line_magic\u001b[49m\u001b[43m(\u001b[49m\u001b[38;5;124;43m'\u001b[39;49m\u001b[38;5;124;43mtimeit\u001b[39;49m\u001b[38;5;124;43m'\u001b[39;49m\u001b[43m,\u001b[49m\u001b[43m \u001b[49m\u001b[38;5;124;43m'\u001b[39;49m\u001b[38;5;124;43mtest_z = add_two_arrays_numpy(test_x, test_y)\u001b[39;49m\u001b[38;5;124;43m'\u001b[39;49m\u001b[43m)\u001b[49m\n",
      "File \u001b[0;32m~/miniforge3/envs/workshop/lib/python3.10/site-packages/IPython/core/interactiveshell.py:2480\u001b[0m, in \u001b[0;36mInteractiveShell.run_line_magic\u001b[0;34m(self, magic_name, line, _stack_depth)\u001b[0m\n\u001b[1;32m   2478\u001b[0m     kwargs[\u001b[38;5;124m'\u001b[39m\u001b[38;5;124mlocal_ns\u001b[39m\u001b[38;5;124m'\u001b[39m] \u001b[38;5;241m=\u001b[39m \u001b[38;5;28mself\u001b[39m\u001b[38;5;241m.\u001b[39mget_local_scope(stack_depth)\n\u001b[1;32m   2479\u001b[0m \u001b[38;5;28;01mwith\u001b[39;00m \u001b[38;5;28mself\u001b[39m\u001b[38;5;241m.\u001b[39mbuiltin_trap:\n\u001b[0;32m-> 2480\u001b[0m     result \u001b[38;5;241m=\u001b[39m \u001b[43mfn\u001b[49m\u001b[43m(\u001b[49m\u001b[38;5;241;43m*\u001b[39;49m\u001b[43margs\u001b[49m\u001b[43m,\u001b[49m\u001b[43m \u001b[49m\u001b[38;5;241;43m*\u001b[39;49m\u001b[38;5;241;43m*\u001b[39;49m\u001b[43mkwargs\u001b[49m\u001b[43m)\u001b[49m\n\u001b[1;32m   2482\u001b[0m \u001b[38;5;66;03m# The code below prevents the output from being displayed\u001b[39;00m\n\u001b[1;32m   2483\u001b[0m \u001b[38;5;66;03m# when using magics with decorator @output_can_be_silenced\u001b[39;00m\n\u001b[1;32m   2484\u001b[0m \u001b[38;5;66;03m# when the last Python token in the expression is a ';'.\u001b[39;00m\n\u001b[1;32m   2485\u001b[0m \u001b[38;5;28;01mif\u001b[39;00m \u001b[38;5;28mgetattr\u001b[39m(fn, magic\u001b[38;5;241m.\u001b[39mMAGIC_OUTPUT_CAN_BE_SILENCED, \u001b[38;5;28;01mFalse\u001b[39;00m):\n",
      "File \u001b[0;32m~/miniforge3/envs/workshop/lib/python3.10/site-packages/IPython/core/magics/execution.py:1189\u001b[0m, in \u001b[0;36mExecutionMagics.timeit\u001b[0;34m(self, line, cell, local_ns)\u001b[0m\n\u001b[1;32m   1186\u001b[0m         \u001b[38;5;28;01mif\u001b[39;00m time_number \u001b[38;5;241m>\u001b[39m\u001b[38;5;241m=\u001b[39m \u001b[38;5;241m0.2\u001b[39m:\n\u001b[1;32m   1187\u001b[0m             \u001b[38;5;28;01mbreak\u001b[39;00m\n\u001b[0;32m-> 1189\u001b[0m all_runs \u001b[38;5;241m=\u001b[39m \u001b[43mtimer\u001b[49m\u001b[38;5;241;43m.\u001b[39;49m\u001b[43mrepeat\u001b[49m\u001b[43m(\u001b[49m\u001b[43mrepeat\u001b[49m\u001b[43m,\u001b[49m\u001b[43m \u001b[49m\u001b[43mnumber\u001b[49m\u001b[43m)\u001b[49m\n\u001b[1;32m   1190\u001b[0m best \u001b[38;5;241m=\u001b[39m \u001b[38;5;28mmin\u001b[39m(all_runs) \u001b[38;5;241m/\u001b[39m number\n\u001b[1;32m   1191\u001b[0m worst \u001b[38;5;241m=\u001b[39m \u001b[38;5;28mmax\u001b[39m(all_runs) \u001b[38;5;241m/\u001b[39m number\n",
      "File \u001b[0;32m~/miniforge3/envs/workshop/lib/python3.10/timeit.py:206\u001b[0m, in \u001b[0;36mTimer.repeat\u001b[0;34m(self, repeat, number)\u001b[0m\n\u001b[1;32m    204\u001b[0m r \u001b[38;5;241m=\u001b[39m []\n\u001b[1;32m    205\u001b[0m \u001b[38;5;28;01mfor\u001b[39;00m i \u001b[38;5;129;01min\u001b[39;00m \u001b[38;5;28mrange\u001b[39m(repeat):\n\u001b[0;32m--> 206\u001b[0m     t \u001b[38;5;241m=\u001b[39m \u001b[38;5;28;43mself\u001b[39;49m\u001b[38;5;241;43m.\u001b[39;49m\u001b[43mtimeit\u001b[49m\u001b[43m(\u001b[49m\u001b[43mnumber\u001b[49m\u001b[43m)\u001b[49m\n\u001b[1;32m    207\u001b[0m     r\u001b[38;5;241m.\u001b[39mappend(t)\n\u001b[1;32m    208\u001b[0m \u001b[38;5;28;01mreturn\u001b[39;00m r\n",
      "File \u001b[0;32m~/miniforge3/envs/workshop/lib/python3.10/site-packages/IPython/core/magics/execution.py:173\u001b[0m, in \u001b[0;36mTimer.timeit\u001b[0;34m(self, number)\u001b[0m\n\u001b[1;32m    171\u001b[0m gc\u001b[38;5;241m.\u001b[39mdisable()\n\u001b[1;32m    172\u001b[0m \u001b[38;5;28;01mtry\u001b[39;00m:\n\u001b[0;32m--> 173\u001b[0m     timing \u001b[38;5;241m=\u001b[39m \u001b[38;5;28;43mself\u001b[39;49m\u001b[38;5;241;43m.\u001b[39;49m\u001b[43minner\u001b[49m\u001b[43m(\u001b[49m\u001b[43mit\u001b[49m\u001b[43m,\u001b[49m\u001b[43m \u001b[49m\u001b[38;5;28;43mself\u001b[39;49m\u001b[38;5;241;43m.\u001b[39;49m\u001b[43mtimer\u001b[49m\u001b[43m)\u001b[49m\n\u001b[1;32m    174\u001b[0m \u001b[38;5;28;01mfinally\u001b[39;00m:\n\u001b[1;32m    175\u001b[0m     \u001b[38;5;28;01mif\u001b[39;00m gcold:\n",
      "File \u001b[0;32m<magic-timeit>:1\u001b[0m, in \u001b[0;36minner\u001b[0;34m(_it, _timer)\u001b[0m\n",
      "\u001b[0;31mKeyboardInterrupt\u001b[0m: "
     ]
    }
   ],
   "source": [
    "test_x = np.random.random(1000)\n",
    "test_y = np.random.random(1000)\n",
    "\n",
    "print(\"Pure Python:\")\n",
    "%timeit test_z = add_two_arrays(test_x, test_y)\n",
    "print(\"Numpy:\")\n",
    "%timeit test_z = add_two_arrays_numpy(test_x, test_y)\n"
   ]
  },
  {
   "cell_type": "markdown",
   "id": "d6006e35-004d-47f6-9a00-15e643ec4dcd",
   "metadata": {},
   "source": [
    "We see a dramatic improvement by using NumPy arrays to add two vectors together. This is because NumPy is a highly optimized library, with the low-level code written in C++. Is this always the case?"
   ]
  },
  {
   "cell_type": "code",
   "execution_count": null,
   "id": "a147b11d-83ef-475c-ba26-c28427a49a5d",
   "metadata": {},
   "outputs": [],
   "source": [
    "def time_addition(n):\n",
    "    \n",
    "    test_x = np.random.random(n)\n",
    "    test_y = np.random.random(n)\n",
    "    \n",
    "    n_repeat = 10\n",
    "    \n",
    "    # pure python\n",
    "    t_start = time.time()\n",
    "    for _ in range(n_repeat):\n",
    "        _ = add_two_arrays(test_x, test_y)\n",
    "    t_pure = np.median(time.time() - t_start)\n",
    "\n",
    "    # numpy\n",
    "    t_start = time.time()\n",
    "    for _ in range(n_repeat):\n",
    "        _ = add_two_arrays_numpy(test_x, test_y)\n",
    "    t_numpy = np.median(time.time() - t_start)\n",
    "\n",
    "    return t_pure, t_numpy"
   ]
  },
  {
   "cell_type": "code",
   "execution_count": 17,
   "id": "80e9c9c7-3e41-45a3-9afe-dcea69b4e932",
   "metadata": {},
   "outputs": [],
   "source": [
    "n_array = np.arange(20)\n",
    "times_py = np.zeros(n_array.shape)\n",
    "times_np = np.zeros(n_array.shape)\n",
    "\n",
    "for i, n in enumerate(n_array):\n",
    "    times_py[i], times_np[i] = time_addition(int(2**n))\n",
    "\n"
   ]
  },
  {
   "cell_type": "code",
   "execution_count": 18,
   "id": "bd1219be-ab8e-4785-8d36-3695eaca9b93",
   "metadata": {},
   "outputs": [
    {
     "data": {
      "image/png": "[encoded data removed]",
      "text/plain": [
       "<Figure size 640x480 with 1 Axes>"
      ]
     },
     "metadata": {},
     "output_type": "display_data"
    }
   ],
   "source": [
    "plt.plot(2 ** n_array, times_py, \"C0s:\", label = \"Pure Python\")\n",
    "plt.plot(2 ** n_array, times_np, \"C1o--\", label = \"Numpy\")\n",
    "plt.loglog()\n",
    "plt.grid()\n",
    "plt.legend()\n",
    "plt.xlabel(\"Array Length\")\n",
    "plt.ylabel(\"Run Time [s]\");\n",
    "\n"
   ]
  },
  {
   "cell_type": "markdown",
   "id": "804840d6-1c61-44d0-8c51-698906586202",
   "metadata": {},
   "source": [
    "At very small array sizes the performance is comparable. This is likely due to the overhead of calling the low level NumPy code. The NumPy perfomance saturates around $10^2$ - $10^3$ before scaling in a comparatable fashion to pure python, however it is still orders of magnitude faster. This perfomance will be system dependent!\n",
    "\n",
    "It might be easy to assume for the above example that NumPy is always better than pure Python, but this isn't always the case and we should always consider our specific needs.\n",
    "\n",
    "If we where writing code to operate on small (O($10^1$)), we may be faster to use a pure python implementation rather than importing NumPy and introducing an additional overhead.\n"
   ]
  },
  {
   "cell_type": "markdown",
   "id": "644c5d43-49e4-4b7d-87b7-b734ce44b169",
   "metadata": {},
   "source": [
    "## Line profiling\n",
    "\n",
    "Line profiling is a useful tool for finding bottlenecks within a block of code. There are many profilers one can use:\n",
    "* cProfiles\n",
    "* line_profiler\n",
    "* todo get more\n",
    "\n",
    "For this example, we'll use line_profiler\n",
    "```\n",
    "mamba/conda install line_profiler\n",
    "```\n",
    "or \n",
    "\n",
    "```\n",
    "pip install line_profiler\n",
    "```"
   ]
  },
  {
   "cell_type": "markdown",
   "id": "b5f498c6-67e2-471e-a3d0-6ddf9d638c22",
   "metadata": {},
   "source": [
    "Let's look at an expensive function that uses a MC method to estimate $\\pi$.\n",
    "\n",
    "We're going to throw random points $x, y \\in [0,1]$ into a square of length 1. This will give an estimate of the the area of the square:\n",
    "\n",
    "$$ A_{square} \\propto N_{total}$$\n",
    "The area of a circle is given by:\n",
    "$$ A_{circle} = \\pi r^2$$\n",
    "Since we're throwing random numbers in the range $[0,1]$, we will fill a quatre of a circle. \n",
    "$$ A_{circle} \\propto 4 * \\tilde{N_{within}}$$\n",
    "Where $\\tilde{N_{within}}$ is the number of samples within 1 of the origin (or $x^2 + y^2 <1$).\n",
    "\n",
    "Combing these, we can estimate $pi$ as:\n",
    "$$ \\pi \\approx 4 \\frac{N_{within}}{N_{total}}$$\n"
   ]
  },
  {
   "cell_type": "code",
   "execution_count": 37,
   "id": "3b6c7dc2-de88-401f-a721-13a3e3b4d58c",
   "metadata": {},
   "outputs": [],
   "source": [
    "def monte_carlo_pi(nsamples):\n",
    "    acc = 0\n",
    "    for i in range(nsamples):\n",
    "        x = np.random.random()\n",
    "        y = np.random.random()\n",
    "        if (x ** 2 + y ** 2) < 1.0:\n",
    "            acc += 1\n",
    "    return 4.0 * acc / nsamples"
   ]
  },
  {
   "cell_type": "code",
   "execution_count": 38,
   "id": "a0fad3c5-41c1-47eb-8742-a8dd501c5733",
   "metadata": {},
   "outputs": [],
   "source": [
    "n_range = np.arange(7)\n",
    "\n",
    "pi_diff = [np.abs(np.pi - monte_carlo_pi(10**n)) for n in n_range]"
   ]
  },
  {
   "cell_type": "code",
   "execution_count": 39,
   "id": "8aaf8d76-3f22-4649-ab06-2f7669473de2",
   "metadata": {},
   "outputs": [
    {
     "data": {
      "image/png": "[encoded data removed]",
      "text/plain": [
       "<Figure size 640x480 with 1 Axes>"
      ]
     },
     "metadata": {},
     "output_type": "display_data"
    }
   ],
   "source": [
    "plt.plot(10**n_range, pi_diff)\n",
    "plt.xlabel(\"Number of Random Samples\")\n",
    "plt.ylabel(\"$|\\pi_{NumPy} - \\pi_{MC}|$\")\n",
    "plt.grid()\n",
    "plt.xscale('log')\n",
    "#plt.yscale('log')"
   ]
  },
  {
   "cell_type": "markdown",
   "id": "cc36ade8-1913-4bdd-97d6-4331ff0e9b76",
   "metadata": {},
   "source": [
    "We can see that as $N_{total}$ increases we tend to the NumPy value of $\\pi$. We obtain deminising returns at around $10^4$ samples. Let's choose this as our benchmark point."
   ]
  },
  {
   "cell_type": "code",
   "execution_count": 40,
   "id": "4e449c68-638b-458e-a045-48b0c8633c87",
   "metadata": {},
   "outputs": [],
   "source": [
    "n_total = 10 ** 4"
   ]
  },
  {
   "cell_type": "markdown",
   "id": "86a24882-812a-4796-a977-a9e460e931bf",
   "metadata": {},
   "source": [
    "How long does this take to run?"
   ]
  },
  {
   "cell_type": "code",
   "execution_count": 41,
   "id": "ad64d980-42de-407c-bed9-15f89a75ffd0",
   "metadata": {},
   "outputs": [
    {
     "name": "stdout",
     "output_type": "stream",
     "text": [
      "6.14 ms ± 51.1 µs per loop (mean ± std. dev. of 7 runs, 100 loops each)\n"
     ]
    }
   ],
   "source": [
    "%timeit monte_carlo_pi(n_total)"
   ]
  },
  {
   "cell_type": "code",
   "execution_count": 42,
   "id": "6271e4d9-9a72-4caa-9950-9f499d8cd404",
   "metadata": {},
   "outputs": [],
   "source": [
    "n_run = 100\n",
    "n_repeat = 10\n",
    "t_original = np.array(\n",
    "    timeit.repeat(f\"monte_carlo_pi({n_total})\", \"from __main__ import monte_carlo_pi\", repeat = n_repeat,  number = n_run)\n",
    ") / n_run"
   ]
  },
  {
   "cell_type": "code",
   "execution_count": 43,
   "id": "3b1ee721-efaf-4329-876d-927d9bc026de",
   "metadata": {},
   "outputs": [
    {
     "name": "stdout",
     "output_type": "stream",
     "text": [
      "Original Runtime =  6.36e-03 +/- 5.86e-04 s\n"
     ]
    }
   ],
   "source": [
    "print(f\"Original Runtime = {np.mean(t_original) : 0.2e} +/- {np.std(t_original) :0.2e} s\") "
   ]
  },
  {
   "cell_type": "markdown",
   "id": "cddf05bf-3faa-4026-9ec0-cd32386c14ea",
   "metadata": {},
   "source": [
    "If we want to speed up this calculation, we should first find what is the major bottleneck."
   ]
  },
  {
   "cell_type": "code",
   "execution_count": 45,
   "id": "caa78aee-0c1d-4f8f-94b8-65f57d1a7098",
   "metadata": {},
   "outputs": [
    {
     "name": "stdout",
     "output_type": "stream",
     "text": [
      "The line_profiler extension is already loaded. To reload it, use:\n",
      "  %reload_ext line_profiler\n"
     ]
    }
   ],
   "source": [
    "%load_ext line_profiler"
   ]
  },
  {
   "cell_type": "code",
   "execution_count": 46,
   "id": "b3ec125d-50ea-41a3-9a92-913c711823ae",
   "metadata": {},
   "outputs": [
    {
     "data": {
      "text/plain": [
       "Timer unit: 1e-09 s\n",
       "\n",
       "Total time: 0.0180272 s\n",
       "File: /tmp/ipykernel_235029/1024659408.py\n",
       "Function: monte_carlo_pi at line 1\n",
       "\n",
       "Line #      Hits         Time  Per Hit   % Time  Line Contents\n",
       "==============================================================\n",
       "     1                                           def monte_carlo_pi(nsamples):\n",
       "     2         1        852.0    852.0      0.0      acc = 0\n",
       "     3     10001    1441541.0    144.1      8.0      for i in range(nsamples):\n",
       "     4     10000    5764246.0    576.4     32.0          x = np.random.random()\n",
       "     5     10000    5585385.0    558.5     31.0          y = np.random.random()\n",
       "     6     10000    3567354.0    356.7     19.8          if (x ** 2 + y ** 2) < 1.0:\n",
       "     7      7911    1666182.0    210.6      9.2              acc += 1\n",
       "     8         1       1623.0   1623.0      0.0      return 4.0 * acc / nsamples"
      ]
     },
     "metadata": {},
     "output_type": "display_data"
    }
   ],
   "source": [
    "%lprun -f monte_carlo_pi monte_carlo_pi(n_total)"
   ]
  },
  {
   "cell_type": "markdown",
   "id": "8af62df4-c66d-40d7-8756-7dceb9ca2a3a",
   "metadata": {},
   "source": [
    "The above shows a breakdown of where we're spending time. We have each line of the function broken down. We can see that the allocations of `acc` and the return of `4.0 * acc / nsamples` are expensive operations, but this only happens once per execution. Since these only happen once there may be some \"noise\" effecting these estimates. \n",
    "\n",
    "`for i in range(nsamples):` takes 8% of our time. This is pretty significant. Python is also nutoriously bad at looping. If we can avoid looping in Python we should.\n",
    "\n",
    "We also see that `acc += 1` doesn't happen every iteration, and we spend ~20% of our time checking `if (x ** 2 + y ** 2) < 1.0`. We can see that the dominate part of the time is spent generating random numbers (`x/y = np.random.random()`) which takes ~60% of the run time. \n",
    "\n",
    "If we were looking to speed up this function, we should work target the most expensive parts first, this would suggest targeting:\n",
    "```\n",
    "        x = np.random.random()\n",
    "        y = np.random.random()\n",
    "        if (x ** 2 + y ** 2) < 1.0:\n",
    "```\n",
    "Which constitutes 80% or our run time. Since these are ran 10000 times, it might make more sense to somehow only run this once. But how..."
   ]
  },
  {
   "cell_type": "code",
   "execution_count": 47,
   "id": "d9b1264e-0894-4c42-92a5-25b9bdfad09c",
   "metadata": {},
   "outputs": [],
   "source": [
    "def monte_carlo_pi_pure_numpy(nsamples):\n",
    "    # Create random arrays with required number of samples\n",
    "    # Use the highly optimized numpy functions instead of for loop\n",
    "    x = np.random.random(nsamples)\n",
    "    y = np.random.random(nsamples)\n",
    "    # Do the filtering and calculation in the one line\n",
    "    return 4.0 *np.sum((x ** 2 + y ** 2) < 1.0) / nsamples"
   ]
  },
  {
   "cell_type": "code",
   "execution_count": 48,
   "id": "1c9ce2ae-8651-46ef-8e5e-b8d1bdec1f5a",
   "metadata": {},
   "outputs": [
    {
     "name": "stdout",
     "output_type": "stream",
     "text": [
      "90.5 µs ± 3.92 µs per loop (mean ± std. dev. of 7 runs, 10,000 loops each)\n"
     ]
    }
   ],
   "source": [
    "%timeit monte_carlo_pi_pure_numpy(n_total)"
   ]
  },
  {
   "cell_type": "code",
   "execution_count": 31,
   "id": "32c21ad4-fe78-4611-80ac-772c49e336ed",
   "metadata": {},
   "outputs": [
    {
     "data": {
      "text/plain": [
       "array([1.30074857e-04, 1.22065353e-04, 8.42903380e-05, 8.41132850e-05,\n",
       "       8.37166480e-05, 8.39098730e-05, 8.36135550e-05, 8.34919960e-05,\n",
       "       8.35091390e-05, 8.30124940e-05])"
      ]
     },
     "execution_count": 31,
     "metadata": {},
     "output_type": "execute_result"
    }
   ],
   "source": [
    "n_run = 1000\n",
    "n_repeat = 10\n",
    "t_optimized = np.array(\n",
    "    timeit.repeat(f\"monte_carlo_pi_pure_numpy({n_total})\", \"from __main__ import monte_carlo_pi_pure_numpy\", repeat = n_repeat,  number = n_run)\n",
    ") / n_run\n",
    "t_optimized"
   ]
  },
  {
   "cell_type": "code",
   "execution_count": 32,
   "id": "651d53d0-51b2-4412-916f-2a2798c9c692",
   "metadata": {},
   "outputs": [
    {
     "name": "stdout",
     "output_type": "stream",
     "text": [
      "Optimized Runtime =  9.22e-05 +/- 1.70e-05 s\n"
     ]
    }
   ],
   "source": [
    "print(f\"Optimized Runtime = {np.mean(t_optimized) : 0.2e} +/- {np.std(t_optimized) :0.2e} s\") "
   ]
  },
  {
   "cell_type": "code",
   "execution_count": 52,
   "id": "3d16c5a7-9104-47b6-a7d8-f0eff3f32fa8",
   "metadata": {},
   "outputs": [
    {
     "data": {
      "text/plain": [
       "Timer unit: 1e-09 s\n",
       "\n",
       "Total time: 0.000826387 s\n",
       "File: /tmp/ipykernel_235029/764224049.py\n",
       "Function: monte_carlo_pi_pure_numpy at line 1\n",
       "\n",
       "Line #      Hits         Time  Per Hit   % Time  Line Contents\n",
       "==============================================================\n",
       "     1                                           def monte_carlo_pi_pure_numpy(nsamples):\n",
       "     2                                               # Create random arrays with required number of samples\n",
       "     3                                               # Use the highly optimized numpy functions instead of for loop\n",
       "     4         1     184658.0 184658.0     22.3      x = np.random.random(nsamples)\n",
       "     5         1     180490.0 180490.0     21.8      y = np.random.random(nsamples)\n",
       "     6                                               # Do the filtering and calculation in the one line\n",
       "     7         1     461239.0 461239.0     55.8      return 4.0 *np.sum((x ** 2 + y ** 2) < 1.0) / nsamples"
      ]
     },
     "metadata": {},
     "output_type": "display_data"
    }
   ],
   "source": [
    "%lprun -f monte_carlo_pi_pure_numpy monte_carlo_pi_pure_numpy(n_total)"
   ]
  },
  {
   "cell_type": "code",
   "execution_count": 37,
   "id": "ab481976-7533-40c2-b986-27c5701a510e",
   "metadata": {},
   "outputs": [
    {
     "name": "stdout",
     "output_type": "stream",
     "text": [
      "Optmization speeds up the code by a factor of 65.55\n"
     ]
    }
   ],
   "source": [
    "speedup =  np.mean(t_original) / np.mean(t_optimized)\n",
    "print (f\"Optmization speeds up the code by a factor of {speedup:0.2f}\")"
   ]
  },
  {
   "cell_type": "markdown",
   "id": "820959f7-744c-482c-ac07-d2e2d0b8517a",
   "metadata": {},
   "source": [
    "## Can we do better?\n",
    "\n",
    "We're already using highly optimized NumPy which is based on C/C++ code. However we're still interpting slow bytecode at run time and running on one core."
   ]
  },
  {
   "cell_type": "code",
   "execution_count": 41,
   "id": "3d91d4ee-33c9-4083-9c39-e2ae7008e186",
   "metadata": {},
   "outputs": [],
   "source": [
    "# !pip install numba"
   ]
  },
  {
   "cell_type": "code",
   "execution_count": 53,
   "id": "ca462a87-8e96-450f-9a1b-c4f47dfecaa9",
   "metadata": {},
   "outputs": [],
   "source": [
    "from numba import jit"
   ]
  },
  {
   "cell_type": "code",
   "execution_count": 54,
   "id": "f127d076-75a1-44d4-bfe6-c70390fe0cb0",
   "metadata": {},
   "outputs": [],
   "source": [
    "@jit\n",
    "def monte_carlo_pi_pure_numpy_jit(nsamples):\n",
    "    # Create random arrays with required number of samples\n",
    "    # Use the highly optimized numpy functions instead of for loop\n",
    "    x = np.random.random(nsamples)\n",
    "    y = np.random.random(nsamples)\n",
    "    # Do the filtering and calculation in the one line\n",
    "    return 4.0 *np.sum((x ** 2 + y ** 2) < 1.0) / nsamples"
   ]
  },
  {
   "cell_type": "code",
   "execution_count": 55,
   "id": "1d7138b9-7329-4d9a-8649-389fa6183986",
   "metadata": {},
   "outputs": [
    {
     "name": "stdout",
     "output_type": "stream",
     "text": [
      "This took 0.818145751953125s\n"
     ]
    }
   ],
   "source": [
    "t1 = time.time()\n",
    "monte_carlo_pi_pure_numpy_jit(n_total)\n",
    "telap = time.time() - t1\n",
    "print (f\"This took {telap}s\")"
   ]
  },
  {
   "cell_type": "code",
   "execution_count": 56,
   "id": "922cf891-0c98-44b1-a917-2bc4fb6aef2a",
   "metadata": {},
   "outputs": [
    {
     "name": "stdout",
     "output_type": "stream",
     "text": [
      "This took 0.00010251998901367188s\n"
     ]
    }
   ],
   "source": [
    "t1 = time.time()\n",
    "monte_carlo_pi_pure_numpy_jit(n_total)\n",
    "telap = time.time() - t1\n",
    "print (f\"This took {telap}s\")"
   ]
  },
  {
   "cell_type": "code",
   "execution_count": 57,
   "id": "f2c66207-94f4-4a14-889c-4212fecd40ad",
   "metadata": {},
   "outputs": [],
   "source": [
    "n_run = 1000\n",
    "n_repeat = 10\n",
    "t_jitted = np.array(\n",
    "    timeit.repeat(f\"monte_carlo_pi_pure_numpy_jit({n_total})\", \"from __main__ import monte_carlo_pi_pure_numpy_jit\", repeat = n_repeat,  number = n_run)\n",
    ") / n_run\n",
    "# t_jitted"
   ]
  },
  {
   "cell_type": "code",
   "execution_count": 58,
   "id": "6b04ac5a-c8b0-4898-8fb8-a1c3a3f5f6a2",
   "metadata": {},
   "outputs": [
    {
     "name": "stdout",
     "output_type": "stream",
     "text": [
      "jitted Runtime =  6.72e-05 +/- 1.59e-05 s\n"
     ]
    }
   ],
   "source": [
    "print(f\"jitted Runtime = {np.mean(t_jitted) : 0.2e} +/- {np.std(t_jitted) :0.2e} s\") "
   ]
  },
  {
   "cell_type": "code",
   "execution_count": 60,
   "id": "2fe1c157-b65b-4c48-a196-4f0cd618b85e",
   "metadata": {},
   "outputs": [
    {
     "name": "stdout",
     "output_type": "stream",
     "text": [
      "Optmization speeds up the code by a factor of 94.69\n"
     ]
    }
   ],
   "source": [
    "speedup =  np.mean(t_original) / np.mean(t_jitted)\n",
    "print (f\"Optmization speeds up the code by a factor of {speedup:0.2f}\")"
   ]
  },
  {
   "cell_type": "code",
   "execution_count": 61,
   "id": "65eb5cde-a37f-4e2e-a60c-40be34f35944",
   "metadata": {},
   "outputs": [],
   "source": [
    "@jit( parallel = True )\n",
    "def monte_carlo_pi_pure_numpy_jit_parallel(nsamples):\n",
    "    # Create random arrays with required number of samples\n",
    "    # Use the highly optimized numpy functions instead of for loop\n",
    "    x = np.random.random(nsamples)\n",
    "    y = np.random.random(nsamples)\n",
    "    # Do the filtering and calculation in the one line\n",
    "    return 4.0 *np.sum((x ** 2 + y ** 2) < 1.0) / nsamples"
   ]
  },
  {
   "cell_type": "code",
   "execution_count": 62,
   "id": "a9c6e170-fb03-4bd6-a619-b91781bfb157",
   "metadata": {},
   "outputs": [
    {
     "name": "stdout",
     "output_type": "stream",
     "text": [
      "This took 0.7153468132019043s\n"
     ]
    }
   ],
   "source": [
    "t1 = time.time()\n",
    "monte_carlo_pi_pure_numpy_jit_parallel(n_total)\n",
    "telap = time.time() - t1\n",
    "print (f\"This took {telap}s\")"
   ]
  },
  {
   "cell_type": "code",
   "execution_count": 63,
   "id": "c5ba585b-a3d2-46a1-83d3-4febcf7fc9d6",
   "metadata": {},
   "outputs": [
    {
     "data": {
      "text/plain": [
       "array([3.53246284e-05, 1.69790315e-05, 2.01592582e-05, 2.66108533e-05,\n",
       "       6.16496429e-05, 2.76365722e-05, 3.48632386e-05, 1.14208586e-05,\n",
       "       1.32643553e-05, 1.14757513e-05])"
      ]
     },
     "execution_count": 63,
     "metadata": {},
     "output_type": "execute_result"
    }
   ],
   "source": [
    "n_run = 10000\n",
    "n_repeat = 10\n",
    "t_jitted_parallel = np.array(\n",
    "    timeit.repeat(f\"monte_carlo_pi_pure_numpy_jit_parallel({n_total})\", \"from __main__ import monte_carlo_pi_pure_numpy_jit_parallel\", repeat = n_repeat,  number = n_run)\n",
    ") / n_run\n",
    "t_jitted_parallel"
   ]
  },
  {
   "cell_type": "code",
   "execution_count": 64,
   "id": "83798bb3-f3b4-42e3-8004-a76db3988adf",
   "metadata": {},
   "outputs": [
    {
     "name": "stdout",
     "output_type": "stream",
     "text": [
      "jitted parallel Runtime =  2.59e-05 +/- 1.46e-05 s\n"
     ]
    }
   ],
   "source": [
    "print(f\"jitted parallel Runtime = {np.mean(t_jitted_parallel) : 0.2e} +/- {np.std(t_jitted_parallel) :0.2e} s\") "
   ]
  },
  {
   "cell_type": "code",
   "execution_count": 65,
   "id": "201b22a5-f945-469a-b235-bbe0ac2f89c2",
   "metadata": {},
   "outputs": [
    {
     "name": "stdout",
     "output_type": "stream",
     "text": [
      "Optmization speeds up the code by a factor of 245.19\n"
     ]
    }
   ],
   "source": [
    "speedup =  np.mean(t_original) / np.mean(t_jitted_parallel)\n",
    "print (f\"Optmization speeds up the code by a factor of {speedup:0.2f}\")"
   ]
  },
  {
   "cell_type": "code",
   "execution_count": 66,
   "id": "f2aa9e9c-bd79-49a2-addc-97e966bfd858",
   "metadata": {},
   "outputs": [],
   "source": [
    "@jit( parallel = True, nopython = True)\n",
    "def monte_carlo_pi_pure_numpy_jit_parallel_nopython(nsamples):\n",
    "    # Create random arrays with required number of samples\n",
    "    # Use the highly optimized numpy functions instead of for loop\n",
    "    x = np.random.random(nsamples)\n",
    "    y = np.random.random(nsamples)\n",
    "    # Do the filtering and calculation in the one line\n",
    "    return 4.0 *np.sum((x ** 2 + y ** 2) < 1.0) / nsamples"
   ]
  },
  {
   "cell_type": "code",
   "execution_count": 67,
   "id": "6d06127a-50f0-4dec-9438-d259c1708268",
   "metadata": {},
   "outputs": [
    {
     "name": "stdout",
     "output_type": "stream",
     "text": [
      "This took 0.31411242485046387s\n"
     ]
    }
   ],
   "source": [
    "t1 = time.time()\n",
    "monte_carlo_pi_pure_numpy_jit_parallel_nopython(n_total)\n",
    "telap = time.time() - t1\n",
    "print (f\"This took {telap}s\")"
   ]
  },
  {
   "cell_type": "code",
   "execution_count": 68,
   "id": "aa8f2a55-45ce-4caa-94fd-91769be3166a",
   "metadata": {},
   "outputs": [
    {
     "data": {
      "text/plain": [
       "array([3.03248594e-05, 1.24157844e-05, 1.27079011e-05, 1.13436051e-05,\n",
       "       1.17766736e-05, 3.14462926e-05, 1.97302514e-05, 1.40485196e-05,\n",
       "       1.42128084e-05, 1.49775431e-05])"
      ]
     },
     "execution_count": 68,
     "metadata": {},
     "output_type": "execute_result"
    }
   ],
   "source": [
    "n_run = 10000\n",
    "n_repeat = 10\n",
    "t_jitted_parallel_nopython = np.array(\n",
    "    timeit.repeat(f\"monte_carlo_pi_pure_numpy_jit_parallel_nopython({n_total})\", \"from __main__ import monte_carlo_pi_pure_numpy_jit_parallel_nopython\", repeat = n_repeat,  number = n_run)\n",
    ") / n_run\n",
    "t_jitted_parallel_nopython"
   ]
  },
  {
   "cell_type": "code",
   "execution_count": 69,
   "id": "90e268ad-42df-4149-b9c0-41946926030e",
   "metadata": {},
   "outputs": [
    {
     "name": "stdout",
     "output_type": "stream",
     "text": [
      "jitted parallel no python Runtime =  1.73e-05 +/- 7.16e-06 s\n"
     ]
    }
   ],
   "source": [
    "print(f\"jitted parallel no python Runtime = {np.mean(t_jitted_parallel_nopython) : 0.2e} +/- {np.std(t_jitted_parallel_nopython) :0.2e} s\") "
   ]
  },
  {
   "cell_type": "code",
   "execution_count": 70,
   "id": "40d9cfd9-4214-4982-9b70-682bde980bbc",
   "metadata": {},
   "outputs": [
    {
     "name": "stdout",
     "output_type": "stream",
     "text": [
      "Optmization speeds up the code by a factor of 367.65\n"
     ]
    }
   ],
   "source": [
    "speedup =  np.mean(t_original) / np.mean(t_jitted_parallel_nopython)\n",
    "print (f\"Optmization speeds up the code by a factor of {speedup:0.2f}\")"
   ]
  },
  {
   "cell_type": "code",
   "execution_count": 71,
   "id": "e385781e-0b2b-4eda-a78e-d877bb271c3d",
   "metadata": {},
   "outputs": [],
   "source": [
    "from numba import prange\n",
    "@jit(nopython = True, parallel = True)\n",
    "def monte_carlo_pi_revisit(nsamples):\n",
    "    acc = 0\n",
    "    for i in prange(nsamples):\n",
    "        x = np.random.random()\n",
    "        y = np.random.random()\n",
    "        if (x ** 2 + y ** 2) < 1.0:\n",
    "            acc += 1\n",
    "    return 4.0 * acc / nsamples"
   ]
  },
  {
   "cell_type": "code",
   "execution_count": 72,
   "id": "9a056dbf-ea1f-4604-baa8-05e76bfca48c",
   "metadata": {},
   "outputs": [
    {
     "name": "stdout",
     "output_type": "stream",
     "text": [
      "This took 0.2649538516998291s\n"
     ]
    }
   ],
   "source": [
    "t1 = time.time()\n",
    "monte_carlo_pi_revisit(n_total)\n",
    "telap = time.time() - t1\n",
    "print (f\"This took {telap}s\")"
   ]
  },
  {
   "cell_type": "code",
   "execution_count": 73,
   "id": "ad78c7ad-ea2f-4ed6-9a39-fa8b2d78e5f8",
   "metadata": {},
   "outputs": [
    {
     "data": {
      "text/plain": [
       "array([1.48544039e-05, 1.88295904e-05, 1.98919663e-05, 1.77156133e-05,\n",
       "       1.22228075e-05, 1.14322552e-05, 1.59235416e-05, 1.14099232e-05,\n",
       "       4.08112965e-05, 4.06835035e-05])"
      ]
     },
     "execution_count": 73,
     "metadata": {},
     "output_type": "execute_result"
    }
   ],
   "source": [
    "n_run = 10000\n",
    "n_repeat = 10\n",
    "t_jitted_revisit = np.array(\n",
    "    timeit.repeat(f\"monte_carlo_pi_revisit({n_total})\", \"from __main__ import monte_carlo_pi_revisit\", repeat = n_repeat,  number = n_run)\n",
    ") / n_run\n",
    "t_jitted_revisit"
   ]
  },
  {
   "cell_type": "code",
   "execution_count": 74,
   "id": "7032d1a8-e0dc-48aa-97b4-77d897d4d832",
   "metadata": {},
   "outputs": [
    {
     "name": "stdout",
     "output_type": "stream",
     "text": [
      "jitted parallel no python Runtime =  2.04e-05 +/- 1.06e-05 s\n"
     ]
    }
   ],
   "source": [
    "print(f\"jitted parallel no python Runtime = {np.mean(t_jitted_revisit) : 0.2e} +/- {np.std(t_jitted_revisit) :0.2e} s\") "
   ]
  },
  {
   "cell_type": "code",
   "execution_count": 75,
   "id": "ea0a2411-16f4-4e6b-9383-2ff2f88d3518",
   "metadata": {},
   "outputs": [
    {
     "name": "stdout",
     "output_type": "stream",
     "text": [
      "Optmization speeds up the code by a factor of 312.10\n"
     ]
    }
   ],
   "source": [
    "speedup =  np.mean(t_original) / np.mean(t_jitted_revisit)\n",
    "print (f\"Optmization speeds up the code by a factor of {speedup:0.2f}\")"
   ]
  },
  {
   "cell_type": "markdown",
   "id": "c060b4b0-1c63-46e3-b457-2e223556ece8",
   "metadata": {},
   "source": [
    "### Summary\n",
    "\n",
    "We've looked at both how to speed up a simple function by first using pure NumPy, then moving to compiled versions, before moving to a parallel implementation:"
   ]
  },
  {
   "cell_type": "code",
   "execution_count": 77,
   "id": "513afc0d-b05a-4bf9-a7f7-1fc81b1932a0",
   "metadata": {},
   "outputs": [
    {
     "name": "stdout",
     "output_type": "stream",
     "text": [
      "Compiled NumPy speeds up the code by a factor of 94.69\n",
      "Parallel annd compiled NumPy speeds up the code by a factor of 245.19\n",
      "Parallel annd compiled NumPy with 'no python' speeds up the code by a factor of 367.65\n",
      "Parallel and complied python speeds up the code by a factor of 312.10\n"
     ]
    }
   ],
   "source": [
    "# speedup =  np.mean(t_original) / np.mean(t_optimized)\n",
    "# print (f\"Pure NumPy speeds up the code by a factor of {speedup:0.2f}\")\n",
    "\n",
    "speedup =  np.mean(t_original) / np.mean(t_jitted)\n",
    "print (f\"Compiled NumPy speeds up the code by a factor of {speedup:0.2f}\")\n",
    "\n",
    "speedup =  np.mean(t_original) / np.mean(t_jitted_parallel)\n",
    "print (f\"Parallel annd compiled NumPy speeds up the code by a factor of {speedup:0.2f}\")\n",
    "\n",
    "speedup =  np.mean(t_original) / np.mean(t_jitted_parallel_nopython)\n",
    "print (f\"Parallel annd compiled NumPy with 'no python' speeds up the code by a factor of {speedup:0.2f}\")\n",
    "\n",
    "speedup =  np.mean(t_original) / np.mean(t_jitted_revisit)\n",
    "print (f\"Parallel and complied python speeds up the code by a factor of {speedup:0.2f}\")"
   ]
  },
  {
   "cell_type": "markdown",
   "id": "e245e310-64fb-4f17-b3a2-4c46380984b3",
   "metadata": {},
   "source": [
    "The compiled and parallel implementations offer the best performance. If we don't have access to a multi-core system, we achieve x100 performace by simply compiling the function with numba and jit. "
   ]
  },
  {
   "cell_type": "markdown",
   "id": "89c3ed07-9dd6-41ae-b086-5eb38dfcb825",
   "metadata": {},
   "source": [
    "## Memory Profiling\n",
    "\n",
    "So far we've only considered the run time performance. This is only one aspect of performance. Memory usage is often a limiting factor in performance. \n",
    "\n",
    "We can use the `memory_profile` to profile the memory of our code. This works by sampling the memory usage at intervals while the code is running.\n",
    "\n",
    "Similar to `%%timeit` and `%timeit` we can use `%%memit` and `%memit` to get the memory usage of a cell and a single line."
   ]
  },
  {
   "cell_type": "code",
   "execution_count": 171,
   "id": "bf0791e1-5da2-42ef-b948-d6634a8ccc2e",
   "metadata": {
    "scrolled": true
   },
   "outputs": [],
   "source": [
    "# if you have issues with async switch to v0.61\n",
    "# pip install memory_profiler==0.61"
   ]
  },
  {
   "cell_type": "code",
   "execution_count": 17,
   "id": "6139050c-30c7-4ff6-be25-5393373270ea",
   "metadata": {},
   "outputs": [
    {
     "name": "stdout",
     "output_type": "stream",
     "text": [
      "The memory_profiler extension is already loaded. To reload it, use:\n",
      "  %reload_ext memory_profiler\n",
      "The autoreload extension is already loaded. To reload it, use:\n",
      "  %reload_ext autoreload\n"
     ]
    }
   ],
   "source": [
    "%load_ext memory_profiler\n",
    "# to automatically reload changed files\n",
    "%load_ext autoreload\n",
    "%autoreload 2"
   ]
  },
  {
   "cell_type": "code",
   "execution_count": 18,
   "id": "713cc2f9-b66e-4fa5-aafd-e2978d622b96",
   "metadata": {},
   "outputs": [
    {
     "name": "stdout",
     "output_type": "stream",
     "text": [
      "peak memory: 780.84 MiB, increment: 324.75 MiB\n"
     ]
    }
   ],
   "source": [
    "%memit big_array = [i for i in range(10**7)]"
   ]
  },
  {
   "cell_type": "markdown",
   "id": "76cf447c-daad-43e4-a9a0-6cde0a975a13",
   "metadata": {},
   "source": [
    "If we want to try and find what processes are using a lot of memory, we can line profile a function."
   ]
  },
  {
   "cell_type": "code",
   "execution_count": 19,
   "id": "ffe46f9d-25ba-484f-a17e-2af770b2dc6a",
   "metadata": {},
   "outputs": [
    {
     "name": "stdout",
     "output_type": "stream",
     "text": [
      "Overwriting function_to_profile.py\n"
     ]
    }
   ],
   "source": [
    "%%writefile function_to_profile.py\n",
    "import time\n",
    "\n",
    "def expensive_function():\n",
    "    \n",
    "    x = [ 120 for i in range(100) ]\n",
    "    b = [ x * 100 for i in range(1000) ]\n",
    "    big_list = [ i for i in range(10**5) ]\n",
    "    another_big_list = [ i for i in range(10**5) ]\n",
    "    time.sleep(0.01)\n",
    "\n",
    "    x = [ 42 for i in range(1000) ] "
   ]
  },
  {
   "cell_type": "code",
   "execution_count": 20,
   "id": "0bf23c61-ad3d-4697-a944-9f59e7ea603b",
   "metadata": {},
   "outputs": [
    {
     "name": "stdout",
     "output_type": "stream",
     "text": [
      "\n"
     ]
    },
    {
     "data": {
      "text/plain": [
       "Filename: /home/obriens/Documents/websites/mcgill_site/docs/Tutorials/Python/function_to_profile.py\n",
       "\n",
       "Line #    Mem usage    Increment  Occurrences   Line Contents\n",
       "=============================================================\n",
       "     3    455.5 MiB    455.5 MiB           1   def expensive_function():\n",
       "     4                                             \n",
       "     5    455.5 MiB      0.0 MiB         103       x = [ 120 for i in range(100) ]\n",
       "     6    531.0 MiB     75.5 MiB        1003       b = [ x * 100 for i in range(1000) ]\n",
       "     7    533.7 MiB      2.6 MiB      100003       big_list = [ i for i in range(10**5) ]\n",
       "     8    538.0 MiB      4.4 MiB      100003       another_big_list = [ i for i in range(10**5) ]\n",
       "     9    538.0 MiB      0.0 MiB           1       time.sleep(0.01)\n",
       "    10                                         \n",
       "    11    538.0 MiB      0.0 MiB        1003       x = [ 42 for i in range(1000) ]"
      ]
     },
     "metadata": {},
     "output_type": "display_data"
    }
   ],
   "source": [
    "from function_to_profile import expensive_function\n",
    "%mprun -f expensive_function expensive_function()"
   ]
  },
  {
   "cell_type": "markdown",
   "id": "9c7dd6c2-6644-4970-bf4e-74e6d549d058",
   "metadata": {},
   "source": [
    "This can often be difficult to parse and understand, in a jupyter notebook. I prefer to use `memory_profiler` via the command line interface (which we can still call from jupyter!)."
   ]
  },
  {
   "cell_type": "code",
   "execution_count": 1,
   "id": "bd858328-97ac-4383-87ec-89eca507616d",
   "metadata": {},
   "outputs": [
    {
     "name": "stdout",
     "output_type": "stream",
     "text": [
      "Overwriting initial_code.py\n"
     ]
    }
   ],
   "source": [
    "%%writefile initial_code.py\n",
    "\n",
    "import numpy as np\n",
    "import pandas as pd\n",
    "import time\n",
    "\n",
    "@profile\n",
    "def load_data():\n",
    "    df = pd.read_csv(\"./gaia3.csv\")\n",
    "    return df\n",
    "\n",
    "@profile\n",
    "def filter_data(df):\n",
    "    parallax = df[\"parallax\"]\n",
    "    parallax_err = df[\"parallax_over_error\"]\n",
    "    good_mask = parallax_err > 20\n",
    "    return good_mask\n",
    "    \n",
    "@profile\n",
    "def get_distance(df):\n",
    "    distance = 1./ (df[\"parallax\"] * 1e-3)\n",
    "    return distance\n",
    "\n",
    "@profile\n",
    "def assign_distance(df, distance):\n",
    "    df[\"distance\"] = distance\n",
    "\n",
    "\n",
    "\n",
    "@profile\n",
    "def filter_distance(df):\n",
    "    distance = df[\"distance\"]\n",
    "    good_mask = distance < 10\n",
    "    return good_mask\n",
    "\n",
    "\n",
    "@profile\n",
    "def apply_filter(df, data_filter):\n",
    "    data = df[data_filter]\n",
    "    return data\n",
    "\n",
    "\n",
    "\n",
    "if __name__ == '__main__':\n",
    "\n",
    "    data = load_data()\n",
    "    time.sleep(0.1)\n",
    "    \n",
    "    data_filter = filter_data(data)\n",
    "    time.sleep(0.1)\n",
    "    \n",
    "    data_filtered = apply_filter(data, data_filter)\n",
    "    time.sleep(0.1)\n",
    "    \n",
    "    distance = get_distance(data_filtered)\n",
    "    time.sleep(0.1)\n",
    "    \n",
    "    assign_distance(data_filtered, distance)\n",
    "    time.sleep(0.1)\n",
    "    \n",
    "    distance_filter = filter_distance(data_filtered)\n",
    "    time.sleep(0.1)\n",
    "    \n",
    "    data_10pc = apply_filter(data_filtered, distance_filter)\n",
    "    time.sleep(0.1)\n",
    "\n",
    "\n"
   ]
  },
  {
   "cell_type": "code",
   "execution_count": 2,
   "id": "8dc8a4ea-f5bf-4a58-81ab-70c7156a534e",
   "metadata": {},
   "outputs": [
    {
     "name": "stdout",
     "output_type": "stream",
     "text": [
      "mprof: Sampling memory every 0.005s\n",
      "running new process\n",
      "running as a Python program...\n",
      "initial_code.py:25: SettingWithCopyWarning: \n",
      "A value is trying to be set on a copy of a slice from a DataFrame.\n",
      "Try using .loc[row_indexer,col_indexer] = value instead\n",
      "\n",
      "See the caveats in the documentation: https://pandas.pydata.org/pandas-docs/stable/user_guide/indexing.html#returning-a-view-versus-a-copy\n",
      "  df[\"distance\"] = distance\n",
      "Using last profile data.\n"
     ]
    }
   ],
   "source": [
    "!mprof run --interval 0.005 --python python initial_code.py\n",
    "!mprof plot --output initial_code_profile.png"
   ]
  },
  {
   "cell_type": "code",
   "execution_count": 3,
   "id": "dac2779e-7873-492c-af92-0426ced79f37",
   "metadata": {},
   "outputs": [],
   "source": [
    "from IPython.display import Image, display"
   ]
  },
  {
   "cell_type": "code",
   "execution_count": 4,
   "id": "a08e10a4-2046-4853-baca-f8ed8ddabef3",
   "metadata": {},
   "outputs": [
    {
     "data": {
      "image/png": "[encoded data removed]",
      "text/plain": [
       "<IPython.core.display.Image object>"
      ]
     },
     "metadata": {},
     "output_type": "display_data"
    }
   ],
   "source": [
    "display(Image(\"./initial_code_profile.png\"))"
   ]
  },
  {
   "cell_type": "markdown",
   "id": "7d618e98-de63-42ae-b313-ca1faba9d808",
   "metadata": {},
   "source": [
    "From the above we can see a few things:\n",
    "\n",
    "1. The file we read in is pretty big. The dataframe takes up ~250 MiB.\n",
    "2. Filtering the data has a negligable effect on the memory usage.\n",
    "3. We see a huge spike when calling `apply_filter` for the first time.\n",
    "4. We see a second smaller spike when calling `get_distance`.\n",
    "\n",
    "\n",
    "A plot like this is useful when we're trying to decide on what resources we need to run this program. We could likely run this on most machines as ~400 MiB is attainable by most personal laptops. **If we wanted to submit this job to a cluster, we'd want at least ~450 MiB to provide some breathing room.**\n",
    "\n",
    "\n",
    "If we want to target areas to reduce memory usage, we should target the `apply_filter` and `get_distance` functions. Additionally we can look at ways to reduce the dataset size (we'll come back to this...)."
   ]
  },
  {
   "cell_type": "markdown",
   "id": "374ee3d7-c0d8-4b3b-9918-e6d3b5960d6d",
   "metadata": {},
   "source": [
    "Let's look at `apply_filter`:\n",
    "\n",
    "```python\n",
    "@profile\n",
    "def apply_filter(df, data_filter):\n",
    "    data = df[data_filter]\n",
    "    return data\n",
    "...\n",
    "    data_filtered = apply_filter(data, data_filter)\n",
    "...\n",
    "    data_10pc = apply_filter(data_filtered, distance_filter)\n",
    "...\n",
    "```\n",
    "\n",
    "We are using the `apply_filter`. This function takes in a `pandas.dataframe` and a boolean array and returns a new `pandas.dataframe`. Let's start by overwriting the data in the function:\n",
    "```python\n",
    "\n",
    "@profile\n",
    "def apply_filter(df, data_filter):\n",
    "    df = df[data_filter]\n",
    "    return df\n",
    "```\n",
    "\n",
    "Additionally we'll overwrite all the instances of `data`"
   ]
  },
  {
   "cell_type": "code",
   "execution_count": 5,
   "id": "b199d18b-5eee-4eaa-baec-a932b07386e2",
   "metadata": {},
   "outputs": [
    {
     "name": "stdout",
     "output_type": "stream",
     "text": [
      "Overwriting initial_code_iteration1.py\n"
     ]
    }
   ],
   "source": [
    "%%writefile initial_code_iteration1.py\n",
    "\n",
    "import numpy as np\n",
    "import pandas as pd\n",
    "import time\n",
    "\n",
    "@profile\n",
    "def load_data():\n",
    "    df = pd.read_csv(\"./gaia3.csv\")\n",
    "    return df\n",
    "\n",
    "@profile\n",
    "def filter_data(df):\n",
    "    parallax = df[\"parallax\"]\n",
    "    parallax_err = df[\"parallax_over_error\"]\n",
    "    good_mask = parallax_err > 20\n",
    "    return good_mask\n",
    "    \n",
    "@profile\n",
    "def get_distance(df):\n",
    "    distance = 1./ (df[\"parallax\"] * 1e-3)\n",
    "    return distance\n",
    "\n",
    "@profile\n",
    "def assign_distance(df, distance):\n",
    "    df[\"distance\"] = distance\n",
    "\n",
    "\n",
    "\n",
    "@profile\n",
    "def filter_distance(df):\n",
    "    distance = df[\"distance\"]\n",
    "    good_mask = distance < 10\n",
    "    return good_mask\n",
    "\n",
    "\n",
    "@profile\n",
    "def apply_filter(df, data_filter):\n",
    "    df = df[data_filter]\n",
    "    return df\n",
    "\n",
    "\n",
    "\n",
    "if __name__ == '__main__':\n",
    "\n",
    "    data = load_data()\n",
    "    time.sleep(0.1)\n",
    "    \n",
    "    data_filter = filter_data(data)\n",
    "    time.sleep(0.1)\n",
    "    \n",
    "    data = apply_filter(data, data_filter)\n",
    "    time.sleep(0.1)\n",
    "    \n",
    "    distance = get_distance(data)\n",
    "    time.sleep(0.1)\n",
    "    \n",
    "    assign_distance(data, distance)\n",
    "    time.sleep(0.1)\n",
    "    \n",
    "    distance_filter = filter_distance(data)\n",
    "    time.sleep(0.1)\n",
    "    \n",
    "    data = apply_filter(data, distance_filter)\n",
    "    time.sleep(0.1)\n",
    "\n",
    "\n"
   ]
  },
  {
   "cell_type": "code",
   "execution_count": 6,
   "id": "6c1501bd-d094-4a0a-acc5-0ac9904a1928",
   "metadata": {},
   "outputs": [
    {
     "name": "stdout",
     "output_type": "stream",
     "text": [
      "mprof: Sampling memory every 0.005s\n",
      "running new process\n",
      "running as a Python program...\n",
      "Using last profile data.\n"
     ]
    }
   ],
   "source": [
    "!mprof run --interval 0.005 --python python initial_code_iteration1.py\n",
    "!mprof plot --output initial_code_iteration1.png"
   ]
  },
  {
   "cell_type": "code",
   "execution_count": 7,
   "id": "c68a85b5-51dc-4feb-afc7-eeb799277482",
   "metadata": {},
   "outputs": [
    {
     "data": {
      "image/png": "[encoded data removed]",
      "text/plain": [
       "<IPython.core.display.Image object>"
      ]
     },
     "metadata": {},
     "output_type": "display_data"
    }
   ],
   "source": [
    "display(Image(\"./initial_code_iteration1.png\"))"
   ]
  },
  {
   "cell_type": "markdown",
   "id": "97e7a33b-0fb9-4917-bf4a-a02358b8e972",
   "metadata": {},
   "source": [
    "This is an improvement, but we still see a spike at ~400 MiB when `apply_filter` is called for the first time. Why is this? Let's look at the function again:\n",
    "\n",
    "```python\n",
    "def apply_filter(df, data_filter):\n",
    "    df = df[data_filter]\n",
    "    return df\n",
    "```\n",
    "\n",
    "\n",
    "When calling `df = df[data_filter]` we first make a copy of the data using `df[data_filter]` before assigning it to `df`. Let's look at a more memory efficient way to do this:\n",
    "\n",
    "```python\n",
    "def apply_filter(df, data_filter):\n",
    "    # Assign NaN to all the RA of the filtered events\n",
    "    df[\"ra\"][data_filter] = np.nan\n",
    "    # Drop the entries with NaN, inplace = True meaning overwrite\n",
    "    df.dropna(inplace = True)\n",
    "```\n",
    "\n",
    "Since we've overwritten the original dataframe, we don't need to return anything...\n",
    "\n"
   ]
  },
  {
   "cell_type": "code",
   "execution_count": 8,
   "id": "82f4b887-d7d4-48b3-bbfa-b736f7645b56",
   "metadata": {},
   "outputs": [
    {
     "name": "stdout",
     "output_type": "stream",
     "text": [
      "Overwriting initial_code_iteration2.py\n"
     ]
    }
   ],
   "source": [
    "%%writefile initial_code_iteration2.py\n",
    "\n",
    "import numpy as np\n",
    "import pandas as pd\n",
    "import time\n",
    "\n",
    "@profile\n",
    "def load_data():\n",
    "    df = pd.read_csv(\"./gaia3.csv\")\n",
    "    return df\n",
    "\n",
    "@profile\n",
    "def filter_data(df):\n",
    "    parallax = df[\"parallax\"]\n",
    "    parallax_err = df[\"parallax_over_error\"]\n",
    "    good_mask = parallax_err > 20\n",
    "    return good_mask\n",
    "    \n",
    "@profile\n",
    "def get_distance(df):\n",
    "    distance = 1./ (df[\"parallax\"] * 1e-3)\n",
    "    return distance\n",
    "\n",
    "@profile\n",
    "def assign_distance(df, distance):\n",
    "    df[\"distance\"] = distance\n",
    "\n",
    "\n",
    "\n",
    "@profile\n",
    "def filter_distance(df):\n",
    "    distance = df[\"distance\"]\n",
    "    good_mask = distance < 10\n",
    "    return good_mask\n",
    "\n",
    "\n",
    "@profile\n",
    "def apply_filter(df, data_filter):\n",
    "    # Assign NaN to all the RA of the filtered events\n",
    "    df[\"ra\"][data_filter] = np.nan\n",
    "    # Drop the entries with NaN, inplace = True meaning overwrite\n",
    "    df.dropna(inplace = True)\n",
    "    return df\n",
    "\n",
    "\n",
    "\n",
    "if __name__ == '__main__':\n",
    "\n",
    "    data = load_data()\n",
    "    time.sleep(0.1)\n",
    "    \n",
    "    data_filter = filter_data(data)\n",
    "    time.sleep(0.1)\n",
    "    \n",
    "    apply_filter(data, data_filter)\n",
    "    time.sleep(0.1)\n",
    "    \n",
    "    distance = get_distance(data)\n",
    "    time.sleep(0.1)\n",
    "    \n",
    "    assign_distance(data, distance)\n",
    "    time.sleep(0.1)\n",
    "    \n",
    "    distance_filter = filter_distance(data)\n",
    "    time.sleep(0.1)\n",
    "    \n",
    "    apply_filter(data, distance_filter)\n",
    "    time.sleep(0.1)\n",
    "\n",
    "\n"
   ]
  },
  {
   "cell_type": "code",
   "execution_count": 9,
   "id": "1a5f788a-79ce-4ccc-af5f-479d14590663",
   "metadata": {},
   "outputs": [
    {
     "name": "stdout",
     "output_type": "stream",
     "text": [
      "mprof: Sampling memory every 0.005s\n",
      "running new process\n",
      "running as a Python program...\n",
      "initial_code_iteration2.py:39: FutureWarning: ChainedAssignmentError: behaviour will change in pandas 3.0!\n",
      "You are setting values through chained assignment. Currently this works in certain cases, but when using Copy-on-Write (which will become the default behaviour in pandas 3.0) this will never work to update the original DataFrame or Series, because the intermediate object on which we are setting values will behave as a copy.\n",
      "A typical example is when you are setting values in a column of a DataFrame, like:\n",
      "\n",
      "df[\"col\"][row_indexer] = value\n",
      "\n",
      "Use `df.loc[row_indexer, \"col\"] = values` instead, to perform the assignment in a single step and ensure this keeps updating the original `df`.\n",
      "\n",
      "See the caveats in the documentation: https://pandas.pydata.org/pandas-docs/stable/user_guide/indexing.html#returning-a-view-versus-a-copy\n",
      "\n",
      "  df[\"ra\"][data_filter] = np.nan\n",
      "initial_code_iteration2.py:39: SettingWithCopyWarning: \n",
      "A value is trying to be set on a copy of a slice from a DataFrame\n",
      "\n",
      "See the caveats in the documentation: https://pandas.pydata.org/pandas-docs/stable/user_guide/indexing.html#returning-a-view-versus-a-copy\n",
      "  df[\"ra\"][data_filter] = np.nan\n",
      "initial_code_iteration2.py:39: FutureWarning: ChainedAssignmentError: behaviour will change in pandas 3.0!\n",
      "You are setting values through chained assignment. Currently this works in certain cases, but when using Copy-on-Write (which will become the default behaviour in pandas 3.0) this will never work to update the original DataFrame or Series, because the intermediate object on which we are setting values will behave as a copy.\n",
      "A typical example is when you are setting values in a column of a DataFrame, like:\n",
      "\n",
      "df[\"col\"][row_indexer] = value\n",
      "\n",
      "Use `df.loc[row_indexer, \"col\"] = values` instead, to perform the assignment in a single step and ensure this keeps updating the original `df`.\n",
      "\n",
      "See the caveats in the documentation: https://pandas.pydata.org/pandas-docs/stable/user_guide/indexing.html#returning-a-view-versus-a-copy\n",
      "\n",
      "  df[\"ra\"][data_filter] = np.nan\n",
      "initial_code_iteration2.py:39: SettingWithCopyWarning: \n",
      "A value is trying to be set on a copy of a slice from a DataFrame\n",
      "\n",
      "See the caveats in the documentation: https://pandas.pydata.org/pandas-docs/stable/user_guide/indexing.html#returning-a-view-versus-a-copy\n",
      "  df[\"ra\"][data_filter] = np.nan\n",
      "Using last profile data.\n"
     ]
    }
   ],
   "source": [
    "!mprof run --interval 0.005 --python python initial_code_iteration2.py\n",
    "!mprof plot --output initial_code_iteration2.png"
   ]
  },
  {
   "cell_type": "code",
   "execution_count": 10,
   "id": "ac5df3ba-1b9b-4a01-8908-b8b114184abd",
   "metadata": {},
   "outputs": [
    {
     "data": {
      "image/png": "[encoded data removed]",
      "text/plain": [
       "<IPython.core.display.Image object>"
      ]
     },
     "metadata": {},
     "output_type": "display_data"
    }
   ],
   "source": [
    "display(Image(\"./initial_code_iteration2.png\"))"
   ]
  },
  {
   "cell_type": "markdown",
   "id": "02768264-28b9-4529-90b4-6e57776fa8b2",
   "metadata": {},
   "source": [
    "This looks a lot better, but we still have that inital overhead of the dataset, is there anything we can do here?\n",
    "\n",
    "Let's look at the data."
   ]
  },
  {
   "cell_type": "code",
   "execution_count": 12,
   "id": "d62ed2b8-1527-47c9-ac78-248ec3462297",
   "metadata": {},
   "outputs": [
    {
     "name": "stdout",
     "output_type": "stream",
     "text": [
      ",ra,dec,parallax,parallax_over_error,bp_rp,phot_g_mean_mag,pm,pmra,pmra_error,pmdec,pmdec_error\n",
      "0,251.49255411977842,-50.74953285089441,6.383755900057115,103.153015,0.79550457,10.54673,32.09387,31.380714480358343,0.05963018,-6.728077202639662,0.045103732\n",
      "1,251.58997660680922,-50.63863518231249,13.398257319108815,750.62354,2.1655512,13.470652,98.00884,-49.35844067323052,0.017024113,-84.67277009494555,0.012675992\n",
      "2,251.09313867055343,-51.007071500182086,6.106723881526058,448.8808,1.2691355,12.529914,9.986012,5.650983532208639,0.013577581,8.233275210204,0.009894044\n",
      "3,251.74646120955111,-51.20105760802903,7.481941724988636,87.46144,2.5889482,16.969418,147.46635,10.335826592962476,0.08570085,-147.10370008642158,0.05650899\n",
      "4,250.18815359198393,-51.2730504962615,8.606532814900987,163.01225,2.755577,16.33911,5.618203,-1.3052739918459513,0.06419676,5.464472928347609,0.04363508\n",
      "5,250.32171790439398,-51.39721173654795,5.948736623759927,103.88973,0.010123253,7.615107,31.96969,-16.618858274260234,0.06304326,-27.31070564371402,0.04115518\n",
      "6,250.63769352342914,-51.83570545712104,25.8932028451182,1238.9082,2.691968,13.436164,434.55444,-58.46042596499814,0.021226894,-430.60414864152074,0.015450544\n",
      "7,250.1119445586245,-51.26003101959269,6.36085302396653,131.53783,2.53827,16.118967,77.69121,-52.38320393098749,0.049328525,-57.37528741330969,0.037503965\n",
      "8,250.18507947208107,-51.477673785228106,19.588654431566606,768.66254,0.44006157,6.22464,131.83145,11.454067954459212,0.028156618,131.33292721367764,0.019740378\n"
     ]
    }
   ],
   "source": [
    "!head gaia3.csv"
   ]
  },
  {
   "cell_type": "markdown",
   "id": "74c27d93-0020-4dcd-ac30-92694e435922",
   "metadata": {},
   "source": [
    "We have a lot of percision in our measurements. Lets compare the measured values to the uncertainty on these values. Let's limit ourself to the first 100 values. By default, `pandas` will use 64 bit percision when reading in floats. This might be overkill."
   ]
  },
  {
   "cell_type": "code",
   "execution_count": 13,
   "id": "6c6e061e-4ded-4f14-b893-36fc4c246ddb",
   "metadata": {},
   "outputs": [
    {
     "data": {
      "text/html": [
       "<div>\n",
       "<style scoped>\n",
       "    .dataframe tbody tr th:only-of-type {\n",
       "        vertical-align: middle;\n",
       "    }\n",
       "\n",
       "    .dataframe tbody tr th {\n",
       "        vertical-align: top;\n",
       "    }\n",
       "\n",
       "    .dataframe thead th {\n",
       "        text-align: right;\n",
       "    }\n",
       "</style>\n",
       "<table border=\"1\" class=\"dataframe\">\n",
       "  <thead>\n",
       "    <tr style=\"text-align: right;\">\n",
       "      <th></th>\n",
       "      <th>Unnamed: 0</th>\n",
       "      <th>ra</th>\n",
       "      <th>dec</th>\n",
       "      <th>parallax</th>\n",
       "      <th>parallax_over_error</th>\n",
       "      <th>bp_rp</th>\n",
       "      <th>phot_g_mean_mag</th>\n",
       "      <th>pm</th>\n",
       "      <th>pmra</th>\n",
       "      <th>pmra_error</th>\n",
       "      <th>pmdec</th>\n",
       "      <th>pmdec_error</th>\n",
       "    </tr>\n",
       "  </thead>\n",
       "  <tbody>\n",
       "    <tr>\n",
       "      <th>0</th>\n",
       "      <td>0</td>\n",
       "      <td>251.492554</td>\n",
       "      <td>-50.749533</td>\n",
       "      <td>6.383756</td>\n",
       "      <td>103.153015</td>\n",
       "      <td>0.795505</td>\n",
       "      <td>10.546730</td>\n",
       "      <td>32.093870</td>\n",
       "      <td>31.380714</td>\n",
       "      <td>0.059630</td>\n",
       "      <td>-6.728077</td>\n",
       "      <td>0.045104</td>\n",
       "    </tr>\n",
       "    <tr>\n",
       "      <th>1</th>\n",
       "      <td>1</td>\n",
       "      <td>251.589977</td>\n",
       "      <td>-50.638635</td>\n",
       "      <td>13.398257</td>\n",
       "      <td>750.623540</td>\n",
       "      <td>2.165551</td>\n",
       "      <td>13.470652</td>\n",
       "      <td>98.008840</td>\n",
       "      <td>-49.358441</td>\n",
       "      <td>0.017024</td>\n",
       "      <td>-84.672770</td>\n",
       "      <td>0.012676</td>\n",
       "    </tr>\n",
       "    <tr>\n",
       "      <th>2</th>\n",
       "      <td>2</td>\n",
       "      <td>251.093139</td>\n",
       "      <td>-51.007072</td>\n",
       "      <td>6.106724</td>\n",
       "      <td>448.880800</td>\n",
       "      <td>1.269135</td>\n",
       "      <td>12.529914</td>\n",
       "      <td>9.986012</td>\n",
       "      <td>5.650984</td>\n",
       "      <td>0.013578</td>\n",
       "      <td>8.233275</td>\n",
       "      <td>0.009894</td>\n",
       "    </tr>\n",
       "    <tr>\n",
       "      <th>3</th>\n",
       "      <td>3</td>\n",
       "      <td>251.746461</td>\n",
       "      <td>-51.201058</td>\n",
       "      <td>7.481942</td>\n",
       "      <td>87.461440</td>\n",
       "      <td>2.588948</td>\n",
       "      <td>16.969418</td>\n",
       "      <td>147.466350</td>\n",
       "      <td>10.335827</td>\n",
       "      <td>0.085701</td>\n",
       "      <td>-147.103700</td>\n",
       "      <td>0.056509</td>\n",
       "    </tr>\n",
       "    <tr>\n",
       "      <th>4</th>\n",
       "      <td>4</td>\n",
       "      <td>250.188154</td>\n",
       "      <td>-51.273050</td>\n",
       "      <td>8.606533</td>\n",
       "      <td>163.012250</td>\n",
       "      <td>2.755577</td>\n",
       "      <td>16.339110</td>\n",
       "      <td>5.618203</td>\n",
       "      <td>-1.305274</td>\n",
       "      <td>0.064197</td>\n",
       "      <td>5.464473</td>\n",
       "      <td>0.043635</td>\n",
       "    </tr>\n",
       "  </tbody>\n",
       "</table>\n",
       "</div>"
      ],
      "text/plain": [
       "   Unnamed: 0          ra        dec   parallax  parallax_over_error  \\\n",
       "0           0  251.492554 -50.749533   6.383756           103.153015   \n",
       "1           1  251.589977 -50.638635  13.398257           750.623540   \n",
       "2           2  251.093139 -51.007072   6.106724           448.880800   \n",
       "3           3  251.746461 -51.201058   7.481942            87.461440   \n",
       "4           4  250.188154 -51.273050   8.606533           163.012250   \n",
       "\n",
       "      bp_rp  phot_g_mean_mag          pm       pmra  pmra_error       pmdec  \\\n",
       "0  0.795505        10.546730   32.093870  31.380714    0.059630   -6.728077   \n",
       "1  2.165551        13.470652   98.008840 -49.358441    0.017024  -84.672770   \n",
       "2  1.269135        12.529914    9.986012   5.650984    0.013578    8.233275   \n",
       "3  2.588948        16.969418  147.466350  10.335827    0.085701 -147.103700   \n",
       "4  2.755577        16.339110    5.618203  -1.305274    0.064197    5.464473   \n",
       "\n",
       "   pmdec_error  \n",
       "0     0.045104  \n",
       "1     0.012676  \n",
       "2     0.009894  \n",
       "3     0.056509  \n",
       "4     0.043635  "
      ]
     },
     "execution_count": 13,
     "metadata": {},
     "output_type": "execute_result"
    }
   ],
   "source": [
    "import pandas as pd\n",
    "df = pd.read_csv(\"gaia3.csv\", nrows=100)\n",
    "df.head()"
   ]
  },
  {
   "cell_type": "markdown",
   "id": "9016b390-5bcb-45f1-96e8-988039887bbf",
   "metadata": {},
   "source": [
    "Do we need this percision? In this case it looks like the errors on our data are already pretty large."
   ]
  },
  {
   "cell_type": "code",
   "execution_count": 15,
   "id": "c7af6df0-98b5-4187-aecd-731498922b2e",
   "metadata": {},
   "outputs": [
    {
     "data": {
      "text/html": [
       "<div>\n",
       "<style scoped>\n",
       "    .dataframe tbody tr th:only-of-type {\n",
       "        vertical-align: middle;\n",
       "    }\n",
       "\n",
       "    .dataframe tbody tr th {\n",
       "        vertical-align: top;\n",
       "    }\n",
       "\n",
       "    .dataframe thead th {\n",
       "        text-align: right;\n",
       "    }\n",
       "</style>\n",
       "<table border=\"1\" class=\"dataframe\">\n",
       "  <thead>\n",
       "    <tr style=\"text-align: right;\">\n",
       "      <th></th>\n",
       "      <th>Unnamed: 0</th>\n",
       "      <th>ra</th>\n",
       "      <th>dec</th>\n",
       "      <th>parallax</th>\n",
       "      <th>parallax_over_error</th>\n",
       "      <th>bp_rp</th>\n",
       "      <th>phot_g_mean_mag</th>\n",
       "      <th>pm</th>\n",
       "      <th>pmra</th>\n",
       "      <th>pmra_error</th>\n",
       "      <th>pmdec</th>\n",
       "      <th>pmdec_error</th>\n",
       "    </tr>\n",
       "  </thead>\n",
       "  <tbody>\n",
       "    <tr>\n",
       "      <th>0</th>\n",
       "      <td>0.0</td>\n",
       "      <td>251.492554</td>\n",
       "      <td>-50.749535</td>\n",
       "      <td>6.383756</td>\n",
       "      <td>103.153015</td>\n",
       "      <td>0.795505</td>\n",
       "      <td>10.546730</td>\n",
       "      <td>32.093868</td>\n",
       "      <td>31.380714</td>\n",
       "      <td>0.059630</td>\n",
       "      <td>-6.728077</td>\n",
       "      <td>0.045104</td>\n",
       "    </tr>\n",
       "    <tr>\n",
       "      <th>1</th>\n",
       "      <td>1.0</td>\n",
       "      <td>251.589981</td>\n",
       "      <td>-50.638634</td>\n",
       "      <td>13.398257</td>\n",
       "      <td>750.623535</td>\n",
       "      <td>2.165551</td>\n",
       "      <td>13.470652</td>\n",
       "      <td>98.008842</td>\n",
       "      <td>-49.358440</td>\n",
       "      <td>0.017024</td>\n",
       "      <td>-84.672768</td>\n",
       "      <td>0.012676</td>\n",
       "    </tr>\n",
       "    <tr>\n",
       "      <th>2</th>\n",
       "      <td>2.0</td>\n",
       "      <td>251.093140</td>\n",
       "      <td>-51.007072</td>\n",
       "      <td>6.106724</td>\n",
       "      <td>448.880798</td>\n",
       "      <td>1.269135</td>\n",
       "      <td>12.529914</td>\n",
       "      <td>9.986012</td>\n",
       "      <td>5.650983</td>\n",
       "      <td>0.013578</td>\n",
       "      <td>8.233275</td>\n",
       "      <td>0.009894</td>\n",
       "    </tr>\n",
       "    <tr>\n",
       "      <th>3</th>\n",
       "      <td>3.0</td>\n",
       "      <td>251.746460</td>\n",
       "      <td>-51.201057</td>\n",
       "      <td>7.481942</td>\n",
       "      <td>87.461441</td>\n",
       "      <td>2.588948</td>\n",
       "      <td>16.969418</td>\n",
       "      <td>147.466354</td>\n",
       "      <td>10.335827</td>\n",
       "      <td>0.085701</td>\n",
       "      <td>-147.103699</td>\n",
       "      <td>0.056509</td>\n",
       "    </tr>\n",
       "    <tr>\n",
       "      <th>4</th>\n",
       "      <td>4.0</td>\n",
       "      <td>250.188156</td>\n",
       "      <td>-51.273052</td>\n",
       "      <td>8.606533</td>\n",
       "      <td>163.012253</td>\n",
       "      <td>2.755577</td>\n",
       "      <td>16.339109</td>\n",
       "      <td>5.618203</td>\n",
       "      <td>-1.305274</td>\n",
       "      <td>0.064197</td>\n",
       "      <td>5.464473</td>\n",
       "      <td>0.043635</td>\n",
       "    </tr>\n",
       "  </tbody>\n",
       "</table>\n",
       "</div>"
      ],
      "text/plain": [
       "   Unnamed: 0          ra        dec   parallax  parallax_over_error  \\\n",
       "0         0.0  251.492554 -50.749535   6.383756           103.153015   \n",
       "1         1.0  251.589981 -50.638634  13.398257           750.623535   \n",
       "2         2.0  251.093140 -51.007072   6.106724           448.880798   \n",
       "3         3.0  251.746460 -51.201057   7.481942            87.461441   \n",
       "4         4.0  250.188156 -51.273052   8.606533           163.012253   \n",
       "\n",
       "      bp_rp  phot_g_mean_mag          pm       pmra  pmra_error       pmdec  \\\n",
       "0  0.795505        10.546730   32.093868  31.380714    0.059630   -6.728077   \n",
       "1  2.165551        13.470652   98.008842 -49.358440    0.017024  -84.672768   \n",
       "2  1.269135        12.529914    9.986012   5.650983    0.013578    8.233275   \n",
       "3  2.588948        16.969418  147.466354  10.335827    0.085701 -147.103699   \n",
       "4  2.755577        16.339109    5.618203  -1.305274    0.064197    5.464473   \n",
       "\n",
       "   pmdec_error  \n",
       "0     0.045104  \n",
       "1     0.012676  \n",
       "2     0.009894  \n",
       "3     0.056509  \n",
       "4     0.043635  "
      ]
     },
     "execution_count": 15,
     "metadata": {},
     "output_type": "execute_result"
    }
   ],
   "source": [
    "import numpy as np\n",
    "df_f32 = pd.read_csv(\"gaia3.csv\", nrows=100, dtype=np.float32)\n",
    "df_f32.head()"
   ]
  },
  {
   "cell_type": "code",
   "execution_count": 16,
   "id": "183db0ae-89e6-430f-a43e-b9942b53cae4",
   "metadata": {},
   "outputs": [
    {
     "data": {
      "text/plain": [
       "(array([ 1.,  0.,  1., 15., 32., 32., 15.,  2.,  1.,  1.]),\n",
       " array([-8.90233363e-07, -7.14498678e-07, -5.38763994e-07, -3.63029309e-07,\n",
       "        -1.87294625e-07, -1.15599406e-08,  1.64174744e-07,  3.39909428e-07,\n",
       "         5.15644113e-07,  6.91378797e-07,  8.67113481e-07]),\n",
       " <BarContainer object of 10 artists>)"
      ]
     },
     "execution_count": 16,
     "metadata": {},
     "output_type": "execute_result"
    },
    {
     "data": {
      "image/png": "[encoded data removed]",
      "text/plain": [
       "<Figure size 640x480 with 1 Axes>"
      ]
     },
     "metadata": {},
     "output_type": "display_data"
    }
   ],
   "source": [
    "import matplotlib.pyplot as plt\n",
    "plt.hist(df[\"parallax\"] - df_f32[\"parallax\"])"
   ]
  },
  {
   "cell_type": "code",
   "execution_count": 17,
   "id": "743c7b95-8935-45ad-b5fb-ba54b77418f4",
   "metadata": {},
   "outputs": [
    {
     "data": {
      "text/html": [
       "<div>\n",
       "<style scoped>\n",
       "    .dataframe tbody tr th:only-of-type {\n",
       "        vertical-align: middle;\n",
       "    }\n",
       "\n",
       "    .dataframe tbody tr th {\n",
       "        vertical-align: top;\n",
       "    }\n",
       "\n",
       "    .dataframe thead th {\n",
       "        text-align: right;\n",
       "    }\n",
       "</style>\n",
       "<table border=\"1\" class=\"dataframe\">\n",
       "  <thead>\n",
       "    <tr style=\"text-align: right;\">\n",
       "      <th></th>\n",
       "      <th>Unnamed: 0</th>\n",
       "      <th>ra</th>\n",
       "      <th>dec</th>\n",
       "      <th>parallax</th>\n",
       "      <th>parallax_over_error</th>\n",
       "      <th>bp_rp</th>\n",
       "      <th>phot_g_mean_mag</th>\n",
       "      <th>pm</th>\n",
       "      <th>pmra</th>\n",
       "      <th>pmra_error</th>\n",
       "      <th>pmdec</th>\n",
       "      <th>pmdec_error</th>\n",
       "    </tr>\n",
       "  </thead>\n",
       "  <tbody>\n",
       "    <tr>\n",
       "      <th>0</th>\n",
       "      <td>0.0</td>\n",
       "      <td>251.500</td>\n",
       "      <td>-50.75000</td>\n",
       "      <td>6.382812</td>\n",
       "      <td>103.1250</td>\n",
       "      <td>0.795410</td>\n",
       "      <td>10.546875</td>\n",
       "      <td>32.093750</td>\n",
       "      <td>31.375000</td>\n",
       "      <td>0.059631</td>\n",
       "      <td>-6.726562</td>\n",
       "      <td>0.045105</td>\n",
       "    </tr>\n",
       "    <tr>\n",
       "      <th>1</th>\n",
       "      <td>1.0</td>\n",
       "      <td>251.625</td>\n",
       "      <td>-50.62500</td>\n",
       "      <td>13.398438</td>\n",
       "      <td>750.5000</td>\n",
       "      <td>2.166016</td>\n",
       "      <td>13.468750</td>\n",
       "      <td>98.000000</td>\n",
       "      <td>-49.343750</td>\n",
       "      <td>0.017029</td>\n",
       "      <td>-84.687500</td>\n",
       "      <td>0.012672</td>\n",
       "    </tr>\n",
       "    <tr>\n",
       "      <th>2</th>\n",
       "      <td>2.0</td>\n",
       "      <td>251.125</td>\n",
       "      <td>-51.00000</td>\n",
       "      <td>6.105469</td>\n",
       "      <td>449.0000</td>\n",
       "      <td>1.269531</td>\n",
       "      <td>12.531250</td>\n",
       "      <td>9.984375</td>\n",
       "      <td>5.652344</td>\n",
       "      <td>0.013580</td>\n",
       "      <td>8.234375</td>\n",
       "      <td>0.009895</td>\n",
       "    </tr>\n",
       "    <tr>\n",
       "      <th>3</th>\n",
       "      <td>3.0</td>\n",
       "      <td>251.750</td>\n",
       "      <td>-51.18750</td>\n",
       "      <td>7.480469</td>\n",
       "      <td>87.4375</td>\n",
       "      <td>2.589844</td>\n",
       "      <td>16.968750</td>\n",
       "      <td>147.500000</td>\n",
       "      <td>10.335938</td>\n",
       "      <td>0.085693</td>\n",
       "      <td>-147.125000</td>\n",
       "      <td>0.056519</td>\n",
       "    </tr>\n",
       "    <tr>\n",
       "      <th>4</th>\n",
       "      <td>4.0</td>\n",
       "      <td>250.250</td>\n",
       "      <td>-51.28125</td>\n",
       "      <td>8.609375</td>\n",
       "      <td>163.0000</td>\n",
       "      <td>2.755859</td>\n",
       "      <td>16.343750</td>\n",
       "      <td>5.617188</td>\n",
       "      <td>-1.305664</td>\n",
       "      <td>0.064209</td>\n",
       "      <td>5.464844</td>\n",
       "      <td>0.043640</td>\n",
       "    </tr>\n",
       "  </tbody>\n",
       "</table>\n",
       "</div>"
      ],
      "text/plain": [
       "   Unnamed: 0       ra       dec   parallax  parallax_over_error     bp_rp  \\\n",
       "0         0.0  251.500 -50.75000   6.382812             103.1250  0.795410   \n",
       "1         1.0  251.625 -50.62500  13.398438             750.5000  2.166016   \n",
       "2         2.0  251.125 -51.00000   6.105469             449.0000  1.269531   \n",
       "3         3.0  251.750 -51.18750   7.480469              87.4375  2.589844   \n",
       "4         4.0  250.250 -51.28125   8.609375             163.0000  2.755859   \n",
       "\n",
       "   phot_g_mean_mag          pm       pmra  pmra_error       pmdec  pmdec_error  \n",
       "0        10.546875   32.093750  31.375000    0.059631   -6.726562     0.045105  \n",
       "1        13.468750   98.000000 -49.343750    0.017029  -84.687500     0.012672  \n",
       "2        12.531250    9.984375   5.652344    0.013580    8.234375     0.009895  \n",
       "3        16.968750  147.500000  10.335938    0.085693 -147.125000     0.056519  \n",
       "4        16.343750    5.617188  -1.305664    0.064209    5.464844     0.043640  "
      ]
     },
     "execution_count": 17,
     "metadata": {},
     "output_type": "execute_result"
    }
   ],
   "source": [
    "df_f16 = pd.read_csv(\"gaia3.csv\", nrows=100, dtype=np.float16)\n",
    "df_f16.head()"
   ]
  },
  {
   "cell_type": "code",
   "execution_count": 18,
   "id": "2b7fa571-e9a9-47e3-bdaa-8dc236aa2962",
   "metadata": {},
   "outputs": [
    {
     "data": {
      "text/plain": [
       "(array([ 2.,  0.,  8., 13., 36., 23., 12.,  5.,  0.,  1.]),\n",
       " array([-0.00563744, -0.00440876, -0.00318007, -0.00195138, -0.0007227 ,\n",
       "         0.00050599,  0.00173468,  0.00296337,  0.00419205,  0.00542074,\n",
       "         0.00664943]),\n",
       " <BarContainer object of 10 artists>)"
      ]
     },
     "execution_count": 18,
     "metadata": {},
     "output_type": "execute_result"
    },
    {
     "data": {
      "image/png": "[encoded data removed]",
      "text/plain": [
       "<Figure size 640x480 with 1 Axes>"
      ]
     },
     "metadata": {},
     "output_type": "display_data"
    }
   ],
   "source": [
    "plt.hist(df[\"parallax\"] - df_f16[\"parallax\"])"
   ]
  },
  {
   "cell_type": "markdown",
   "id": "8c6cdc2d-902d-482a-be43-8cd86e904ec7",
   "metadata": {},
   "source": [
    "For a 32 bit float the uncertainy introduce is O($10^{-7}$), whereas for a 16 bit float the uncertainy is O($10^{-3}$).  Let's start off by looking at using 32 bit floats instead when creating the pandas dataframe:\n",
    "\n",
    "```python\n",
    "def load_data():\n",
    "    df = pd.read_csv(\"./gaia3.csv\", dtype = np.float32)\n",
    "    return df\n",
    "```"
   ]
  },
  {
   "cell_type": "code",
   "execution_count": 19,
   "id": "382c45e9-bb15-44af-8a72-ee2d58c367cf",
   "metadata": {},
   "outputs": [
    {
     "name": "stdout",
     "output_type": "stream",
     "text": [
      "Overwriting initial_code_iteration3.py\n"
     ]
    }
   ],
   "source": [
    "%%writefile initial_code_iteration3.py\n",
    "\n",
    "import numpy as np\n",
    "import pandas as pd\n",
    "import time\n",
    "\n",
    "@profile\n",
    "def load_data():\n",
    "    df = pd.read_csv(\"./gaia3.csv\", dtype = np.float32)\n",
    "    return df\n",
    "\n",
    "@profile\n",
    "def filter_data(df):\n",
    "    parallax = df[\"parallax\"]\n",
    "    parallax_err = df[\"parallax_over_error\"]\n",
    "    good_mask = parallax_err > 20\n",
    "    return good_mask\n",
    "    \n",
    "@profile\n",
    "def get_distance(df):\n",
    "    distance = 1./ (df[\"parallax\"] * 1e-3)\n",
    "    return distance\n",
    "\n",
    "@profile\n",
    "def assign_distance(df, distance):\n",
    "    df[\"distance\"] = distance\n",
    "\n",
    "\n",
    "\n",
    "@profile\n",
    "def filter_distance(df):\n",
    "    distance = df[\"distance\"]\n",
    "    good_mask = distance < 10\n",
    "    return good_mask\n",
    "\n",
    "\n",
    "@profile\n",
    "def apply_filter(df, data_filter):\n",
    "    # Assign NaN to all the RA of the filtered events\n",
    "    df[\"ra\"][data_filter] = np.nan\n",
    "    # Drop the entries with NaN, inplace = True meaning overwrite\n",
    "    df.dropna(inplace = True)\n",
    "    return df\n",
    "\n",
    "\n",
    "\n",
    "if __name__ == '__main__':\n",
    "\n",
    "    data = load_data()\n",
    "    time.sleep(0.1)\n",
    "    \n",
    "    data_filter = filter_data(data)\n",
    "    time.sleep(0.1)\n",
    "    \n",
    "    apply_filter(data, data_filter)\n",
    "    time.sleep(0.1)\n",
    "    \n",
    "    distance = get_distance(data)\n",
    "    time.sleep(0.1)\n",
    "    \n",
    "    assign_distance(data, distance)\n",
    "    time.sleep(0.1)\n",
    "    \n",
    "    distance_filter = filter_distance(data)\n",
    "    time.sleep(0.1)\n",
    "    \n",
    "    apply_filter(data, distance_filter)\n",
    "    time.sleep(0.1)\n",
    "\n",
    "\n"
   ]
  },
  {
   "cell_type": "code",
   "execution_count": 20,
   "id": "37f7c25e-af0f-4025-9c5b-1eb515d4f30c",
   "metadata": {},
   "outputs": [
    {
     "name": "stdout",
     "output_type": "stream",
     "text": [
      "mprof: Sampling memory every 0.005s\n",
      "running new process\n",
      "running as a Python program...\n",
      "initial_code_iteration3.py:39: FutureWarning: ChainedAssignmentError: behaviour will change in pandas 3.0!\n",
      "You are setting values through chained assignment. Currently this works in certain cases, but when using Copy-on-Write (which will become the default behaviour in pandas 3.0) this will never work to update the original DataFrame or Series, because the intermediate object on which we are setting values will behave as a copy.\n",
      "A typical example is when you are setting values in a column of a DataFrame, like:\n",
      "\n",
      "df[\"col\"][row_indexer] = value\n",
      "\n",
      "Use `df.loc[row_indexer, \"col\"] = values` instead, to perform the assignment in a single step and ensure this keeps updating the original `df`.\n",
      "\n",
      "See the caveats in the documentation: https://pandas.pydata.org/pandas-docs/stable/user_guide/indexing.html#returning-a-view-versus-a-copy\n",
      "\n",
      "  df[\"ra\"][data_filter] = np.nan\n",
      "initial_code_iteration3.py:39: FutureWarning: ChainedAssignmentError: behaviour will change in pandas 3.0!\n",
      "You are setting values through chained assignment. Currently this works in certain cases, but when using Copy-on-Write (which will become the default behaviour in pandas 3.0) this will never work to update the original DataFrame or Series, because the intermediate object on which we are setting values will behave as a copy.\n",
      "A typical example is when you are setting values in a column of a DataFrame, like:\n",
      "\n",
      "df[\"col\"][row_indexer] = value\n",
      "\n",
      "Use `df.loc[row_indexer, \"col\"] = values` instead, to perform the assignment in a single step and ensure this keeps updating the original `df`.\n",
      "\n",
      "See the caveats in the documentation: https://pandas.pydata.org/pandas-docs/stable/user_guide/indexing.html#returning-a-view-versus-a-copy\n",
      "\n",
      "  df[\"ra\"][data_filter] = np.nan\n",
      "Using last profile data.\n"
     ]
    }
   ],
   "source": [
    "!mprof run --interval 0.005 --python python initial_code_iteration3.py\n",
    "!mprof plot --output initial_code_iteration3.png"
   ]
  },
  {
   "cell_type": "code",
   "execution_count": 22,
   "id": "f1aaf82d-1f84-45cc-8ae1-50f5f4e70c96",
   "metadata": {},
   "outputs": [
    {
     "data": {
      "image/png": "[encoded data removed]",
      "text/plain": [
       "<IPython.core.display.Image object>"
      ]
     },
     "metadata": {},
     "output_type": "display_data"
    }
   ],
   "source": [
    "display(Image(\"./initial_code_iteration3.png\"))"
   ]
  },
  {
   "cell_type": "markdown",
   "id": "8c063b76-466d-459e-a55b-4be06fb94b64",
   "metadata": {},
   "source": [
    "We see a big improvement, with the peak memory usage < 250 MiB. Since we're limited by the uncertinty in the measurements, we might decide to lower our precision again:\n",
    "```python\n",
    "def load_data():\n",
    "    df = pd.read_csv(\"./gaia3.csv\", dtype = np.float16)\n",
    "    return df\n",
    "```"
   ]
  },
  {
   "cell_type": "code",
   "execution_count": 23,
   "id": "137f9443-2224-4dea-b636-873185e5a448",
   "metadata": {},
   "outputs": [
    {
     "name": "stdout",
     "output_type": "stream",
     "text": [
      "Overwriting initial_code_iteration4.py\n"
     ]
    }
   ],
   "source": [
    "%%writefile initial_code_iteration4.py\n",
    "\n",
    "import numpy as np\n",
    "import pandas as pd\n",
    "import time\n",
    "\n",
    "@profile\n",
    "def load_data():\n",
    "    df = pd.read_csv(\"./gaia3.csv\", dtype = np.float16)\n",
    "    return df\n",
    "\n",
    "@profile\n",
    "def filter_data(df):\n",
    "    parallax = df[\"parallax\"]\n",
    "    parallax_err = df[\"parallax_over_error\"]\n",
    "    good_mask = parallax_err > 20\n",
    "    return good_mask\n",
    "    \n",
    "@profile\n",
    "def get_distance(df):\n",
    "    distance = 1./ (df[\"parallax\"] * 1e-3)\n",
    "    return distance\n",
    "\n",
    "@profile\n",
    "def assign_distance(df, distance):\n",
    "    df[\"distance\"] = distance\n",
    "\n",
    "\n",
    "\n",
    "@profile\n",
    "def filter_distance(df):\n",
    "    distance = df[\"distance\"]\n",
    "    good_mask = distance < 10\n",
    "    return good_mask\n",
    "\n",
    "\n",
    "@profile\n",
    "def apply_filter(df, data_filter):\n",
    "    # Assign NaN to all the RA of the filtered events\n",
    "    df[\"ra\"][data_filter] = np.nan\n",
    "    # Drop the entries with NaN, inplace = True meaning overwrite\n",
    "    df.dropna(inplace = True)\n",
    "    return df\n",
    "\n",
    "\n",
    "\n",
    "if __name__ == '__main__':\n",
    "\n",
    "    data = load_data()\n",
    "    time.sleep(0.1)\n",
    "    \n",
    "    data_filter = filter_data(data)\n",
    "    time.sleep(0.1)\n",
    "    \n",
    "    apply_filter(data, data_filter)\n",
    "    time.sleep(0.1)\n",
    "    \n",
    "    distance = get_distance(data)\n",
    "    time.sleep(0.1)\n",
    "    \n",
    "    assign_distance(data, distance)\n",
    "    time.sleep(0.1)\n",
    "    \n",
    "    distance_filter = filter_distance(data)\n",
    "    time.sleep(0.1)\n",
    "    \n",
    "    apply_filter(data, distance_filter)\n",
    "    time.sleep(0.1)\n",
    "\n",
    "\n"
   ]
  },
  {
   "cell_type": "code",
   "execution_count": 24,
   "id": "e9352e09-2607-4cd5-9a93-9ef816a3c6a6",
   "metadata": {},
   "outputs": [
    {
     "name": "stdout",
     "output_type": "stream",
     "text": [
      "mprof: Sampling memory every 0.005s\n",
      "running new process\n",
      "running as a Python program...\n",
      "/home/obriens/miniforge3/envs/workshop/lib/python3.10/site-packages/pandas/io/parsers/c_parser_wrapper.py:234: RuntimeWarning: overflow encountered in cast\n",
      "  chunks = self._reader.read_low_memory(nrows)\n",
      "initial_code_iteration4.py:39: FutureWarning: ChainedAssignmentError: behaviour will change in pandas 3.0!\n",
      "You are setting values through chained assignment. Currently this works in certain cases, but when using Copy-on-Write (which will become the default behaviour in pandas 3.0) this will never work to update the original DataFrame or Series, because the intermediate object on which we are setting values will behave as a copy.\n",
      "A typical example is when you are setting values in a column of a DataFrame, like:\n",
      "\n",
      "df[\"col\"][row_indexer] = value\n",
      "\n",
      "Use `df.loc[row_indexer, \"col\"] = values` instead, to perform the assignment in a single step and ensure this keeps updating the original `df`.\n",
      "\n",
      "See the caveats in the documentation: https://pandas.pydata.org/pandas-docs/stable/user_guide/indexing.html#returning-a-view-versus-a-copy\n",
      "\n",
      "  df[\"ra\"][data_filter] = np.nan\n",
      "initial_code_iteration4.py:39: FutureWarning: ChainedAssignmentError: behaviour will change in pandas 3.0!\n",
      "You are setting values through chained assignment. Currently this works in certain cases, but when using Copy-on-Write (which will become the default behaviour in pandas 3.0) this will never work to update the original DataFrame or Series, because the intermediate object on which we are setting values will behave as a copy.\n",
      "A typical example is when you are setting values in a column of a DataFrame, like:\n",
      "\n",
      "df[\"col\"][row_indexer] = value\n",
      "\n",
      "Use `df.loc[row_indexer, \"col\"] = values` instead, to perform the assignment in a single step and ensure this keeps updating the original `df`.\n",
      "\n",
      "See the caveats in the documentation: https://pandas.pydata.org/pandas-docs/stable/user_guide/indexing.html#returning-a-view-versus-a-copy\n",
      "\n",
      "  df[\"ra\"][data_filter] = np.nan\n",
      "Using last profile data.\n"
     ]
    }
   ],
   "source": [
    "!mprof run --interval 0.005 --python python initial_code_iteration4.py\n",
    "!mprof plot --output initial_code_iteration4.png"
   ]
  },
  {
   "cell_type": "code",
   "execution_count": 25,
   "id": "11a9ab40-8dc9-45c4-8146-20feb089d901",
   "metadata": {},
   "outputs": [
    {
     "data": {
      "image/png": "[encoded data removed]",
      "text/plain": [
       "<IPython.core.display.Image object>"
      ]
     },
     "metadata": {},
     "output_type": "display_data"
    }
   ],
   "source": [
    "display(Image(\"./initial_code_iteration4.png\"))"
   ]
  },
  {
   "cell_type": "markdown",
   "id": "9681742f-1067-46ec-a802-41138f7cbe65",
   "metadata": {},
   "source": [
    "Before we start reading the the dataframe we already have ~75 MiB. Can we reduce this?\n",
    "\n",
    "NumPy is a pretty big library, let's only import what we need."
   ]
  },
  {
   "cell_type": "code",
   "execution_count": 26,
   "id": "f7ad51ef-04fc-4ada-a8c6-4f728f159956",
   "metadata": {},
   "outputs": [
    {
     "name": "stdout",
     "output_type": "stream",
     "text": [
      "Overwriting initial_code_iteration5.py\n"
     ]
    }
   ],
   "source": [
    "%%writefile initial_code_iteration5.py\n",
    "\n",
    "from numpy import float16, nan\n",
    "import pandas as pd\n",
    "from time import sleep\n",
    "\n",
    "@profile\n",
    "def load_data():\n",
    "    df = pd.read_csv(\"./gaia3.csv\", dtype = float16)\n",
    "    return df\n",
    "\n",
    "@profile\n",
    "def filter_data(df):\n",
    "    parallax = df[\"parallax\"]\n",
    "    parallax_err = df[\"parallax_over_error\"]\n",
    "    good_mask = parallax_err > 20\n",
    "    return good_mask\n",
    "    \n",
    "@profile\n",
    "def get_distance(df):\n",
    "    distance = 1./ (df[\"parallax\"] * 1e-3)\n",
    "    return distance\n",
    "\n",
    "@profile\n",
    "def assign_distance(df, distance):\n",
    "    df[\"distance\"] = distance\n",
    "\n",
    "\n",
    "\n",
    "@profile\n",
    "def filter_distance(df):\n",
    "    distance = df[\"distance\"]\n",
    "    good_mask = distance < 10\n",
    "    return good_mask\n",
    "\n",
    "\n",
    "@profile\n",
    "def apply_filter(df, data_filter):\n",
    "    # Assign NaN to all the RA of the filtered events\n",
    "    df[\"ra\"][data_filter] = nan\n",
    "    # Drop the entries with NaN, inplace = True meaning overwrite\n",
    "    df.dropna(inplace = True)\n",
    "    return df\n",
    "\n",
    "\n",
    "\n",
    "if __name__ == '__main__':\n",
    "\n",
    "    data = load_data()\n",
    "    sleep(0.1)\n",
    "    \n",
    "    data_filter = filter_data(data)\n",
    "    sleep(0.1)\n",
    "    \n",
    "    apply_filter(data, data_filter)\n",
    "    sleep(0.1)\n",
    "    \n",
    "    distance = get_distance(data)\n",
    "    sleep(0.1)\n",
    "    \n",
    "    assign_distance(data, distance)\n",
    "    sleep(0.1)\n",
    "    \n",
    "    distance_filter = filter_distance(data)\n",
    "    sleep(0.1)\n",
    "    \n",
    "    apply_filter(data, distance_filter)\n",
    "    sleep(0.1)\n",
    "\n",
    "\n"
   ]
  },
  {
   "cell_type": "code",
   "execution_count": 27,
   "id": "0009914d-f7eb-4c2f-bdba-105ead6c28ef",
   "metadata": {},
   "outputs": [
    {
     "name": "stdout",
     "output_type": "stream",
     "text": [
      "mprof: Sampling memory every 0.005s\n",
      "running new process\n",
      "running as a Python program...\n",
      "/home/obriens/miniforge3/envs/workshop/lib/python3.10/site-packages/pandas/io/parsers/c_parser_wrapper.py:234: RuntimeWarning: overflow encountered in cast\n",
      "  chunks = self._reader.read_low_memory(nrows)\n",
      "initial_code_iteration5.py:39: FutureWarning: ChainedAssignmentError: behaviour will change in pandas 3.0!\n",
      "You are setting values through chained assignment. Currently this works in certain cases, but when using Copy-on-Write (which will become the default behaviour in pandas 3.0) this will never work to update the original DataFrame or Series, because the intermediate object on which we are setting values will behave as a copy.\n",
      "A typical example is when you are setting values in a column of a DataFrame, like:\n",
      "\n",
      "df[\"col\"][row_indexer] = value\n",
      "\n",
      "Use `df.loc[row_indexer, \"col\"] = values` instead, to perform the assignment in a single step and ensure this keeps updating the original `df`.\n",
      "\n",
      "See the caveats in the documentation: https://pandas.pydata.org/pandas-docs/stable/user_guide/indexing.html#returning-a-view-versus-a-copy\n",
      "\n",
      "  df[\"ra\"][data_filter] = nan\n",
      "initial_code_iteration5.py:39: FutureWarning: ChainedAssignmentError: behaviour will change in pandas 3.0!\n",
      "You are setting values through chained assignment. Currently this works in certain cases, but when using Copy-on-Write (which will become the default behaviour in pandas 3.0) this will never work to update the original DataFrame or Series, because the intermediate object on which we are setting values will behave as a copy.\n",
      "A typical example is when you are setting values in a column of a DataFrame, like:\n",
      "\n",
      "df[\"col\"][row_indexer] = value\n",
      "\n",
      "Use `df.loc[row_indexer, \"col\"] = values` instead, to perform the assignment in a single step and ensure this keeps updating the original `df`.\n",
      "\n",
      "See the caveats in the documentation: https://pandas.pydata.org/pandas-docs/stable/user_guide/indexing.html#returning-a-view-versus-a-copy\n",
      "\n",
      "  df[\"ra\"][data_filter] = nan\n",
      "Using last profile data.\n"
     ]
    }
   ],
   "source": [
    "!mprof run --interval 0.005 --python python initial_code_iteration5.py\n",
    "!mprof plot --output initial_code_iteration5.png"
   ]
  },
  {
   "cell_type": "code",
   "execution_count": 28,
   "id": "f2973b33-3b8e-4ddc-99c9-0537bf1faf9c",
   "metadata": {},
   "outputs": [
    {
     "data": {
      "image/png": "[encoded data removed]",
      "text/plain": [
       "<IPython.core.display.Image object>"
      ]
     },
     "metadata": {},
     "output_type": "display_data"
    }
   ],
   "source": [
    "display(Image(\"./initial_code_iteration5.png\"))"
   ]
  },
  {
   "cell_type": "markdown",
   "id": "7c5bd3d2-c979-4211-8ea0-4d51dac0819c",
   "metadata": {},
   "source": [
    "This brings us below 175 MiB. There are other steps we could look at:\n",
    "\n",
    "* Running in batches to reduce the overall usage.\n",
    "* Only loading in the columns needed for analysis\n",
    "* Using a different package/backend?"
   ]
  },
  {
   "cell_type": "markdown",
   "id": "a259b80c-2cf2-4a03-9060-1ed9b89f9cf6",
   "metadata": {},
   "source": [
    "## Summary\n",
    "\n",
    "We're managed to reduce the memory usage from ~450 MiB to < 175 MiB. We achieved this by:\n",
    "\n",
    "* Profiling the memory usage to see what to target\n",
    "* Avoiding copying the data\n",
    "* Using inbuild functions to delete elements rather than doing by copy\n",
    "* Changing the percision of the data we're using\n",
    "* Reducing the import overhead\n",
    "\n",
    "There is still a lot of redundency in the above code, we could explore other options:\n",
    "\n",
    "* Rewriting parts of the code in more memory efficient languages (Rust, C++). \n",
    "* Reducing the import overhead by reducing the complexity of the code and doing more steps in pure python.\n",
    "* Using more memory efficient libraries (e.g. Polars).\n",
    "* Spliting the dataset into chunks and loading in smaller bits at a time.\n",
    "\n",
    "We also need to consider the development cost in finding low-memory solutions. Reducing the memory usage by 10% might be better than spending hours trying to reduce it by 20%. \n",
    "\n",
    "The methods we've used here also have trade offs:\n",
    "* Going from f64 -> f16 is a lossy form of compression. We have lost information that we cannot simply get back.\n",
    "* We've thrown away data after it's read in and filtered. We can no longer compare to the original dataset without rewriting code.\n",
    "* We've decreased the complexity, we can no longer access functions like `numpy.sum` without explicitly importing them first.\n",
    "\n",
    "When working with clusters we can use tools such as `memory_profiler` to estimate the requirements of the job we're about to submit. This can prevent our job crashing if we haven't requested enough memory.\n",
    "\n",
    "\n",
    "\n"
   ]
  },
  {
   "cell_type": "markdown",
   "id": "7cf1b928-5717-4a31-b618-7384fb7969b8",
   "metadata": {},
   "source": [
    "## Cheap Tricks to \"generally\" speed up your code\n",
    "\n",
    "### Vectorization is your friend\n",
    "\n",
    "Vecorizing functions allow them to be applied to NumPy arrays, without having to write a for loop."
   ]
  },
  {
   "cell_type": "code",
   "execution_count": 109,
   "id": "06bc66d5-2a01-4028-96d6-fc6e787cb4e2",
   "metadata": {},
   "outputs": [],
   "source": [
    "def if_function(x):\n",
    "    if x < 0:\n",
    "        return 0\n",
    "    else:\n",
    "        return np.sqrt(x)\n"
   ]
  },
  {
   "cell_type": "code",
   "execution_count": 110,
   "id": "2d62f2fa-5999-430f-a543-8b4bca6cae1a",
   "metadata": {},
   "outputs": [],
   "source": [
    "x = np.random.random(10**5)"
   ]
  },
  {
   "cell_type": "code",
   "execution_count": 111,
   "id": "3b8caf01-8930-4879-ac6a-024f458c9321",
   "metadata": {},
   "outputs": [
    {
     "ename": "ValueError",
     "evalue": "The truth value of an array with more than one element is ambiguous. Use a.any() or a.all()",
     "output_type": "error",
     "traceback": [
      "\u001b[0;31m---------------------------------------------------------------------------\u001b[0m",
      "\u001b[0;31mValueError\u001b[0m                                Traceback (most recent call last)",
      "Cell \u001b[0;32mIn[111], line 1\u001b[0m\n\u001b[0;32m----> 1\u001b[0m \u001b[43mget_ipython\u001b[49m\u001b[43m(\u001b[49m\u001b[43m)\u001b[49m\u001b[38;5;241;43m.\u001b[39;49m\u001b[43mrun_line_magic\u001b[49m\u001b[43m(\u001b[49m\u001b[38;5;124;43m'\u001b[39;49m\u001b[38;5;124;43mtimeit\u001b[39;49m\u001b[38;5;124;43m'\u001b[39;49m\u001b[43m,\u001b[49m\u001b[43m \u001b[49m\u001b[38;5;124;43m'\u001b[39;49m\u001b[38;5;124;43my = if_function(x)\u001b[39;49m\u001b[38;5;124;43m'\u001b[39;49m\u001b[43m)\u001b[49m\n",
      "File \u001b[0;32m~/miniforge3/envs/workshop/lib/python3.10/site-packages/IPython/core/interactiveshell.py:2480\u001b[0m, in \u001b[0;36mInteractiveShell.run_line_magic\u001b[0;34m(self, magic_name, line, _stack_depth)\u001b[0m\n\u001b[1;32m   2478\u001b[0m     kwargs[\u001b[38;5;124m'\u001b[39m\u001b[38;5;124mlocal_ns\u001b[39m\u001b[38;5;124m'\u001b[39m] \u001b[38;5;241m=\u001b[39m \u001b[38;5;28mself\u001b[39m\u001b[38;5;241m.\u001b[39mget_local_scope(stack_depth)\n\u001b[1;32m   2479\u001b[0m \u001b[38;5;28;01mwith\u001b[39;00m \u001b[38;5;28mself\u001b[39m\u001b[38;5;241m.\u001b[39mbuiltin_trap:\n\u001b[0;32m-> 2480\u001b[0m     result \u001b[38;5;241m=\u001b[39m \u001b[43mfn\u001b[49m\u001b[43m(\u001b[49m\u001b[38;5;241;43m*\u001b[39;49m\u001b[43margs\u001b[49m\u001b[43m,\u001b[49m\u001b[43m \u001b[49m\u001b[38;5;241;43m*\u001b[39;49m\u001b[38;5;241;43m*\u001b[39;49m\u001b[43mkwargs\u001b[49m\u001b[43m)\u001b[49m\n\u001b[1;32m   2482\u001b[0m \u001b[38;5;66;03m# The code below prevents the output from being displayed\u001b[39;00m\n\u001b[1;32m   2483\u001b[0m \u001b[38;5;66;03m# when using magics with decorator @output_can_be_silenced\u001b[39;00m\n\u001b[1;32m   2484\u001b[0m \u001b[38;5;66;03m# when the last Python token in the expression is a ';'.\u001b[39;00m\n\u001b[1;32m   2485\u001b[0m \u001b[38;5;28;01mif\u001b[39;00m \u001b[38;5;28mgetattr\u001b[39m(fn, magic\u001b[38;5;241m.\u001b[39mMAGIC_OUTPUT_CAN_BE_SILENCED, \u001b[38;5;28;01mFalse\u001b[39;00m):\n",
      "File \u001b[0;32m~/miniforge3/envs/workshop/lib/python3.10/site-packages/IPython/core/magics/execution.py:1185\u001b[0m, in \u001b[0;36mExecutionMagics.timeit\u001b[0;34m(self, line, cell, local_ns)\u001b[0m\n\u001b[1;32m   1183\u001b[0m \u001b[38;5;28;01mfor\u001b[39;00m index \u001b[38;5;129;01min\u001b[39;00m \u001b[38;5;28mrange\u001b[39m(\u001b[38;5;241m0\u001b[39m, \u001b[38;5;241m10\u001b[39m):\n\u001b[1;32m   1184\u001b[0m     number \u001b[38;5;241m=\u001b[39m \u001b[38;5;241m10\u001b[39m \u001b[38;5;241m*\u001b[39m\u001b[38;5;241m*\u001b[39m index\n\u001b[0;32m-> 1185\u001b[0m     time_number \u001b[38;5;241m=\u001b[39m \u001b[43mtimer\u001b[49m\u001b[38;5;241;43m.\u001b[39;49m\u001b[43mtimeit\u001b[49m\u001b[43m(\u001b[49m\u001b[43mnumber\u001b[49m\u001b[43m)\u001b[49m\n\u001b[1;32m   1186\u001b[0m     \u001b[38;5;28;01mif\u001b[39;00m time_number \u001b[38;5;241m>\u001b[39m\u001b[38;5;241m=\u001b[39m \u001b[38;5;241m0.2\u001b[39m:\n\u001b[1;32m   1187\u001b[0m         \u001b[38;5;28;01mbreak\u001b[39;00m\n",
      "File \u001b[0;32m~/miniforge3/envs/workshop/lib/python3.10/site-packages/IPython/core/magics/execution.py:173\u001b[0m, in \u001b[0;36mTimer.timeit\u001b[0;34m(self, number)\u001b[0m\n\u001b[1;32m    171\u001b[0m gc\u001b[38;5;241m.\u001b[39mdisable()\n\u001b[1;32m    172\u001b[0m \u001b[38;5;28;01mtry\u001b[39;00m:\n\u001b[0;32m--> 173\u001b[0m     timing \u001b[38;5;241m=\u001b[39m \u001b[38;5;28;43mself\u001b[39;49m\u001b[38;5;241;43m.\u001b[39;49m\u001b[43minner\u001b[49m\u001b[43m(\u001b[49m\u001b[43mit\u001b[49m\u001b[43m,\u001b[49m\u001b[43m \u001b[49m\u001b[38;5;28;43mself\u001b[39;49m\u001b[38;5;241;43m.\u001b[39;49m\u001b[43mtimer\u001b[49m\u001b[43m)\u001b[49m\n\u001b[1;32m    174\u001b[0m \u001b[38;5;28;01mfinally\u001b[39;00m:\n\u001b[1;32m    175\u001b[0m     \u001b[38;5;28;01mif\u001b[39;00m gcold:\n",
      "File \u001b[0;32m<magic-timeit>:1\u001b[0m, in \u001b[0;36minner\u001b[0;34m(_it, _timer)\u001b[0m\n",
      "Cell \u001b[0;32mIn[109], line 2\u001b[0m, in \u001b[0;36mif_function\u001b[0;34m(x)\u001b[0m\n\u001b[1;32m      1\u001b[0m \u001b[38;5;28;01mdef\u001b[39;00m \u001b[38;5;21mif_function\u001b[39m(x):\n\u001b[0;32m----> 2\u001b[0m     \u001b[38;5;28;01mif\u001b[39;00m x \u001b[38;5;241m<\u001b[39m \u001b[38;5;241m0\u001b[39m:\n\u001b[1;32m      3\u001b[0m         \u001b[38;5;28;01mreturn\u001b[39;00m \u001b[38;5;241m0\u001b[39m\n\u001b[1;32m      4\u001b[0m     \u001b[38;5;28;01melse\u001b[39;00m:\n",
      "\u001b[0;31mValueError\u001b[0m: The truth value of an array with more than one element is ambiguous. Use a.any() or a.all()"
     ]
    }
   ],
   "source": [
    "%timeit y = if_function(x)"
   ]
  },
  {
   "cell_type": "markdown",
   "id": "0b920975-8e95-4320-9ef8-216a6f733438",
   "metadata": {},
   "source": [
    "We might be tempted to simply rewrite this function with a for loop. But remember, Python is terrible when looping..."
   ]
  },
  {
   "cell_type": "code",
   "execution_count": 112,
   "id": "f27f12c0-e73a-4abc-bce8-d8f5a248e846",
   "metadata": {},
   "outputs": [],
   "source": [
    "def loop_function(x):\n",
    "    ret = np.zeros(len(x))\n",
    "    for i in range(len(x)):\n",
    "        if x[i] < 0:\n",
    "            ret[i] =  0\n",
    "        else:\n",
    "            ret[i] = np.sqrt(x[i])\n",
    "    return ret "
   ]
  },
  {
   "cell_type": "code",
   "execution_count": 113,
   "id": "dcb0d5ef-777f-4da2-85cd-fc814e38f77b",
   "metadata": {},
   "outputs": [
    {
     "name": "stdout",
     "output_type": "stream",
     "text": [
      "65.5 ms ± 523 µs per loop (mean ± std. dev. of 7 runs, 10 loops each)\n"
     ]
    }
   ],
   "source": [
    "%timeit y = loop_function(x)"
   ]
  },
  {
   "cell_type": "code",
   "execution_count": 114,
   "id": "fcb77127-4718-4834-8f76-77db424e2ebd",
   "metadata": {},
   "outputs": [],
   "source": [
    "vec_function = np.vectorize(if_function)"
   ]
  },
  {
   "cell_type": "code",
   "execution_count": 115,
   "id": "0d62c0eb-d790-43e7-8393-2008987a4232",
   "metadata": {},
   "outputs": [
    {
     "name": "stdout",
     "output_type": "stream",
     "text": [
      "54.3 ms ± 422 µs per loop (mean ± std. dev. of 7 runs, 10 loops each)\n"
     ]
    }
   ],
   "source": [
    "%timeit y = vec_function(x)"
   ]
  },
  {
   "cell_type": "markdown",
   "id": "b4f47a0c-ba17-4bd4-bf3d-be820d0c396b",
   "metadata": {},
   "source": [
    "### Caching frequently used function calls\n",
    "When you're expecting to repeat function calls with the same arguements, cache the results."
   ]
  },
  {
   "cell_type": "code",
   "execution_count": 116,
   "id": "9a0becbb-957f-460b-a49c-2939073e5be2",
   "metadata": {},
   "outputs": [],
   "source": [
    "#first in first out cache wrapper\n",
    "def fifo(func):\n",
    "    # Define the cache size \n",
    "    cache_size = 5\n",
    "    # Use a dictionary as the cache\n",
    "    cache = {}\n",
    "\n",
    "    def wrapper(*args, **kwargs):\n",
    "        # tokenize the arguments\n",
    "        token = \"\"\n",
    "        for arg in args:\n",
    "            token += str(arg)\n",
    "        for arg in kwargs:\n",
    "            token += str(arg)\n",
    "\n",
    "        # If still have the token\n",
    "        if token in cache:\n",
    "            return cache[token]\n",
    "\n",
    "        # Call function\n",
    "        result = func(*args, **kwargs)\n",
    "        cache[token] = result\n",
    "\n",
    "        # Check if we need to remove items from cache\n",
    "        if len(cache) > 5:\n",
    "            cache[next(iter(cache))]\n",
    "            \n",
    "        # Return the results of the function\n",
    "        return result\n",
    "    return wrapper"
   ]
  },
  {
   "cell_type": "code",
   "execution_count": 117,
   "id": "54f12dbb-8cfe-4586-b036-ca97f05db74a",
   "metadata": {},
   "outputs": [],
   "source": [
    "def multiply_string(my_string, rept):\n",
    "    time.sleep(0.5)\n",
    "    return my_string * rept\n",
    "\n"
   ]
  },
  {
   "cell_type": "code",
   "execution_count": 118,
   "id": "01f3bf5a-b39a-49e0-b425-5aa4a3730353",
   "metadata": {},
   "outputs": [
    {
     "name": "stdout",
     "output_type": "stream",
     "text": [
      "CPU times: user 1.07 ms, sys: 33 µs, total: 1.1 ms\n",
      "Wall time: 503 ms\n"
     ]
    },
    {
     "data": {
      "text/plain": [
       "'hellohellohellohellohello'"
      ]
     },
     "execution_count": 118,
     "metadata": {},
     "output_type": "execute_result"
    }
   ],
   "source": [
    "%time multiply_string(\"hello\", 5)\n"
   ]
  },
  {
   "cell_type": "code",
   "execution_count": 119,
   "id": "e5673147-9037-461f-9ee2-78578d11e05a",
   "metadata": {},
   "outputs": [
    {
     "name": "stdout",
     "output_type": "stream",
     "text": [
      "CPU times: user 1.25 ms, sys: 37 µs, total: 1.29 ms\n",
      "Wall time: 502 ms\n"
     ]
    },
    {
     "data": {
      "text/plain": [
       "'hellohellohellohellohello'"
      ]
     },
     "execution_count": 119,
     "metadata": {},
     "output_type": "execute_result"
    }
   ],
   "source": [
    "%time multiply_string(\"hello\", 5)"
   ]
  },
  {
   "cell_type": "code",
   "execution_count": 120,
   "id": "f2514652-7d60-4d53-8e58-1d7af7563842",
   "metadata": {},
   "outputs": [],
   "source": [
    "@fifo\n",
    "def multiply_string_cache(my_string, rept):\n",
    "    time.sleep(0.5)\n",
    "    return my_string * rept"
   ]
  },
  {
   "cell_type": "code",
   "execution_count": 121,
   "id": "88ea4a18-eeb4-4dde-a128-7f353caddd57",
   "metadata": {},
   "outputs": [
    {
     "name": "stdout",
     "output_type": "stream",
     "text": [
      "CPU times: user 1.2 ms, sys: 36 µs, total: 1.24 ms\n",
      "Wall time: 503 ms\n"
     ]
    },
    {
     "data": {
      "text/plain": [
       "'goodbyegoodbyegoodbyegoodbyegoodbye'"
      ]
     },
     "execution_count": 121,
     "metadata": {},
     "output_type": "execute_result"
    }
   ],
   "source": [
    "%time multiply_string_cache(\"goodbye\", 5)\n"
   ]
  },
  {
   "cell_type": "code",
   "execution_count": 122,
   "id": "610b83d1-f505-400b-b074-7e77664d01b2",
   "metadata": {},
   "outputs": [
    {
     "name": "stdout",
     "output_type": "stream",
     "text": [
      "CPU times: user 8 µs, sys: 0 ns, total: 8 µs\n",
      "Wall time: 13.1 µs\n"
     ]
    },
    {
     "data": {
      "text/plain": [
       "'goodbyegoodbyegoodbyegoodbyegoodbye'"
      ]
     },
     "execution_count": 122,
     "metadata": {},
     "output_type": "execute_result"
    }
   ],
   "source": [
    "%time multiply_string_cache(\"goodbye\", 5)"
   ]
  },
  {
   "cell_type": "markdown",
   "id": "9b5cb582-1825-4a40-95c3-234ae301a34f",
   "metadata": {},
   "source": [
    "Now that we know how the cache works, we can use some blackboxed python functions.\n",
    "\n",
    "Let's use a [Least recently used](https://en.wikipedia.org/wiki/Cache_replacement_policies#Least_recently_used_(LRU)) cache. This will track the number of times we call a set of args. When the cache fills up, the least used item will be removed."
   ]
  },
  {
   "cell_type": "code",
   "execution_count": 123,
   "id": "1670e0e7-3b08-4180-919c-a78e2f0ebeb8",
   "metadata": {},
   "outputs": [],
   "source": [
    "from functools import lru_cache\n",
    "\n",
    "@lru_cache(maxsize=5)\n",
    "def multiply_string_lru(my_string, rept):\n",
    "    time.sleep(0.5)\n",
    "    return my_string * rept"
   ]
  },
  {
   "cell_type": "code",
   "execution_count": 124,
   "id": "a3116f76-ffc1-44f8-8029-fc6eafcdd9ea",
   "metadata": {},
   "outputs": [
    {
     "name": "stdout",
     "output_type": "stream",
     "text": [
      "CPU times: user 952 µs, sys: 29 µs, total: 981 µs\n",
      "Wall time: 503 ms\n"
     ]
    },
    {
     "data": {
      "text/plain": [
       "'goodbyegoodbyegoodbyegoodbyegoodbye'"
      ]
     },
     "execution_count": 124,
     "metadata": {},
     "output_type": "execute_result"
    }
   ],
   "source": [
    "%time multiply_string_lru(\"goodbye\", 5)\n"
   ]
  },
  {
   "cell_type": "code",
   "execution_count": 125,
   "id": "3eb0ff3d-5807-4b81-8412-c93e6118d517",
   "metadata": {},
   "outputs": [
    {
     "name": "stdout",
     "output_type": "stream",
     "text": [
      "CPU times: user 4 µs, sys: 0 ns, total: 4 µs\n",
      "Wall time: 7.39 µs\n"
     ]
    },
    {
     "data": {
      "text/plain": [
       "'goodbyegoodbyegoodbyegoodbyegoodbye'"
      ]
     },
     "execution_count": 125,
     "metadata": {},
     "output_type": "execute_result"
    }
   ],
   "source": [
    "%time multiply_string_lru(\"goodbye\", 5)"
   ]
  },
  {
   "cell_type": "markdown",
   "id": "49dcec9d-6708-475a-b6ef-4bd7542b2cf9",
   "metadata": {},
   "source": [
    "### Already have working code from a more efficient language? Import it!\n",
    "\n",
    "Python has lots of tools to import code from different languages"
   ]
  },
  {
   "cell_type": "code",
   "execution_count": 78,
   "id": "507f13ce-9af4-4cef-93b0-49e8af4bb7d3",
   "metadata": {},
   "outputs": [],
   "source": [
    "def py_fib(x):\n",
    "    if x in [0,1] :\n",
    "        return 1\n",
    "    else:\n",
    "        return py_fib(x - 1) + py_fib(x - 2)\n"
   ]
  },
  {
   "cell_type": "code",
   "execution_count": 79,
   "id": "2b0330bb-c3e4-4806-a90c-923d06e5b49b",
   "metadata": {},
   "outputs": [
    {
     "name": "stdout",
     "output_type": "stream",
     "text": [
      "9.06 µs ± 93.5 ns per loop (mean ± std. dev. of 7 runs, 100,000 loops each)\n"
     ]
    }
   ],
   "source": [
    "%timeit py_fib(10)"
   ]
  },
  {
   "cell_type": "code",
   "execution_count": 80,
   "id": "1e701114-49a9-4cb1-b118-9a00128e7018",
   "metadata": {},
   "outputs": [],
   "source": [
    "from numba import jit\n",
    "\n",
    "@jit( nopython = True )\n",
    "def py_fib(x):\n",
    "    if x in [0,1] :\n",
    "        return 1\n",
    "    else:\n",
    "        return py_fib(x - 1) + py_fib(x - 2)\n"
   ]
  },
  {
   "cell_type": "code",
   "execution_count": 81,
   "id": "393897a0-e866-4b2b-9ef8-b113bed2f0c4",
   "metadata": {},
   "outputs": [
    {
     "data": {
      "text/plain": [
       "89"
      ]
     },
     "execution_count": 81,
     "metadata": {},
     "output_type": "execute_result"
    }
   ],
   "source": [
    "py_fib(10)"
   ]
  },
  {
   "cell_type": "code",
   "execution_count": 74,
   "id": "8ffcfff9-4edd-4374-8487-98add37b4695",
   "metadata": {},
   "outputs": [
    {
     "name": "stdout",
     "output_type": "stream",
     "text": [
      "362 ns ± 3.35 ns per loop (mean ± std. dev. of 7 runs, 1,000,000 loops each)\n"
     ]
    }
   ],
   "source": [
    "%timeit py_fib(10)"
   ]
  },
  {
   "cell_type": "markdown",
   "id": "0c601193-35f7-492c-8dee-8e0b282ae944",
   "metadata": {},
   "source": [
    "We can use packages like Cython to write C++ code in Python. Or we can directly import a precompiled library.\n",
    "\n",
    "We can make C++ functions accessible in Python by wrapping our code in a `extern \"C\"` block.\n",
    "\n",
    "```C++\n",
    "extern \"C\" {\n",
    "\n",
    "    double my_function(... some arguments...){\n",
    "        ... some code ...\n",
    "    }\n",
    "}\n",
    "```\n",
    "\n",
    "Why `extern \"C\"`? One of the differences between C and C++ is that C++ allows us to overload functions. This means that two functions can have the same name, but accept different arguements. For example let say we have some functionality that we would like to make common across different data types:\n",
    "```C++\n",
    "double get_sqrt_integer( int a );\n",
    "double get_sqrt_double( double a );\n",
    "```\n",
    "\n",
    "The user shouldn't need to worry if the argument is an `int` or a `double`. So we would \"overload\" the function like so:\n",
    "```C++\n",
    "double get_sqrt( int a );\n",
    "double get_sqrt( double a );\n",
    "```\n",
    "So the user only ever calls `get_sqrt` and the compile handles the logic on whether it is a `double` or an `int`. The compile does this by giving each of the function versions unique names that are generated at compile time.\n",
    "\n",
    "By using `extern \"C\"` we are reverting back to the `C` method, which will explicitly asign the name we give the function, but it means that we can no longer overload the function. We therefore would need to run:\n",
    "\n",
    "```C++\n",
    "extern \"C\" {   \n",
    "    double get_sqrt_integer( int a );\n",
    "    double get_sqrt_double( double a );\n",
    "}\n",
    "```\n",
    "\n",
    "When analyzing the compiled library we would see the two functions called `get_sqrt_integer` and `get_sqrt_double`."
   ]
  },
  {
   "cell_type": "code",
   "execution_count": 82,
   "id": "389d4884-f25d-45c6-880f-03af5e559430",
   "metadata": {},
   "outputs": [
    {
     "name": "stdout",
     "output_type": "stream",
     "text": [
      "Overwriting cpp_fib.cpp\n"
     ]
    }
   ],
   "source": [
    "%%writefile cpp_fib.cpp\n",
    "extern \"C\" {\n",
    "    int cpp_fib(unsigned int x)\n",
    "    {\n",
    "        if ( (x == 0) || (x == 1) )\n",
    "        {\n",
    "            return 1;\n",
    "        }\n",
    "        else\n",
    "        {\n",
    "            return cpp_fib(x-1) + cpp_fib(x-2);\n",
    "        }\n",
    "    }\n",
    "}"
   ]
  },
  {
   "cell_type": "markdown",
   "id": "9a7dec58-f334-44f5-8ae3-a2021bf289c4",
   "metadata": {},
   "source": [
    "Compile to a shared library"
   ]
  },
  {
   "cell_type": "code",
   "execution_count": 76,
   "id": "16c50954-27c8-4693-81ae-8af5b3ce174c",
   "metadata": {},
   "outputs": [],
   "source": [
    "# mamba / conda install gxx\n",
    "# or\n",
    "# mamba /conda install gxx-compiler"
   ]
  },
  {
   "cell_type": "code",
   "execution_count": 83,
   "id": "a8e96c11-94da-4a68-bf22-63e179f1508a",
   "metadata": {},
   "outputs": [],
   "source": [
    "! g++ -fPIC -shared -o cpp_fib.so cpp_fib.cpp -O3"
   ]
  },
  {
   "cell_type": "code",
   "execution_count": 84,
   "id": "f5fca9ea-b312-4614-a5c8-46066dc68cfd",
   "metadata": {},
   "outputs": [
    {
     "name": "stdout",
     "output_type": "stream",
     "text": [
      "cpp_fib.cpp  cpp_fib.so\n"
     ]
    }
   ],
   "source": [
    "! ls cpp_*"
   ]
  },
  {
   "cell_type": "markdown",
   "id": "0f603784-c9d2-45ed-98ba-2a7037b53ba9",
   "metadata": {},
   "source": [
    "Load in the library with `ctypes` and \"translate\" the argument types"
   ]
  },
  {
   "cell_type": "code",
   "execution_count": 85,
   "id": "c1e091e3-942c-429f-9c60-52344d0f801d",
   "metadata": {},
   "outputs": [],
   "source": [
    "import ctypes\n",
    "\n",
    "cpp_lib = ctypes.CDLL(\"./cpp_fib.so\")\n",
    "# Access the cpp_fib function from the library\n",
    "# and assigne the argument type\n",
    "cpp_lib.cpp_fib.argtypes = [ctypes.c_uint] \n",
    "# Alias it to cpp_fib\n",
    "cpp_fib = cpp_lib.cpp_fib\n"
   ]
  },
  {
   "cell_type": "code",
   "execution_count": 86,
   "id": "596d43d9-3fff-4e1a-bc50-0bedac8dba62",
   "metadata": {},
   "outputs": [
    {
     "name": "stdout",
     "output_type": "stream",
     "text": [
      "273 ns ± 4.17 ns per loop (mean ± std. dev. of 7 runs, 1,000,000 loops each)\n"
     ]
    }
   ],
   "source": [
    "%timeit cpp_fib(10)"
   ]
  },
  {
   "cell_type": "markdown",
   "id": "18c99148-891f-4980-9a6f-10e7506f2855",
   "metadata": {},
   "source": [
    "We can also load in Rust code using rustimport\n",
    "```\n",
    "mamba/conda install rustimport\n",
    "```\n",
    "\n",
    "And the `pyo3` rust crate:"
   ]
  },
  {
   "cell_type": "code",
   "execution_count": 87,
   "id": "b7b8625f-7ae7-455a-8aa6-e0a00b6287a5",
   "metadata": {},
   "outputs": [],
   "source": [
    "%load_ext rustimport"
   ]
  },
  {
   "cell_type": "markdown",
   "id": "2e598b4d-f22a-4422-bfa0-b08a0fe0a529",
   "metadata": {},
   "source": [
    "use `--release` to complie an optimized binary rather than a debug binary."
   ]
  },
  {
   "cell_type": "code",
   "execution_count": 88,
   "id": "1f9d470a-5606-418f-86d8-ca6b40ca698e",
   "metadata": {
    "scrolled": true
   },
   "outputs": [
    {
     "name": "stderr",
     "output_type": "stream",
     "text": [
      "\u001b[1m\u001b[32m    Updating\u001b[0m crates.io index\n",
      "\u001b[1m\u001b[32m Downloading\u001b[0m crates ...\n",
      "\u001b[1m\u001b[32m  Downloaded\u001b[0m syn v2.0.64\n",
      "\u001b[1m\u001b[32m   Compiling\u001b[0m target-lexicon v0.12.14\n",
      "\u001b[1m\u001b[32m   Compiling\u001b[0m once_cell v1.19.0\n",
      "\u001b[1m\u001b[32m   Compiling\u001b[0m autocfg v1.3.0\n",
      "\u001b[1m\u001b[32m   Compiling\u001b[0m proc-macro2 v1.0.82\n",
      "\u001b[1m\u001b[32m   Compiling\u001b[0m unicode-ident v1.0.12\n",
      "\u001b[1m\u001b[32m   Compiling\u001b[0m libc v0.2.154\n",
      "\u001b[1m\u001b[32m   Compiling\u001b[0m parking_lot_core v0.9.10\n",
      "\u001b[1m\u001b[32m   Compiling\u001b[0m portable-atomic v1.6.0\n",
      "\u001b[1m\u001b[32m   Compiling\u001b[0m cfg-if v1.0.0\n",
      "\u001b[1m\u001b[32m   Compiling\u001b[0m scopeguard v1.2.0\n",
      "\u001b[1m\u001b[32m   Compiling\u001b[0m smallvec v1.13.2\n",
      "\u001b[1m\u001b[32m   Compiling\u001b[0m heck v0.4.1\n",
      "\u001b[1m\u001b[32m   Compiling\u001b[0m indoc v2.0.5\n",
      "\u001b[1m\u001b[32m   Compiling\u001b[0m unindent v0.2.3\n",
      "\u001b[1m\u001b[32m   Compiling\u001b[0m lock_api v0.4.12\n",
      "\u001b[1m\u001b[32m   Compiling\u001b[0m memoffset v0.9.1\n",
      "\u001b[1m\u001b[32m   Compiling\u001b[0m pyo3-build-config v0.21.2\n",
      "\u001b[1m\u001b[32m   Compiling\u001b[0m quote v1.0.36\n",
      "\u001b[1m\u001b[32m   Compiling\u001b[0m syn v2.0.64\n",
      "\u001b[1m\u001b[32m   Compiling\u001b[0m parking_lot v0.12.2\n",
      "\u001b[1m\u001b[32m   Compiling\u001b[0m pyo3-ffi v0.21.2\n",
      "\u001b[1m\u001b[32m   Compiling\u001b[0m pyo3 v0.21.2\n",
      "\u001b[1m\u001b[32m   Compiling\u001b[0m pyo3-macros-backend v0.21.2\n",
      "\u001b[1m\u001b[32m   Compiling\u001b[0m pyo3-macros v0.21.2\n",
      "\u001b[1m\u001b[32m   Compiling\u001b[0m _magic_4716e3197ba1bc8f v0.1.0 (/tmp/rustimport/_magic_4716e3197ba1bc8f-860e1651e5b8e95bc6f26cfde7bdc78b/_magic_4716e3197ba1bc8f)\n",
      "\u001b[1m\u001b[32m    Finished\u001b[0m release [optimized] target(s) in 8.30s\n"
     ]
    }
   ],
   "source": [
    "%%rustimport  --release --force\n",
    "use pyo3::prelude::*;\n",
    "\n",
    "#[pyfunction]\n",
    "fn rust_fib(x: usize) -> usize {\n",
    "    match x {\n",
    "        1 => 1,\n",
    "        0 => 1,\n",
    "        _ => rust_fib(x - 1) + rust_fib(x - 2)\n",
    "    }\n",
    "}"
   ]
  },
  {
   "cell_type": "code",
   "execution_count": 87,
   "id": "d2b9c8a2-b199-4c00-8c7d-2d503076acae",
   "metadata": {},
   "outputs": [
    {
     "name": "stdout",
     "output_type": "stream",
     "text": [
      "168 ns ± 19.9 ns per loop (mean ± std. dev. of 7 runs, 1,000,000 loops each)\n"
     ]
    }
   ],
   "source": [
    "%timeit rust_fib(10)"
   ]
  },
  {
   "cell_type": "code",
   "execution_count": 88,
   "id": "62db9db5-704d-45a5-8b4e-8bb1c015debb",
   "metadata": {},
   "outputs": [],
   "source": [
    "# fib_sqe = [py_fib(i) for i in range(10)]\n",
    "# fib_sqe"
   ]
  },
  {
   "cell_type": "code",
   "execution_count": 89,
   "id": "acd84503-a71e-4809-b15a-f1fa578ad1d4",
   "metadata": {},
   "outputs": [],
   "source": [
    "# fib_sqe = [cpp_fib(i) for i in range(10)]\n",
    "# fib_sqe"
   ]
  },
  {
   "cell_type": "code",
   "execution_count": 90,
   "id": "4c206bed-1221-4b63-bae0-b3ee1498417e",
   "metadata": {},
   "outputs": [],
   "source": [
    "# fib_sqe = [rust_fib(i) for i in range(10)]\n",
    "# fib_sqe"
   ]
  },
  {
   "cell_type": "markdown",
   "id": "ac388fdc-ab71-4812-a86e-3493abb53f48",
   "metadata": {},
   "source": [
    "### Don't reinvent the wheel!\n",
    "\n",
    "Python is one of the most popular languages. A lot of super talented people have spent a lot of time optimizing python and wrapping low lower level languages in Python code. Use libraries such as:\n",
    "\n",
    "* NumPy\n",
    "* SciPy\n",
    "* Pandas"
   ]
  },
  {
   "cell_type": "code",
   "execution_count": null,
   "id": "06d311a6-0643-4899-924d-7a66048ed070",
   "metadata": {},
   "outputs": [],
   "source": []
  },
  {
   "cell_type": "code",
   "execution_count": null,
   "id": "e58702c2-ff37-4c37-8c58-cb795fe7dc08",
   "metadata": {},
   "outputs": [],
   "source": []
  },
  {
   "cell_type": "code",
   "execution_count": null,
   "id": "931eca87-c308-4680-a49e-e522b23865fc",
   "metadata": {},
   "outputs": [],
   "source": []
  }
 ],
 "metadata": {
  "kernelspec": {
   "display_name": "Python 3 (ipykernel)",
   "language": "python",
   "name": "python3"
  },
  "language_info": {
   "codemirror_mode": {
    "name": "ipython",
    "version": 3
   },
   "file_extension": ".py",
   "mimetype": "text/x-python",
   "name": "python",
   "nbconvert_exporter": "python",
   "pygments_lexer": "ipython3",
   "version": "3.10.14"
  }
 },
 "nbformat": 4,
 "nbformat_minor": 5
}
