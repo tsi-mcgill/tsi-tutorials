{
 "cells": [
  {
   "cell_type": "markdown",
   "metadata": {},
   "source": [
    "## What is Python?\n",
    "\n",
    "Python is one of the most widely used programming languages today. It is a high-level, interpreted programming language that emphasizes readability. Python's readability makes it often the language of choice for both those beginning to learn programming and large collaborative projects.\n",
    "\n",
    "Unlike compiled languages like C++ and Rust, Python is an interpreted language. This means that the Python interpreter will compile the code at runtime, rather than compiling it down to a binary prior to running. This has the benefit of making Python an excellent language for quickly developing and debugging code.\n",
    "\n",
    "Interactive environments like Jupyter Notebooks allow for clear frameworks for developing, testing, sharing, and presenting code.\n"
   ]
  },
  {
   "cell_type": "markdown",
   "metadata": {},
   "source": [
    "## Installing Python and working with Environments\n",
    "\n",
    "We will use virtual environments in this tutorial. I recommend that you use an environment manager such as [conda](https://docs.conda.io/projects/conda/en/latest/user-guide/install/index.html) or [mamba](https://mamba.readthedocs.io/en/latest/installation/mamba-installation.html)/[micromamba](https://mamba.readthedocs.io/en/latest/installation/micromamba-installation.html).\n",
    "\n",
    "Mamba/Micromamba is a \"fast, robust, and cross-platform package manager\" that offers significant performance advantages over conda when installing and resolving packages.\n",
    "\n",
    "We can create a new environment using the following command:\n",
    "\n",
    "\n",
    "```\n",
    "mamba/conda create -n my_environment python=3.9 numpy matplotlib\n",
    "```\n",
    "\n",
    "Here, we are creating a new environment called `my_environment`, which installs `Python 3.9` and the packages `numpy` and `matplotlib`. We can activate this environment using:\n",
    "```\n",
    "mamba/conda activate my_environment\n",
    "```\n",
    "\n",
    "\n",
    "\n",
    "Running `which python` confirms that we are utilizing the Python installed within our environment.\n",
    "\n",
    "Environments enable us to install conflicting versions for various projects. For instance, suppose we need to execute older code dependent on Python 2.7, which is incompatible with modern packages. In that scenario, we can establish an environment with Python 2.7 and install versions of packages compatible with it. This action won't impact any other environment we've established.\n",
    "\n",
    "For this workshop, we will utilize the following environment:\n",
    "\n",
    "```\n",
    "mamba/conda create -n workshop -c conda-forge python=3.10 numpy matplotlib scipy pandas jupyter jupyterlab ipykernel\n",
    "```\n"
   ]
  },
  {
   "cell_type": "markdown",
   "metadata": {},
   "source": [
    "## Installing additional packages\n",
    "\n",
    "Once in the environment, we can install additional packages using the `install` command:\n",
    "\n",
    "```\n",
    "mamba/conda install scipy\n",
    "```\n",
    "\n",
    "\n",
    "\n",
    "This installs the package `scipy`, which is a statistics package compatible with `numpy` data types. We can also remove a package using:\n",
    "\n",
    "```\n",
    "mamba/conda remove scipy\n",
    "```\n",
    "\n",
    "\n",
    "which would remove the package `scipy`. Some packages will require installation from a specific collection of packages:\n",
    "\n",
    "```\n",
    "mamba/conda install -c conda-forge astroquery\n",
    "```\n",
    "\n",
    "\n",
    "This installs the package `astroquery`, a package that allows querying astronomical databases like Simbad, which is part of the collection `conda-forge`. \n",
    "\n",
    "If we ever want to see which packages are currently installed, we can use something like:\n",
    "\n",
    "\n",
    "```\n",
    "mamba/conda list\n",
    "```\n",
    "\n",
    "which gives a list of installed packages and their versions. We can output this to a machine-readable file using:\n",
    "```\n",
    "mamba/conda list -e > requirements.txt\n",
    "```\n",
    "\n",
    "Ensuring that users are using a standard environment can help debug version-specific bugs.\n",
    "\n",
    "\n"
   ]
  },
  {
   "cell_type": "markdown",
   "metadata": {},
   "source": [
    "## Hello World\n",
    "\n",
    "Python is a dynamically typed language, which means that the type of a variable does not need to be known until that variable is used. This also means that we can change the type of a variable at any stage of the code.\n",
    "\n",
    "We can define variables like:\n",
    "\n",
    "```python\n",
    "my_string = \"Hello\"\n",
    "```\n",
    "We can also overwrite variables like:"
   ]
  },
  {
   "cell_type": "code",
   "execution_count": 2,
   "metadata": {},
   "outputs": [
    {
     "data": {
      "text/plain": [
       "'hello'"
      ]
     },
     "execution_count": 2,
     "metadata": {},
     "output_type": "execute_result"
    }
   ],
   "source": [
    "# Defining a bool\n",
    "my_variable = True\n",
    "# Redefining as a float\n",
    "my_variable = 3.14\n",
    "# Redefining as a string\n",
    "my_variable = \"hello\"\n",
    "my_variable"
   ]
  },
  {
   "cell_type": "markdown",
   "metadata": {},
   "source": [
    "In python we can print output using the `print()` function:"
   ]
  },
  {
   "cell_type": "code",
   "execution_count": 3,
   "metadata": {},
   "outputs": [
    {
     "name": "stdout",
     "output_type": "stream",
     "text": [
      "hello\n",
      "False\n",
      "3.14\n",
      "Goodbye, World!\n"
     ]
    }
   ],
   "source": [
    "# Defining as a string\n",
    "my_variable = \"hello\"\n",
    "print (my_variable)\n",
    "# Redefining a bool\n",
    "my_variable = False\n",
    "print (my_variable)\n",
    "# Redefining as a float\n",
    "my_variable = 3.14\n",
    "print (my_variable)\n",
    "print (\"Goodbye, World!\")\n"
   ]
  },
  {
   "cell_type": "markdown",
   "metadata": {},
   "source": [
    "when printing we can format strings using `fstrings`:"
   ]
  },
  {
   "cell_type": "code",
   "execution_count": 10,
   "metadata": {},
   "outputs": [
    {
     "name": "stdout",
     "output_type": "stream",
     "text": [
      "Pi to 5 digits =  3.14159\n",
      "Pi to 3 digits =  3.142\n",
      "Pi to 4 digits in scientific notation =  3.14e+00\n",
      "Pi as an integer =  3, minus pi to 1 digit -3.1\n"
     ]
    }
   ],
   "source": [
    "pi = 3.14159265359\n",
    "print (f\"Pi to 5 digits = {pi : 0.5f}\")\n",
    "print (f\"Pi to 3 digits = {pi: 0.3f}\")\n",
    "print (f\"Pi to 4 digits in scientific notation = {pi : 0.2e}\")\n",
    "print (f\"Pi as an integer = {pi: 0.0f}, minus pi to 1 digit {-pi :0.1f}\")"
   ]
  },
  {
   "cell_type": "markdown",
   "metadata": {},
   "source": [
    "We can also define strings to format later:"
   ]
  },
  {
   "cell_type": "code",
   "execution_count": 12,
   "metadata": {},
   "outputs": [
    {
     "name": "stdout",
     "output_type": "stream",
     "text": [
      "My name is Ste, my favorite number is 42\n",
      "My name is {name}, my favorite number is {number}\n"
     ]
    }
   ],
   "source": [
    "my_string = \"My name is {name}, my favorite number is {number}\"\n",
    "\n",
    "formatted = my_string.format( name = \"Ste\", number = 42)\n",
    "print(formatted)\n",
    "print(my_string)\n"
   ]
  },
  {
   "cell_type": "markdown",
   "metadata": {},
   "source": [
    "And we can add strings together and take slices of string:"
   ]
  },
  {
   "cell_type": "code",
   "execution_count": 14,
   "metadata": {},
   "outputs": [
    {
     "name": "stdout",
     "output_type": "stream",
     "text": [
      "My name is Ste, my favorite number is 42 and I like pie\n",
      "My name is Ste, my favorite number is 42 and I lipi\n"
     ]
    }
   ],
   "source": [
    "# Adding to a string\n",
    "extended = formatted + \" and I like pie\"\n",
    "print (extended)\n",
    "# Taking up to the last 6 elements and adding \"pi\"\n",
    "print ( extended[:-6] + \"pi\")"
   ]
  },
  {
   "cell_type": "markdown",
   "metadata": {},
   "source": [
    "## Basic Operations\n",
    "\n",
    "* Addition: a + b \n",
    "* Multiplication: a * b\n",
    "* Division: a / b\n",
    "* Integer division: a // b\n",
    "* Modulus: a % b\n",
    "* Power: a ** b\n",
    "* Equal: a == b\n",
    "* Not equal: a != b\n",
    "* Less than: a < b\n",
    "* Less than or equal to: a <= b\n",
    "* Greater than: a > b\n",
    "* Greater than or equal to: a >= b\n",
    "\n",
    "### Other logical statements:\n",
    "\n",
    "* Or: \n",
    "  - a or b \n",
    "  - a | b\n",
    "* And:\n",
    "  - a and b\n",
    "  - a & b\n",
    "\n",
    "For example, if a multiplied by b is less than c divided by d, and e is greater than 10:\n",
    "```\n",
    "(a * b < c / d) and (e > 10)\n",
    "```"
   ]
  },
  {
   "cell_type": "code",
   "execution_count": 15,
   "metadata": {},
   "outputs": [
    {
     "name": "stdout",
     "output_type": "stream",
     "text": [
      "7 / 2.2 = 3.1818181818181817\n",
      "7 // 2.2 = 3.0\n",
      "7 % 2.2 = 0.39999999999999947\n",
      "a > 2: True\n"
     ]
    }
   ],
   "source": [
    "a = 7\n",
    "b = 2.2\n",
    "# Normal division\n",
    "c = a / b\n",
    "# Integer division\n",
    "d = a // b\n",
    "# Modulus (remainder)\n",
    "e = a % b\n",
    "\n",
    "print(f\"{a} / {b} = {c}\")\n",
    "print(f\"{a} // {b} = {d}\")\n",
    "print(f\"{a} % {b} = {e}\")\n",
    "\n",
    "print (f\"a > 2: {a > 2}\")"
   ]
  },
  {
   "cell_type": "markdown",
   "metadata": {},
   "source": [
    "## Basic Data Types\n",
    "\n",
    "Python has several basic data types:\n",
    "\n",
    "- `int`: integers: -3, -2, -1, 0, 1, 2, 3, etc.\n",
    "- `float`: non-integers: 3.14, 42.0, etc.\n",
    "- `bool`: boolean. Note in Python, `True`/`False` start with a capital letter.\n",
    "    - `x = false` will give an error, while `x = False` will not.\n",
    "- `str`: strings of characters. In Python, strings are wrapped in single (`''`) or double (`\"\"`) quotation marks. They can be combined when using strings:\n",
    "    - `my_str = \"hello\"`, `my_str = 'apple'`, `answer = 'Computer says \"no\"'` - all of these will work just fine.\n",
    "    - `my_str = \"Goodbye'` will not work since we need to match the quotation marks properly.\n",
    "\n",
    "We can cast from one data type to another using the format:\n",
    "\n",
    "```python\n",
    "x = 1.3\n",
    "y = int(x)\n",
    "\n",
    "```\n",
    "Here, `x` is cast to the `int` type `y`. We can also determine the type of a variable using the type function:\n",
    "```python\n",
    "type(x)\n",
    "```\n"
   ]
  },
  {
   "cell_type": "code",
   "execution_count": 17,
   "metadata": {},
   "outputs": [
    {
     "name": "stdout",
     "output_type": "stream",
     "text": [
      "10 10.0 10 True\n",
      "<class 'int'> <class 'float'> <class 'str'> <class 'bool'>\n"
     ]
    }
   ],
   "source": [
    "x = 10\n",
    "y = float(x)\n",
    "z = str(x)\n",
    "v = bool(x)\n",
    "print (x,y,z,v)\n",
    "print (type(x), type(y), type(z), type(v))\n"
   ]
  },
  {
   "cell_type": "markdown",
   "metadata": {},
   "source": [
    "## Basic Collections of Data\n",
    "\n",
    "Python offers several ways to organize and store data efficiently. These data structures play a vital role in managing and manipulating information within a program.\n",
    "\n"
   ]
  },
  {
   "cell_type": "markdown",
   "metadata": {},
   "source": [
    "### Lists\n",
    "\n",
    "A `list` in Python is a versatile and mutable collection of items, ordered and enclosed within square brackets `[]`. It allows storing various data types, including integers, strings, or even other lists. Lists are dynamic, meaning elements can be added, removed, or changed after creation using methods like `append()`, `insert()`, `remove()`, or by directly assigning values to specific indices.\n",
    "\n",
    "```python\n",
    "my_list = [1, 2, 3, 'apple', 'banana', 'cherry']\n",
    "```"
   ]
  },
  {
   "cell_type": "code",
   "execution_count": 24,
   "metadata": {},
   "outputs": [
    {
     "name": "stdout",
     "output_type": "stream",
     "text": [
      "[1, 2, 3, 4, 'apple']\n",
      "[1, 2, 3, 4, 'apple', 'jeudi']\n",
      "jeudi [1, 2, 3, 4, 'apple']\n",
      "1 [2, 3, 4, 'apple']\n",
      "[2, 3, 4, 58.3]\n",
      "[2, 3, 'hello', 58.3]\n"
     ]
    }
   ],
   "source": [
    "# Create a list\n",
    "my_list = [1,2,3,4,'apple']\n",
    "print (my_list)\n",
    "\n",
    "# Add a new element to the end\n",
    "my_list.append('jeudi')\n",
    "print (my_list)\n",
    "\n",
    "# \"Pop\" out the last element\n",
    "element = my_list.pop()\n",
    "print (element, my_list)\n",
    "\n",
    "my_first = my_list.pop(0)\n",
    "print (my_first, my_list)\n",
    "\n",
    "# Reasign a value\n",
    "my_list[-1] = 58.3\n",
    "print (my_list)\n",
    "\n",
    "\n",
    "# Lists can include multiple data types\n",
    "my_list[2] = \"hello\"\n",
    "print(my_list)"
   ]
  },
  {
   "cell_type": "markdown",
   "metadata": {},
   "source": [
    "#### String slicing\n",
    "\n",
    "In Python we can slice lists (and arrays, more on this later) to access sub sections of the list. We use the syntax:\n",
    "``` python\n",
    "my_list[start:stop]\n",
    "``` \n",
    "\n",
    "where `start` and `stop` are the range that we want to access, with `stop` being exclusive. We can also access the last element with:\n",
    "```python\n",
    "my_list[-1]\n",
    "```\n",
    "with `-1` being the last element (`-2` being the second last... etc.). To slice from the 2 element to the second last we would do:\n",
    "```python\n",
    "my_list[2:-2]\n",
    "```\n",
    "\n",
    "\n"
   ]
  },
  {
   "cell_type": "code",
   "execution_count": 27,
   "metadata": {},
   "outputs": [
    {
     "name": "stdout",
     "output_type": "stream",
     "text": [
      "[1, 2, 3, 4, 5, 6, 7, 8, 9, 1, 2, 3, 4]\n",
      "[2, 3, 4, 5, 6, 7, 8, 9, 1, 2, 3]\n",
      "The list is 11 elements long\n"
     ]
    }
   ],
   "source": [
    "# Define a new list\n",
    "my_list = [1,2,3,4,5,6,7,8,9,1,2,3,4]\n",
    "print (my_list)\n",
    "\n",
    "# Create a slice excluding the first and last\n",
    "my_sub_list = my_list[1:-1]\n",
    "print(my_sub_list)\n",
    "\n",
    "# get the length of the list\n",
    "print (f\"The list is {len(my_sub_list)} elements long\")\n",
    "\n",
    "\n",
    "\n"
   ]
  },
  {
   "cell_type": "markdown",
   "metadata": {},
   "source": [
    "#### Sets\n",
    "\n",
    "`Sets` are useful collection in Python. They are an unordered and mutable collection of unique elements. Sets are enclosed in curly brakets `{}` and support set operations like union, intersection, and difference. They are efficient for tasks requiring unique elements and membership testing."
   ]
  },
  {
   "cell_type": "code",
   "execution_count": 32,
   "metadata": {},
   "outputs": [
    {
     "name": "stdout",
     "output_type": "stream",
     "text": [
      "{1, 2, 3, 4, 5, 7}\n",
      "{1, 2, 3, 4, 5, 6, 7, 8, 9}\n",
      "{1, 2, 3, 4, 5, 6, 7, 8, 9, 13}\n",
      "{1, 2, 3, 4, 5, 6, 7, 8, 9, 'hello', 13}\n"
     ]
    }
   ],
   "source": [
    "# Create a set using {}\n",
    "first_set = {1,2,3,4,5,7,5,2,1}\n",
    "print (first_set)\n",
    "\n",
    "# create a set from the list\n",
    "my_set = set(my_list)\n",
    "print (my_set)\n",
    "\n",
    "# Add values to the set\n",
    "my_set.add(13)\n",
    "my_set.add(1)\n",
    "print (my_set)\n",
    "\n",
    "# Sets can have multiple data types\n",
    "my_set.add(\"hello\")\n",
    "print (my_set)"
   ]
  },
  {
   "cell_type": "markdown",
   "metadata": {},
   "source": [
    "### Tuples\n",
    "\n",
    "A `tuple` is similar to a list but is immutable once created, denoted by parentheses `()`. Tuples are often used to store related pieces of information together and are faster than lists due to their immutability. They are commonly utilized for items that shouldn't be changed, such as coordinates or configuration settings.\n",
    "\n",
    "```python\n",
    "my_tuple = (4, 5, 6, 'dog', 'cat', 'rabbit')\n",
    "```"
   ]
  },
  {
   "cell_type": "code",
   "execution_count": 33,
   "metadata": {},
   "outputs": [
    {
     "name": "stdout",
     "output_type": "stream",
     "text": [
      "(4, 5, 6, 'dog', 'cat', 'rabbit')\n"
     ]
    },
    {
     "ename": "TypeError",
     "evalue": "'tuple' object does not support item assignment",
     "output_type": "error",
     "traceback": [
      "\u001b[0;31m---------------------------------------------------------------------------\u001b[0m",
      "\u001b[0;31mTypeError\u001b[0m                                 Traceback (most recent call last)",
      "Cell \u001b[0;32mIn[33], line 3\u001b[0m\n\u001b[1;32m      1\u001b[0m my_tup \u001b[38;5;241m=\u001b[39m (\u001b[38;5;241m4\u001b[39m, \u001b[38;5;241m5\u001b[39m, \u001b[38;5;241m6\u001b[39m, \u001b[38;5;124m'\u001b[39m\u001b[38;5;124mdog\u001b[39m\u001b[38;5;124m'\u001b[39m, \u001b[38;5;124m'\u001b[39m\u001b[38;5;124mcat\u001b[39m\u001b[38;5;124m'\u001b[39m, \u001b[38;5;124m'\u001b[39m\u001b[38;5;124mrabbit\u001b[39m\u001b[38;5;124m'\u001b[39m)\n\u001b[1;32m      2\u001b[0m \u001b[38;5;28mprint\u001b[39m (my_tup)\n\u001b[0;32m----> 3\u001b[0m \u001b[43mmy_tup\u001b[49m\u001b[43m[\u001b[49m\u001b[38;5;241;43m0\u001b[39;49m\u001b[43m]\u001b[49m \u001b[38;5;241m=\u001b[39m \u001b[38;5;241m-\u001b[39m\u001b[38;5;241m2\u001b[39m\n\u001b[1;32m      4\u001b[0m \u001b[38;5;28mprint\u001b[39m (my_tup)\n",
      "\u001b[0;31mTypeError\u001b[0m: 'tuple' object does not support item assignment"
     ]
    }
   ],
   "source": [
    "my_tup = (4, 5, 6, 'dog', 'cat', 'rabbit')\n",
    "print (my_tup)\n",
    "my_tup[0] = -2\n",
    "print (my_tup)"
   ]
  },
  {
   "cell_type": "markdown",
   "metadata": {},
   "source": [
    "### Dictionaries\n",
    "\n",
    "A `dictionary` is an unordered collection of key-value pairs enclosed in curly brackets `{}`. Each element in a dictionary is accessed by its associated key rather than an index. Dictionaries are suitable for storing data where retrieval by a specific key is a priority. They are flexible and allow storing various data types as values.\n",
    "\n",
    "```python\n",
    "my_dict = {'name': 'Alice', 'age': 25, 'country': 'USA'}\n",
    "```"
   ]
  },
  {
   "cell_type": "code",
   "execution_count": 39,
   "metadata": {},
   "outputs": [
    {
     "name": "stdout",
     "output_type": "stream",
     "text": [
      "Hello\n",
      "Key exists\n",
      "Key exists:  3\n"
     ]
    }
   ],
   "source": [
    "my_dict = {}\n",
    "\n",
    "fmt_string = \"entry_{entry}\"\n",
    "my_dict[fmt_string.format(entry = 9)] = \"Hello\"\n",
    "print (my_dict[\"entry_9\"])\n",
    "\n",
    "if \"entry_9\" in my_dict:\n",
    "    print (\"Key exists\")\n",
    "\n",
    "my_dict[\"workshop\"] = [1,2,3,4]\n",
    "\n",
    "if  \"workshop\" in my_dict:\n",
    "    print (\"Key exists: \", my_dict[\"workshop\"][2])\n",
    "\n"
   ]
  },
  {
   "cell_type": "markdown",
   "metadata": {},
   "source": [
    "## Looping\n",
    "\n",
    "In Python, there are two primary methods of looping: `for` loops and `while` loops.\n",
    "\n",
    "### For Loops\n",
    "\n",
    "`for` loops use the syntax `for variable in iterable`, where `iterable` is some sequence-like object, and `variable` represents the current instance within the loop. The block of code to be executed within the loop is designated by indentation. Python's standard is to use 4 spaces for indentation, but using tabs (consistently) is also common (avoid mixing spaces and tabs). For example:\n",
    "\n",
    "```python\n",
    "my_list = [1, 2, 3, 4, 5]\n",
    "for num in my_list:\n",
    "    print(num)\n",
    "```\n",
    "\n",
    "This loop iterates through the elements of my_list, assigning each element to the variable num, and then prints each element.\n",
    "\n",
    "The `range()` function is often used with `for` loops to generate a sequence of numbers. It allows iterating a specific number of times or generating a sequence within a range."
   ]
  },
  {
   "cell_type": "code",
   "execution_count": 41,
   "metadata": {},
   "outputs": [
    {
     "name": "stdout",
     "output_type": "stream",
     "text": [
      "[0, 1, 2, 3, 4, 5, 6, 7, 8, 9]\n",
      "0\n",
      "1\n",
      "4\n",
      "9\n",
      "16\n",
      "25\n",
      "36\n",
      "49\n",
      "64\n",
      "81\n"
     ]
    }
   ],
   "source": [
    "# Create an empty list\n",
    "x = []\n",
    "\n",
    "# range(n) will return an iteratable type which goes from 0-10 exclusive (0,1,...,9)\n",
    "# Write a loop taht will append i to the list x\n",
    "for i in range(10):\n",
    "    x.append(i)\n",
    "\n",
    "print (x)\n",
    "\n",
    "# The list x is also iterable\n",
    "# write a list to square each element and print to the screen\n",
    "for element in x:\n",
    "    print (element**2)"
   ]
  },
  {
   "cell_type": "markdown",
   "metadata": {},
   "source": [
    "We can also use \"list comprehension\" to generate a list from simple loops. This takes the format:\n",
    "``` python\n",
    "array = [ some_funtion(i) for i in some_loop() ]\n",
    "```\n",
    "\n",
    "We can also use list comprehension to do some filtering:\n",
    "```python\n",
    "array = [ some_function(i) for i in some_loop() if some_condition(i) ]\n",
    "```\n",
    "\n",
    "The if statement can go before or after the `for` loop:\n",
    "```python\n",
    "array = [ some_function(i) if some_condition(i) for i in some_loop()  ]\n",
    "```\n",
    "\n",
    "We can also add in an else condition:\n",
    "```python\n",
    "array = [ some_function(i) if some_condition(i) else 0 for i in some_loop() ]\n",
    "```"
   ]
  },
  {
   "cell_type": "code",
   "execution_count": 47,
   "metadata": {},
   "outputs": [
    {
     "name": "stdout",
     "output_type": "stream",
     "text": [
      "[0, 1, 2, 3, 4]\n",
      "[0, 2, 4, 6, 8]\n",
      "[0, 1, 0, 1, 0]\n"
     ]
    }
   ],
   "source": [
    "# Create a list with numbers between 0 and 100\n",
    "my_list = [ i for i in range(100) ]\n",
    "# Create a list with only even numbers between 0 and 100\n",
    "my_even_list = [ i for i in range(100) if i % 2 == 0  ]\n",
    "# Create a list with 0 for even indices and 1 for odd indicies\n",
    "# Between 0 and 100\n",
    "my_conditional_list = [ 0  if i % 2 == 0 else 1 for i in range(100)  ]\n",
    "\n",
    "print (my_list[:5])\n",
    "print (my_even_list[:5])\n",
    "print (my_conditional_list[:5])\n"
   ]
  },
  {
   "cell_type": "markdown",
   "metadata": {},
   "source": [
    "### While\n",
    "\n",
    "`while` loops execute a block of code as long as a specified condition is `True`. Care should be taken to avoid infinite loops where the condition always remains `True`. The syntax for a `while` loop is `while condition:` followed by an indented block of code.\n",
    "\n",
    "The `break` statement can be used to exit a loop prematurely based on a condition, while `continue` skips the current iteration and proceeds to the next one.\n",
    "\n",
    "When evaluting the `condition` anything that isn't `False`, `0` or `None` is considered to be `True`."
   ]
  },
  {
   "cell_type": "code",
   "execution_count": 48,
   "metadata": {},
   "outputs": [],
   "source": [
    "i = 0\n",
    "# This will not run\n",
    "# Write a while loop that won't run\n",
    "while None:\n",
    "    i = i + 1\n",
    "    if i > 5:\n",
    "        break"
   ]
  },
  {
   "cell_type": "code",
   "execution_count": 50,
   "metadata": {},
   "outputs": [
    {
     "name": "stdout",
     "output_type": "stream",
     "text": [
      "0\n",
      "1\n",
      "2\n",
      "3\n",
      "4\n",
      "5\n",
      "6\n",
      "7\n",
      "8\n",
      "9\n"
     ]
    }
   ],
   "source": [
    "i = 0\n",
    "# Use while loop to print the numbers up to 10\n",
    "while i < 10:\n",
    "    print (i)\n",
    "    i = i +1 "
   ]
  },
  {
   "cell_type": "code",
   "execution_count": 54,
   "metadata": {},
   "outputs": [
    {
     "name": "stdout",
     "output_type": "stream",
     "text": [
      "1\n",
      "2\n",
      "3\n",
      "4\n",
      "5\n"
     ]
    }
   ],
   "source": [
    "i = 0\n",
    "# Use an if condition to break this infinite loop after the 5th iteration\n",
    "while True:\n",
    "    if i >= 5:\n",
    "        break\n",
    "    i = i +1\n",
    "    print (i)\n",
    "\n",
    "    "
   ]
  },
  {
   "cell_type": "markdown",
   "metadata": {},
   "source": [
    "Without the if statement here we would have an infinite loop!  We can exit out of a loop with a `break` command or we can skip to the end of the current iteration using the `continue` command.\n",
    "\n",
    "Let's use `if` statements to see how these work.\n"
   ]
  },
  {
   "cell_type": "markdown",
   "metadata": {},
   "source": [
    "## if-elif-else Statements\n",
    "\n",
    "`if`-`elif`-`else` statements allow us to control the flow of the code based on conditions. They take the syntax:\n",
    "\n",
    "```python\n",
    "if condition1:\n",
    "    # condition 1 code\n",
    "elif condition2:\n",
    "    # condition 2 code\n",
    "elif condition3:\n",
    "    # condition 3 code\n",
    "else:\n",
    "    # default code\n",
    "```\n",
    "\n",
    "Notice that the `if` and `elif` statements take logical expressions, while `else` does not. You can have any number of `elif` branches but only one `if` branch and at most one `else` branch.\n",
    "\n",
    "This construct allows for branching based on multiple conditions. Python evaluates each condition sequentially. If `condition1` is true, it executes the code block under `condition1`. If `condition1` is false, it checks `condition2`, and so on. If none of the conditions are true, the code block under `else` (if provided) is executed as the default action."
   ]
  },
  {
   "cell_type": "code",
   "execution_count": null,
   "metadata": {},
   "outputs": [],
   "source": [
    "even_sum = 0\n",
    "odd_sum = 0\n",
    "\n",
    "# Write a loop over 0-100\n",
    "\n",
    "    # Exit the loop when i goes above or equal to 10\n",
    "\n",
    "    # Skip the i = 3 or the i = 0 iteration\n",
    "\n",
    "    # otherwise sum the odd and event values\n",
    "    "
   ]
  },
  {
   "cell_type": "markdown",
   "metadata": {},
   "source": [
    "## Functions\n",
    "\n",
    "Creating functions is an effective method to enhance code reusability and streamline debugging. When there's a block of code intended to be executed multiple times, encapsulating it within a function proves beneficial. This practice minimizes human error by necessitating modifications in only one location. Moreover, employing functions to execute smaller code segments can significantly enhance code readability and simplify the debugging process.\n",
    "\n",
    "In Python, we define a function using the `def` keyword:"
   ]
  },
  {
   "cell_type": "code",
   "execution_count": 66,
   "metadata": {},
   "outputs": [
    {
     "name": "stdout",
     "output_type": "stream",
     "text": [
      "Hello\n",
      "42\n",
      "6.3\n",
      "-0.8\n"
     ]
    }
   ],
   "source": [
    "# Simple function to print hello\n",
    "def print_hello():\n",
    "    print (\"Hello\")\n",
    "\n",
    "# We can take in arguments\n",
    "def print_message(msg):\n",
    "    print (msg)\n",
    "\n",
    "# Simple function to take in two arguments and add them togeter and return the sum\n",
    "def add_numbers(a, b, subtract = False ):\n",
    "    \n",
    "    if subtract:\n",
    "        print (a - b)\n",
    "        return a - b\n",
    "    else:\n",
    "        print (a+b)\n",
    "        return a + b\n",
    "\n",
    "# We can also pass a function to a function\n",
    "def repeat(func, n, args, kwargs):\n",
    "    for i in range(n):\n",
    "        func(*args, **kwargs)\n",
    "        # func(args[0], args[1])\n",
    "print_hello()\n",
    "print_message(42)\n",
    "\n",
    "c = add_numbers(1.3, 5)\n",
    "\n",
    "# We can specify which variable is which by specificing the argument name/\n",
    "repeat(func = add_numbers, n = 1, args=(1.3,2.1), kwargs={\"subtract\" : True})"
   ]
  },
  {
   "cell_type": "markdown",
   "metadata": {},
   "source": [
    "We can also write `lambda` functions which are short inline functions:"
   ]
  },
  {
   "cell_type": "code",
   "execution_count": 73,
   "metadata": {},
   "outputs": [
    {
     "name": "stdout",
     "output_type": "stream",
     "text": [
      "2.6666666666666665\n",
      "0.576\n",
      "0.2099125364431487\n",
      "0.09876543209876543\n",
      "0.054094665664913597\n",
      "0.032771961766044605\n",
      "0.021333333333333333\n",
      "0.014654996946875637\n",
      "0.010497157019973757\n",
      "0.007774538386783284\n"
     ]
    }
   ],
   "source": [
    "# Lambda function to get square root\n",
    "my_function = lambda x : x ** 0.5\n",
    "\n",
    "# Lambda function to act as a wrapper\n",
    "def larger_function(x, y):\n",
    "    return x**2 / y**3\n",
    "\n",
    "# # Lambda function which calls for y = 1.5\n",
    "for i in range(10):\n",
    "    const = 1.5 + i\n",
    "    my_wrapper = lambda x : larger_function(x, const)\n",
    "    print (my_wrapper(3))\n",
    "\n",
    "\n",
    "# print (my_function(4))\n",
    "# print (larger_function(3,4))-0.8\n"
   ]
  },
  {
   "cell_type": "markdown",
   "metadata": {},
   "source": [
    "### Functions, Naming Conventions and Documentation\n",
    "\n",
    "When writing functions and classes (more on this later), we should conform to a consistent convention. This helps both users and developers to better understand the code, improving the ability to use and develop the code.\n",
    "\n",
    "The convention we'll follow in this example is the [Google Python Style Guide](https://google.github.io/styleguide/pyguide.html). Let's look at some examples of why this is useful.\n",
    "\n",
    "Consider the following. We have a function `calc` which takes three arguments (`x`, `b` and `i`)."
   ]
  },
  {
   "cell_type": "code",
   "execution_count": 74,
   "metadata": {},
   "outputs": [],
   "source": [
    "def calc(x, b, i):\n",
    "    x[i] = x[i] / b\n",
    "    return x"
   ]
  },
  {
   "cell_type": "markdown",
   "metadata": {},
   "source": [
    "The function scales an element in `x` by `1/b`. We can choose a name to better describe what the function does."
   ]
  },
  {
   "cell_type": "code",
   "execution_count": 75,
   "metadata": {},
   "outputs": [],
   "source": [
    "def scale_element(x, b, i):\n",
    "    x[i] = x[i] / b\n",
    "    return x"
   ]
  },
  {
   "cell_type": "markdown",
   "metadata": {},
   "source": [
    "The use now knows that the function will scale an element of the array, but the user still doesn't know what the arguments are or what is returned. We can add a doc string to help with this."
   ]
  },
  {
   "cell_type": "code",
   "execution_count": 76,
   "metadata": {},
   "outputs": [
    {
     "name": "stdout",
     "output_type": "stream",
     "text": [
      "Help on function scale_element in module __main__:\n",
      "\n",
      "scale_element(x, b, i)\n",
      "\n"
     ]
    }
   ],
   "source": [
    "help(scale_element)"
   ]
  },
  {
   "cell_type": "markdown",
   "metadata": {},
   "source": [
    "This help message is automatically generated from the \"docstring\" of the function. The docstring is a small description of a function that we write at the state of the function.\n",
    "\n",
    "Following the [Google Python Style Guide](https://google.github.io/styleguide/pyguide.html), a good template for your docstring is: \n",
    "```\n",
    "def function(x,y,z):\n",
    "    \"\"\"One line summary of my function\n",
    "\n",
    "    More detailed description of my function, potentially showing\n",
    "    some math relation:\n",
    "    $\\frac{dy}{dx} = x^2$\n",
    "\n",
    "    Args:\n",
    "        x: description of x\n",
    "        y: description of y\n",
    "        z: description of z\n",
    "\n",
    "    Returns:\n",
    "        description of what is returned\n",
    "\n",
    "    Examples:\n",
    "        Some example\n",
    "        >>> function (x,y,z)\n",
    "        return_value\n",
    "\n",
    "    Raises:\n",
    "        Error: Error raised and description of that error\n",
    "    \"\"\"\n",
    "```\n",
    "\n",
    "This is quite verbose but has huge benifits for the user and allows us to self document our code."
   ]
  },
  {
   "cell_type": "code",
   "execution_count": 78,
   "metadata": {},
   "outputs": [],
   "source": [
    "def scale_element(x, b, i):\n",
    "    \"\"\"Scale element i in x by 1/b\n",
    "\n",
    "\n",
    "    Args:\n",
    "        x: list of value\n",
    "        b: some constant\n",
    "        i: index to scale\n",
    "\n",
    "    Returns:\n",
    "        return x with element i = x[i]/b\n",
    "\n",
    "    Examples:\n",
    "        >>> scale_element([1,2,3,4], 2, 1)\n",
    "        [1,1.0,3,4]\n",
    "    \"\"\"\n",
    "    x[i] = x[i] / b\n",
    "    return x"
   ]
  },
  {
   "cell_type": "markdown",
   "metadata": {},
   "source": [
    "Let's break down the sections here:\n",
    "```\n",
    "    \"\"\"Scale an element of the input array\n",
    "```\n",
    "We start off with a short 1 sentence description of the function\n",
    "```\n",
    "    Scale an element of the array by a constant\n",
    "```\n",
    "We then use a more detailed description of the function and how to use it\n",
    "```\n",
    "    Args:\n",
    "        x: list of values\n",
    "        b: constant to scale by\n",
    "        i: index of element to scale\n",
    "```\n",
    "We list the arguments by name and what they are.\n",
    "\n",
    "```\n",
    "\n",
    "    Returns:\n",
    "        Scaled a list with the element i scaled by 1/b\n",
    "```\n",
    "We list what is returned by the function and what they are.\n",
    "```\n",
    "    Examples:\n",
    "        >>> scale_element([1,2,3,4], 2, 1)\n",
    "        [1,1.0,3,4]\n",
    "\n",
    "    \"\"\"\n",
    "```\n",
    "\n",
    "We give an usage example of the functions and the expected output. The user can then access this helpful message anything using:"
   ]
  },
  {
   "cell_type": "code",
   "execution_count": 79,
   "metadata": {},
   "outputs": [
    {
     "name": "stdout",
     "output_type": "stream",
     "text": [
      "Help on function scale_element in module __main__:\n",
      "\n",
      "scale_element(x, b, i)\n",
      "    Scale element i in x by 1/b\n",
      "    \n",
      "    \n",
      "    Args:\n",
      "        x: list of value\n",
      "        b: some constant\n",
      "        i: index to scale\n",
      "    \n",
      "    Returns:\n",
      "        return x with element i = x[i]/b\n",
      "    \n",
      "    Examples:\n",
      "        >>> scale_element([1,2,3,4], 2, 1)\n",
      "        [1,1.0,3,4]\n",
      "\n"
     ]
    }
   ],
   "source": [
    "help(scale_element)"
   ]
  },
  {
   "cell_type": "markdown",
   "metadata": {},
   "source": [
    "We can do better still. The user doesn't know what type of data to pass. For example if x is just a float rather than an array, this will fail. We can do this with \"type-hinting\". Type hinting is an optional feature in Python where we tell the expect type of the data that a fuction is expecting.\n",
    "\n",
    "For example:"
   ]
  },
  {
   "cell_type": "code",
   "execution_count": 80,
   "metadata": {},
   "outputs": [
    {
     "data": {
      "text/plain": [
       "3.4499999999999997"
      ]
     },
     "execution_count": 80,
     "metadata": {},
     "output_type": "execute_result"
    }
   ],
   "source": [
    "def multiply(a, b):\n",
    "    return a * b\n",
    "\n",
    "# what happens when we pass two floats to this function?\n",
    "multiply(1.5, 2.3)"
   ]
  },
  {
   "cell_type": "code",
   "execution_count": 81,
   "metadata": {},
   "outputs": [
    {
     "data": {
      "text/plain": [
       "'appleapple'"
      ]
     },
     "execution_count": 81,
     "metadata": {},
     "output_type": "execute_result"
    }
   ],
   "source": [
    "# What happens when we pass a string and an int?\n",
    "multiply(\"apple\", 2)"
   ]
  },
  {
   "cell_type": "markdown",
   "metadata": {},
   "source": [
    "We've originally defined our function to ints or floats but we behaviour we weren't expecting when passing a string. We can use type hinting to be explicit about what can be passed to the function."
   ]
  },
  {
   "cell_type": "code",
   "execution_count": 82,
   "metadata": {},
   "outputs": [
    {
     "name": "stdout",
     "output_type": "stream",
     "text": [
      "Help on function multiply in module __main__:\n",
      "\n",
      "multiply(a: float, b: float) -> float\n",
      "\n"
     ]
    }
   ],
   "source": [
    "def multiply(a : float, b : float ) -> float:\n",
    "    return a * b\n",
    "\n",
    "# what happens when we pass two floats to this function?\n",
    "multiply(1.5, 2.3)\n",
    "help(multiply)"
   ]
  },
  {
   "cell_type": "code",
   "execution_count": 83,
   "metadata": {},
   "outputs": [
    {
     "data": {
      "text/plain": [
       "'appleapple'"
      ]
     },
     "execution_count": 83,
     "metadata": {},
     "output_type": "execute_result"
    }
   ],
   "source": [
    "# What happens when we pass a string and an int?\n",
    "multiply(\"apple\", 2)"
   ]
  },
  {
   "cell_type": "markdown",
   "metadata": {},
   "source": [
    "This doesn't stop us from calling the function with a string and int, but it does provide additional information to the `help()` function."
   ]
  },
  {
   "cell_type": "code",
   "execution_count": 84,
   "metadata": {},
   "outputs": [
    {
     "name": "stdout",
     "output_type": "stream",
     "text": [
      "Help on function multiply in module __main__:\n",
      "\n",
      "multiply(a: float, b: float) -> float\n",
      "\n"
     ]
    }
   ],
   "source": [
    "help(multiply)"
   ]
  },
  {
   "cell_type": "code",
   "execution_count": 85,
   "metadata": {},
   "outputs": [],
   "source": [
    "def scale_element(x : list, b : float, i : int) -> list:\n",
    "    \"\"\"Scale element i in x by 1/b\n",
    "\n",
    "    Args:\n",
    "        x: list of value\n",
    "        b: some constant\n",
    "        i: index to scale\n",
    "\n",
    "    Returns:\n",
    "        return x with element i = x[i]/b\n",
    "\n",
    "    Examples:\n",
    "        >>> scale_element([1,2,3,4], 2, 1)\n",
    "        [1,1.0,3,4]\n",
    "    \"\"\"\n",
    "    x[i] = x[i] / b\n",
    "    return x"
   ]
  },
  {
   "cell_type": "markdown",
   "metadata": {},
   "source": [
    "From the first line we can see:\n",
    "```\n",
    "def scale_element(x : list, b : float, i : int) -> list:\n",
    "```\n",
    "\n",
    "That `x` is expected to be a `list`, `b` is expected to be a `float`, `i` is expected to be a `int` and that the function will return a `list`."
   ]
  },
  {
   "cell_type": "code",
   "execution_count": 86,
   "metadata": {},
   "outputs": [
    {
     "name": "stdout",
     "output_type": "stream",
     "text": [
      "Help on function scale_element in module __main__:\n",
      "\n",
      "scale_element(x: list, b: float, i: int) -> list\n",
      "    Scale element i in x by 1/b\n",
      "    \n",
      "    Args:\n",
      "        x: list of value\n",
      "        b: some constant\n",
      "        i: index to scale\n",
      "    \n",
      "    Returns:\n",
      "        return x with element i = x[i]/b\n",
      "    \n",
      "    Examples:\n",
      "        >>> scale_element([1,2,3,4], 2, 1)\n",
      "        [1,1.0,3,4]\n",
      "\n"
     ]
    }
   ],
   "source": [
    "help(scale_element)"
   ]
  },
  {
   "cell_type": "markdown",
   "metadata": {},
   "source": [
    "This is better but let's try and anticipate potential errors"
   ]
  },
  {
   "cell_type": "code",
   "execution_count": 87,
   "metadata": {},
   "outputs": [
    {
     "ename": "TypeError",
     "evalue": "'int' object is not subscriptable",
     "output_type": "error",
     "traceback": [
      "\u001b[0;31m---------------------------------------------------------------------------\u001b[0m",
      "\u001b[0;31mTypeError\u001b[0m                                 Traceback (most recent call last)",
      "Cell \u001b[0;32mIn[87], line 1\u001b[0m\n\u001b[0;32m----> 1\u001b[0m \u001b[43mscale_element\u001b[49m\u001b[43m(\u001b[49m\u001b[38;5;241;43m3\u001b[39;49m\u001b[43m,\u001b[49m\u001b[43m \u001b[49m\u001b[38;5;241;43m2\u001b[39;49m\u001b[43m,\u001b[49m\u001b[43m \u001b[49m\u001b[38;5;241;43m1\u001b[39;49m\u001b[43m)\u001b[49m\n",
      "Cell \u001b[0;32mIn[85], line 16\u001b[0m, in \u001b[0;36mscale_element\u001b[0;34m(x, b, i)\u001b[0m\n\u001b[1;32m      1\u001b[0m \u001b[38;5;28;01mdef\u001b[39;00m \u001b[38;5;21mscale_element\u001b[39m(x : \u001b[38;5;28mlist\u001b[39m, b : \u001b[38;5;28mfloat\u001b[39m, i : \u001b[38;5;28mint\u001b[39m) \u001b[38;5;241m-\u001b[39m\u001b[38;5;241m>\u001b[39m \u001b[38;5;28mlist\u001b[39m:\n\u001b[1;32m      2\u001b[0m \u001b[38;5;250m    \u001b[39m\u001b[38;5;124;03m\"\"\"Scale element i in x by 1/b\u001b[39;00m\n\u001b[1;32m      3\u001b[0m \n\u001b[1;32m      4\u001b[0m \u001b[38;5;124;03m    Args:\u001b[39;00m\n\u001b[0;32m   (...)\u001b[0m\n\u001b[1;32m     14\u001b[0m \u001b[38;5;124;03m        [1,1.0,3,4]\u001b[39;00m\n\u001b[1;32m     15\u001b[0m \u001b[38;5;124;03m    \"\"\"\u001b[39;00m\n\u001b[0;32m---> 16\u001b[0m     x[i] \u001b[38;5;241m=\u001b[39m \u001b[43mx\u001b[49m\u001b[43m[\u001b[49m\u001b[43mi\u001b[49m\u001b[43m]\u001b[49m \u001b[38;5;241m/\u001b[39m b\n\u001b[1;32m     17\u001b[0m     \u001b[38;5;28;01mreturn\u001b[39;00m x\n",
      "\u001b[0;31mTypeError\u001b[0m: 'int' object is not subscriptable"
     ]
    }
   ],
   "source": [
    "scale_element(3, 2, 1)"
   ]
  },
  {
   "cell_type": "markdown",
   "metadata": {},
   "source": [
    "This error message isn't too helpful... Let's write our own"
   ]
  },
  {
   "cell_type": "code",
   "execution_count": 92,
   "metadata": {},
   "outputs": [],
   "source": [
    "def scale_element(x : list, b : float, i : int) -> list:\n",
    "    \"\"\"Scale element i in x by 1/b\n",
    "\n",
    "    Args:\n",
    "        x: list of value\n",
    "        b: some constant\n",
    "        i: index to scale\n",
    "\n",
    "    Returns:\n",
    "        return x with element i = x[i]/b\n",
    "\n",
    "    Examples:\n",
    "        >>> scale_element([1,2,3,4], 2, 1)\n",
    "        [1, 1.0, 3, 4]\n",
    "\n",
    "    Raises:\n",
    "        TypeError : if x isn't a list\n",
    "    \"\"\"\n",
    "    if not isinstance(x, list):\n",
    "        raise TypeError(f\"Expected a list, instead received {type(x)}\")\n",
    "    x[i] = x[i] / b\n",
    "    return x"
   ]
  },
  {
   "cell_type": "code",
   "execution_count": 93,
   "metadata": {},
   "outputs": [
    {
     "ename": "TypeError",
     "evalue": "Expected a list, instead received <class 'int'>",
     "output_type": "error",
     "traceback": [
      "\u001b[0;31m---------------------------------------------------------------------------\u001b[0m",
      "\u001b[0;31mTypeError\u001b[0m                                 Traceback (most recent call last)",
      "Cell \u001b[0;32mIn[93], line 1\u001b[0m\n\u001b[0;32m----> 1\u001b[0m \u001b[43mscale_element\u001b[49m\u001b[43m(\u001b[49m\u001b[38;5;241;43m3\u001b[39;49m\u001b[43m,\u001b[49m\u001b[43m \u001b[49m\u001b[38;5;241;43m2\u001b[39;49m\u001b[43m,\u001b[49m\u001b[43m \u001b[49m\u001b[38;5;241;43m1\u001b[39;49m\u001b[43m)\u001b[49m\n",
      "Cell \u001b[0;32mIn[92], line 20\u001b[0m, in \u001b[0;36mscale_element\u001b[0;34m(x, b, i)\u001b[0m\n\u001b[1;32m      2\u001b[0m \u001b[38;5;250m\u001b[39m\u001b[38;5;124;03m\"\"\"Scale element i in x by 1/b\u001b[39;00m\n\u001b[1;32m      3\u001b[0m \n\u001b[1;32m      4\u001b[0m \u001b[38;5;124;03mArgs:\u001b[39;00m\n\u001b[0;32m   (...)\u001b[0m\n\u001b[1;32m     17\u001b[0m \u001b[38;5;124;03m    TypeError : if x isn't a list\u001b[39;00m\n\u001b[1;32m     18\u001b[0m \u001b[38;5;124;03m\"\"\"\u001b[39;00m\n\u001b[1;32m     19\u001b[0m \u001b[38;5;28;01mif\u001b[39;00m \u001b[38;5;129;01mnot\u001b[39;00m \u001b[38;5;28misinstance\u001b[39m(x, \u001b[38;5;28mlist\u001b[39m):\n\u001b[0;32m---> 20\u001b[0m     \u001b[38;5;28;01mraise\u001b[39;00m \u001b[38;5;167;01mTypeError\u001b[39;00m(\u001b[38;5;124mf\u001b[39m\u001b[38;5;124m\"\u001b[39m\u001b[38;5;124mExpected a list, instead received \u001b[39m\u001b[38;5;132;01m{\u001b[39;00m\u001b[38;5;28mtype\u001b[39m(x)\u001b[38;5;132;01m}\u001b[39;00m\u001b[38;5;124m\"\u001b[39m)\n\u001b[1;32m     21\u001b[0m x[i] \u001b[38;5;241m=\u001b[39m x[i] \u001b[38;5;241m/\u001b[39m b\n\u001b[1;32m     22\u001b[0m \u001b[38;5;28;01mreturn\u001b[39;00m x\n",
      "\u001b[0;31mTypeError\u001b[0m: Expected a list, instead received <class 'int'>"
     ]
    }
   ],
   "source": [
    "scale_element(3, 2, 1)"
   ]
  },
  {
   "cell_type": "code",
   "execution_count": 94,
   "metadata": {},
   "outputs": [
    {
     "ename": "IndexError",
     "evalue": "list index out of range",
     "output_type": "error",
     "traceback": [
      "\u001b[0;31m---------------------------------------------------------------------------\u001b[0m",
      "\u001b[0;31mIndexError\u001b[0m                                Traceback (most recent call last)",
      "Cell \u001b[0;32mIn[94], line 1\u001b[0m\n\u001b[0;32m----> 1\u001b[0m \u001b[43mscale_element\u001b[49m\u001b[43m(\u001b[49m\u001b[43m[\u001b[49m\u001b[38;5;241;43m3\u001b[39;49m\u001b[43m,\u001b[49m\u001b[38;5;241;43m2\u001b[39;49m\u001b[43m,\u001b[49m\u001b[38;5;241;43m2\u001b[39;49m\u001b[43m]\u001b[49m\u001b[43m,\u001b[49m\u001b[43m \u001b[49m\u001b[38;5;241;43m2\u001b[39;49m\u001b[43m,\u001b[49m\u001b[43m \u001b[49m\u001b[38;5;241;43m5\u001b[39;49m\u001b[43m)\u001b[49m\n",
      "Cell \u001b[0;32mIn[92], line 21\u001b[0m, in \u001b[0;36mscale_element\u001b[0;34m(x, b, i)\u001b[0m\n\u001b[1;32m     19\u001b[0m \u001b[38;5;28;01mif\u001b[39;00m \u001b[38;5;129;01mnot\u001b[39;00m \u001b[38;5;28misinstance\u001b[39m(x, \u001b[38;5;28mlist\u001b[39m):\n\u001b[1;32m     20\u001b[0m     \u001b[38;5;28;01mraise\u001b[39;00m \u001b[38;5;167;01mTypeError\u001b[39;00m(\u001b[38;5;124mf\u001b[39m\u001b[38;5;124m\"\u001b[39m\u001b[38;5;124mExpected a list, instead received \u001b[39m\u001b[38;5;132;01m{\u001b[39;00m\u001b[38;5;28mtype\u001b[39m(x)\u001b[38;5;132;01m}\u001b[39;00m\u001b[38;5;124m\"\u001b[39m)\n\u001b[0;32m---> 21\u001b[0m x[i] \u001b[38;5;241m=\u001b[39m \u001b[43mx\u001b[49m\u001b[43m[\u001b[49m\u001b[43mi\u001b[49m\u001b[43m]\u001b[49m \u001b[38;5;241m/\u001b[39m b\n\u001b[1;32m     22\u001b[0m \u001b[38;5;28;01mreturn\u001b[39;00m x\n",
      "\u001b[0;31mIndexError\u001b[0m: list index out of range"
     ]
    }
   ],
   "source": [
    "scale_element([3,2,2], 2, 5)"
   ]
  },
  {
   "cell_type": "code",
   "execution_count": 95,
   "metadata": {},
   "outputs": [
    {
     "name": "stdout",
     "output_type": "stream",
     "text": [
      "Help on function scale_element in module __main__:\n",
      "\n",
      "scale_element(x: list, b: float, i: int) -> list\n",
      "    Scale element i in x by 1/b\n",
      "    \n",
      "    Args:\n",
      "        x: list of value\n",
      "        b: some constant\n",
      "        i: index to scale\n",
      "    \n",
      "    Returns:\n",
      "        return x with element i = x[i]/b\n",
      "    \n",
      "    Examples:\n",
      "        >>> scale_element([1,2,3,4], 2, 1)\n",
      "        [1, 1.0, 3, 4]\n",
      "    \n",
      "    Raises:\n",
      "        TypeError : if x isn't a list\n",
      "\n"
     ]
    }
   ],
   "source": [
    "help(scale_element)"
   ]
  },
  {
   "cell_type": "code",
   "execution_count": 96,
   "metadata": {},
   "outputs": [
    {
     "name": "stdout",
     "output_type": "stream",
     "text": [
      "Trying:\n",
      "    scale_element([1,2,3,4], 2, 1)\n",
      "Expecting:\n",
      "    [1, 1.0, 3, 4]\n",
      "ok\n",
      "10 items had no tests:\n",
      "    __main__\n",
      "    __main__.add_numbers\n",
      "    __main__.calc\n",
      "    __main__.larger_function\n",
      "    __main__.multiply\n",
      "    __main__.my_function\n",
      "    __main__.my_wrapper\n",
      "    __main__.print_hello\n",
      "    __main__.print_message\n",
      "    __main__.repeat\n",
      "1 items passed all tests:\n",
      "   1 tests in __main__.scale_element\n",
      "1 tests in 11 items.\n",
      "1 passed and 0 failed.\n",
      "Test passed.\n"
     ]
    },
    {
     "data": {
      "text/plain": [
       "TestResults(failed=0, attempted=1)"
      ]
     },
     "execution_count": 96,
     "metadata": {},
     "output_type": "execute_result"
    }
   ],
   "source": [
    "import doctest\n",
    "doctest.testmod(verbose=True)\n"
   ]
  },
  {
   "cell_type": "markdown",
   "metadata": {},
   "source": [
    "## Packages\n",
    "\n",
    "Python boasts an extensive array of packages developed by the community. In Python, we use the `import statement` to bring in packages or specific sections of packages into our code.\n",
    "```python\n",
    "import package as p\n",
    "```\n",
    "In the example above, we import a package named `package`. The `as p` statement allows us to assign an alias, `p`, to the imported package. This aliasing technique proves beneficial when accessing objects from within a package that might share a common name with objects in other packages. For instance:"
   ]
  },
  {
   "cell_type": "code",
   "execution_count": 97,
   "metadata": {},
   "outputs": [
    {
     "name": "stdout",
     "output_type": "stream",
     "text": [
      "0.0\n",
      "0.0\n"
     ]
    }
   ],
   "source": [
    "import numpy as np\n",
    "import math as m\n",
    "\n",
    "print(np.sin(0))\n",
    "print(m.sin(0))"
   ]
  },
  {
   "cell_type": "markdown",
   "metadata": {},
   "source": [
    "Here we have imported `numpy` using the alias `np` and `math` using the alias `m`. Then, we call the `sin` function from both packages, specifying which version of the `sin` function we want to invoke.\n",
    "\n",
    "[Numpy](https://numpy.org/) is a crucial package in scientific programming, and we'll delve deeper into its functionalities shortly.\n",
    "\n",
    "We can also import only a section of a package. For example:\n"
   ]
  },
  {
   "cell_type": "code",
   "execution_count": 98,
   "metadata": {},
   "outputs": [],
   "source": [
    "import matplotlib.pyplot as plt\n",
    "from scipy.stats import chi"
   ]
  },
  {
   "cell_type": "markdown",
   "metadata": {},
   "source": [
    "Here, we import the `pyplot` sub-package from the larger `matplotlib` package and assign it the alias `plt`. Additionally, we import `chi` from the `stats` sub-package of the `scipy` package.\n",
    "\n",
    "Both packages hold significant importance:\n",
    "\n",
    "- [Matplotlib](https://matplotlib.org/) is an extensive library enabling the creation of static, animated, and interactive visualizations in Python. It offers a plethora of tools for various types of plots, charts, and graphical representations.\n",
    "\n",
    "- [SciPy](https://scipy.org/) encompasses a wide range of scientific computing tools, providing algorithms for optimization, integration, interpolation, solving eigenvalue problems, handling algebraic and differential equations, statistical computations, and more. It's a fundamental package for scientific and technical computing in Python.\n"
   ]
  },
  {
   "cell_type": "markdown",
   "metadata": {},
   "source": [
    "### Working with Numpy\n",
    "\n",
    "Numpy offers highly optimized functionality for typical matrix and vector operations, with the cornerstone being the numpy array. Arrays resemble lists in their mutability but differ in that they can only contain a single data type."
   ]
  },
  {
   "cell_type": "code",
   "execution_count": 101,
   "metadata": {},
   "outputs": [
    {
     "name": "stdout",
     "output_type": "stream",
     "text": [
      "[0 1 2 3 4]\n",
      "[ 0  1  4  9 16]\n",
      "[2 3 4 5 6]\n"
     ]
    }
   ],
   "source": [
    "# Define an array\n",
    "x = np.array([0,1,2,3,4])\n",
    "y = x**2\n",
    "print (x)\n",
    "print (y)\n",
    "\n",
    "def add_2(arr : np.ndarray ) -> np.ndarray:\n",
    "    return x + 2\n",
    "\n",
    "z = add_2(x)\n",
    "print (z)"
   ]
  },
  {
   "cell_type": "code",
   "execution_count": 105,
   "metadata": {},
   "outputs": [
    {
     "name": "stdout",
     "output_type": "stream",
     "text": [
      "[0 1 2 3 4 5 6 7 8 9]\n",
      "[-3 -2 -1  0  1  2  3  4  5  6]\n",
      "[-3 -2 -1  0  1  2  3  4  5  6]\n"
     ]
    }
   ],
   "source": [
    "def subtract_and_add(x : np.array) -> np.array:\n",
    "    z = x\n",
    "    z += 2 # z = z + 2\n",
    "    z -= 5\n",
    "    return z\n",
    "\n",
    "\n",
    "x_data = np.arange(0,10,1)\n",
    "print (x_data)\n",
    "y_data = subtract_and_add(x_data)\n",
    "\n",
    "# What happened here!\n",
    "print (x_data)\n",
    "\n",
    "print (y_data)"
   ]
  },
  {
   "cell_type": "code",
   "execution_count": 106,
   "metadata": {},
   "outputs": [
    {
     "name": "stdout",
     "output_type": "stream",
     "text": [
      "[0 1 2 3 4 5 6 7 8 9]\n",
      "[0 1 2 3 4 5 6 7 8 9]\n",
      "[-3 -2 -1  0  1  2  3  4  5  6]\n"
     ]
    }
   ],
   "source": [
    "def subtract_and_add_copy(x):\n",
    "    z = x.copy()\n",
    "    z += 2 # z = z + 2\n",
    "    z -= 5\n",
    "    return z\n",
    "\n",
    "\n",
    "\n",
    "x_data = np.arange(0,10,1)\n",
    "print (x_data)\n",
    "y_data = subtract_and_add_copy(x_data)\n",
    "\n",
    "# What happened here!\n",
    "print (x_data)\n",
    "\n",
    "print (y_data)"
   ]
  },
  {
   "cell_type": "markdown",
   "metadata": {},
   "source": [
    "Numpy arrays allow us to filter them using an array mask. We can pass an array of equal size to the array with a binary mask to select the items we want."
   ]
  },
  {
   "cell_type": "code",
   "execution_count": 110,
   "metadata": {},
   "outputs": [
    {
     "name": "stdout",
     "output_type": "stream",
     "text": [
      "[1 3 4]\n",
      "[2]\n"
     ]
    }
   ],
   "source": [
    "x = np.array([1,2,3,4])\n",
    "x_mask = np.array([True, False, True, True])\n",
    "print (x[x_mask])\n",
    "\n",
    "# We can select by indexing by the mask\n",
    "\n",
    "# We can invert the selection using ~\n",
    "print (x[~x_mask])\n"
   ]
  },
  {
   "cell_type": "code",
   "execution_count": 120,
   "metadata": {},
   "outputs": [
    {
     "name": "stdout",
     "output_type": "stream",
     "text": [
      "[5 6 7 8 9]\n",
      "[0 2 4 6 8]\n",
      "[6 8]\n"
     ]
    }
   ],
   "source": [
    "# We can mask and filter numpy arrays too\n",
    "x_data = np.arange(0,10)\n",
    "# print (x_data)\n",
    "\n",
    "# Get the odd numbers greater than 4\n",
    "# mask = (x_data > 4) & (x_data % 2 == 0) \n",
    "x_data = np.arange(0,10)\n",
    "\n",
    "mask_gt_4 = x_data > 4\n",
    "mask_even = x_data % 2 == 0 \n",
    "mask_total = mask_gt_4\n",
    "mask_total &= mask_even\n",
    "print (x_data[x_data > 4])\n",
    "print (x_data[mask_even])\n",
    "print (x_data[mask_total])\n"
   ]
  },
  {
   "cell_type": "code",
   "execution_count": null,
   "metadata": {},
   "outputs": [],
   "source": [
    "# use numpy's random number generator to get normal random numbers:\n",
    "x_rnd = np.random.normal(loc = 0, scale = 1, size = 1000)\n",
    "great_that_0 = x_rnd > 0\n",
    "\n",
    "\n",
    "# Use plt.hist to create histograms of the values\n",
    "\n"
   ]
  },
  {
   "cell_type": "code",
   "execution_count": null,
   "metadata": {},
   "outputs": [],
   "source": [
    "# alpha = transparancy of the histogram\n",
    "# color = color of the histogram\n",
    "# bins = binning to use\n",
    "# hatch = fill style for the histogram\n",
    "\n",
    "# linspace linearly paced numbers\n",
    "# min, max, n\n",
    "binning = np.linspace(-5,5, 20)\n",
    "plt.hist(x_rnd, bins= binning, \n",
    "         alpha = 0.5, color = \"magenta\", label = \"All\", hatch = \"/\")\n",
    "plt.hist(x_rnd[great_that_0], bins= binning, \n",
    "         alpha = 0.5, color = \"black\", label = \"X>0\", hatch = \"o\")\n",
    "plt.hist(x_rnd[~great_that_0], bins= binning, \n",
    "         alpha = 0.5, color = \"darkorange\", label = \"$X \\leq 0$\",hatch = \"8\")\n",
    "plt.xlabel(\"X Value\")\n",
    "plt.ylabel(\"dN/dX\")\n",
    "plt.grid()\n",
    "plt.legend()"
   ]
  },
  {
   "cell_type": "markdown",
   "metadata": {},
   "source": [
    "We can define functions which to operate on numpy arrays"
   ]
  },
  {
   "cell_type": "code",
   "execution_count": 121,
   "metadata": {},
   "outputs": [],
   "source": [
    "def sqrt(x):\n",
    "    return np.sqrt(x)"
   ]
  },
  {
   "cell_type": "code",
   "execution_count": 122,
   "metadata": {},
   "outputs": [
    {
     "name": "stdout",
     "output_type": "stream",
     "text": [
      "[0.         1.42857143 2.02030509 2.4743583  2.85714286]\n"
     ]
    }
   ],
   "source": [
    "my_values = np.linspace(0,100)\n",
    "my_sqrts = sqrt(my_values)\n",
    "print (my_sqrts[:5])"
   ]
  },
  {
   "cell_type": "markdown",
   "metadata": {},
   "source": [
    "However we do need to be careful on how we write our functions:"
   ]
  },
  {
   "cell_type": "code",
   "execution_count": 123,
   "metadata": {},
   "outputs": [],
   "source": [
    "def capped_sqrt(x):\n",
    "    if x < 0:\n",
    "        return 0\n",
    "    else:\n",
    "        return np.sqrt(x)"
   ]
  },
  {
   "cell_type": "code",
   "execution_count": 125,
   "metadata": {},
   "outputs": [
    {
     "data": {
      "text/plain": [
       "3.0"
      ]
     },
     "execution_count": 125,
     "metadata": {},
     "output_type": "execute_result"
    }
   ],
   "source": [
    "capped_sqrt(9)"
   ]
  },
  {
   "cell_type": "code",
   "execution_count": 126,
   "metadata": {},
   "outputs": [
    {
     "ename": "ValueError",
     "evalue": "The truth value of an array with more than one element is ambiguous. Use a.any() or a.all()",
     "output_type": "error",
     "traceback": [
      "\u001b[0;31m---------------------------------------------------------------------------\u001b[0m",
      "\u001b[0;31mValueError\u001b[0m                                Traceback (most recent call last)",
      "Cell \u001b[0;32mIn[126], line 2\u001b[0m\n\u001b[1;32m      1\u001b[0m my_values \u001b[38;5;241m=\u001b[39m np\u001b[38;5;241m.\u001b[39mlinspace(\u001b[38;5;241m-\u001b[39m\u001b[38;5;241m10\u001b[39m,\u001b[38;5;241m10\u001b[39m, \u001b[38;5;241m100\u001b[39m)\n\u001b[0;32m----> 2\u001b[0m my_sqrts \u001b[38;5;241m=\u001b[39m \u001b[43mcapped_sqrt\u001b[49m\u001b[43m(\u001b[49m\u001b[43mmy_values\u001b[49m\u001b[43m)\u001b[49m\n\u001b[1;32m      3\u001b[0m \u001b[38;5;28mprint\u001b[39m (my_sqrts[:\u001b[38;5;241m5\u001b[39m])\n",
      "Cell \u001b[0;32mIn[123], line 2\u001b[0m, in \u001b[0;36mcapped_sqrt\u001b[0;34m(x)\u001b[0m\n\u001b[1;32m      1\u001b[0m \u001b[38;5;28;01mdef\u001b[39;00m \u001b[38;5;21mcapped_sqrt\u001b[39m(x):\n\u001b[0;32m----> 2\u001b[0m     \u001b[38;5;28;01mif\u001b[39;00m x \u001b[38;5;241m<\u001b[39m \u001b[38;5;241m0\u001b[39m:\n\u001b[1;32m      3\u001b[0m         \u001b[38;5;28;01mreturn\u001b[39;00m \u001b[38;5;241m0\u001b[39m\n\u001b[1;32m      4\u001b[0m     \u001b[38;5;28;01melse\u001b[39;00m:\n",
      "\u001b[0;31mValueError\u001b[0m: The truth value of an array with more than one element is ambiguous. Use a.any() or a.all()"
     ]
    }
   ],
   "source": [
    "my_values = np.linspace(-10,10, 100)\n",
    "my_sqrts = capped_sqrt(my_values)\n",
    "print (my_sqrts[:5])"
   ]
  },
  {
   "cell_type": "markdown",
   "metadata": {},
   "source": [
    "We get around this by vectorizing functions. This allows us to run the function on the entire array without needing to loop over the elements."
   ]
  },
  {
   "cell_type": "code",
   "execution_count": 131,
   "metadata": {},
   "outputs": [],
   "source": [
    "@np.vectorize\n",
    "def capped_sqrt(x):\n",
    "    if x < 0:\n",
    "        return 0.\n",
    "    else:\n",
    "        return np.sqrt(x)"
   ]
  },
  {
   "cell_type": "code",
   "execution_count": 132,
   "metadata": {},
   "outputs": [
    {
     "name": "stdout",
     "output_type": "stream",
     "text": [
      "[-1  0  1  2  3]\n",
      "[0.         0.         1.         1.41421356 1.73205081]\n"
     ]
    }
   ],
   "source": [
    "my_values = np.arange(-1,10)\n",
    "my_sqrts = capped_sqrt(my_values)\n",
    "print (my_values[:5])\n",
    "print (my_sqrts[:5])"
   ]
  },
  {
   "cell_type": "markdown",
   "metadata": {},
   "source": [
    "## Decorators\n",
    "\n",
    "Decorators allow us to modify the behavior of a function. They are essentially a function, that take another function as an arguement and modifies the behavior of the function.\n",
    "\n",
    "Let's define a logging decorator:"
   ]
  },
  {
   "cell_type": "code",
   "execution_count": 133,
   "metadata": {},
   "outputs": [],
   "source": [
    "def my_logger(func):\n",
    "    \n",
    "    def wrapper(*args, **kwargs):\n",
    "        print (f\"Function: {func.__name__} called with: \\n\\t args: {args} \\n\\t kwargs {kwargs}\")\n",
    "        ret = func(*args,  **kwargs)\n",
    "        print (f\"Return: {ret}\")\n",
    "        return ret\n",
    "   \n",
    "    return wrapper"
   ]
  },
  {
   "cell_type": "code",
   "execution_count": 136,
   "metadata": {},
   "outputs": [],
   "source": [
    "@my_logger\n",
    "def sqrt(x, is_capped = False):\n",
    "    if is_capped:\n",
    "        if x > 0:\n",
    "            return np.sqrt(x)\n",
    "        else :\n",
    "            return 0\n",
    "    return np.sqrt(x)"
   ]
  },
  {
   "cell_type": "code",
   "execution_count": 138,
   "metadata": {},
   "outputs": [
    {
     "name": "stdout",
     "output_type": "stream",
     "text": [
      "Function: sqrt called with: \n",
      "\t args: (4,) \n",
      "\t kwargs {'is_capped': True}\n",
      "Return: 2.0\n"
     ]
    },
    {
     "data": {
      "text/plain": [
       "2.0"
      ]
     },
     "execution_count": 138,
     "metadata": {},
     "output_type": "execute_result"
    }
   ],
   "source": [
    "sqrt(4, is_capped = True)"
   ]
  },
  {
   "cell_type": "markdown",
   "metadata": {},
   "source": [
    "## Working with Pandas\n",
    "\n",
    "Pandas is an open-source data manipulation and analysis library in Python that's built on top of NumPy. It provides high-level data structures and a variety of tools for working with structured data.\n",
    "\n",
    "The core data structure in Pandas is the DataFrame, which is essentially a two-dimensional array with labeled axes (rows and columns). This DataFrame object is built upon NumPy's ndarray, utilizing its efficient operations and functions."
   ]
  },
  {
   "cell_type": "code",
   "execution_count": null,
   "metadata": {},
   "outputs": [],
   "source": [
    "import pandas as pd\n",
    "\n",
    "# Creating a Pandas DataFrame\n",
    "data = {\n",
    "\n",
    "}\n",
    "\n",
    "df = pd.DataFrame(data)\n",
    "print(\"Pandas DataFrame:\")\n",
    "print(df)"
   ]
  },
  {
   "cell_type": "code",
   "execution_count": null,
   "metadata": {},
   "outputs": [],
   "source": [
    "help(np.random.randn)"
   ]
  },
  {
   "cell_type": "code",
   "execution_count": null,
   "metadata": {},
   "outputs": [],
   "source": [
    "# Accessing the underlying NumPy array of column 'A'\n",
    "numpy_array = df['A'].values\n",
    "print(\"Numpy array from Pandas DataFrame:\")\n",
    "print(numpy_array)\n"
   ]
  },
  {
   "cell_type": "code",
   "execution_count": null,
   "metadata": {},
   "outputs": [],
   "source": [
    "# Loading a csv file using pandas\n",
    "url=\"https://r2.datahub.io/clt98lqg6000el708ja5zbtz0/master/raw/data/monthly.csv\"\n"
   ]
  },
  {
   "cell_type": "code",
   "execution_count": null,
   "metadata": {},
   "outputs": [],
   "source": [
    "df.tail()"
   ]
  },
  {
   "cell_type": "code",
   "execution_count": null,
   "metadata": {},
   "outputs": [],
   "source": [
    "df.plot(x = \"Date\", y = \"Mean\")"
   ]
  },
  {
   "cell_type": "markdown",
   "metadata": {},
   "source": [
    "## Data Analysis with Python\n",
    "\n",
    "Python is a great language for high-level data analysis, with jupyter notebooks providing a great \"analysis notebook\" for documenting analysis and displaying results.\n",
    "\n",
    "Let's look at how we might reduce and analyze data using Python and extract some meaningful results."
   ]
  },
  {
   "cell_type": "markdown",
   "metadata": {},
   "source": [
    "### Fitting a model to data\n",
    "\n",
    "* scipy optimize package\n",
    "* numpy polyfit\n",
    "* Error propagation\n",
    "* bootstrapping\n",
    "\n",
    "Let's start by creating a data set using numpy."
   ]
  },
  {
   "cell_type": "code",
   "execution_count": 140,
   "metadata": {},
   "outputs": [
    {
     "name": "stdout",
     "output_type": "stream",
     "text": [
      "Help on built-in function random:\n",
      "\n",
      "random(...) method of numpy.random.mtrand.RandomState instance\n",
      "    random(size=None)\n",
      "    \n",
      "    Return random floats in the half-open interval [0.0, 1.0). Alias for\n",
      "    `random_sample` to ease forward-porting to the new random API.\n",
      "\n"
     ]
    }
   ],
   "source": [
    "help(np.random.random)"
   ]
  },
  {
   "cell_type": "code",
   "execution_count": 141,
   "metadata": {},
   "outputs": [
    {
     "data": {
      "image/png": "[encoded data removed]",
      "text/plain": [
       "<Figure size 640x480 with 1 Axes>"
      ]
     },
     "metadata": {},
     "output_type": "display_data"
    }
   ],
   "source": [
    "# Let define the true model\n",
    "def model(x, p0, p1, p2):\n",
    "    # ax^2 + bx + c\n",
    "    return p0*x**2 + p1 * x + p2\n",
    "\n",
    "# Set the true parameters\n",
    "p_true = [0.02, 0.1, -2.5]\n",
    "\n",
    "# Let the x points be random floats between 0-10\n",
    "x = 10 * np.random.random(size = 100)\n",
    "y = model(x, *p_true)\n",
    "\n",
    "# let's add some gaussian noise\n",
    "y_noisey = y + np.random.normal(loc = 0, scale = 0.2, size = 100)\n",
    "# define our y error as 0.2\n",
    "y_err = 0.2 * np.ones(x.shape)\n",
    "\n",
    "# Plot the data\n",
    "plt.errorbar(x, y_noisey, yerr = y_err , fmt = \"C0o\", label = \"Measured\")\n",
    "plt.ylabel(\"Y Values\")\n",
    "plt.xlabel(\"X Values\")\n",
    "plt.grid()\n"
   ]
  },
  {
   "cell_type": "markdown",
   "metadata": {},
   "source": [
    "Let's use `scipy.optimize.curve_fit`\n",
    "\n",
    "`curve_fit` will perform a lease-squares minimization:\n",
    "$$ (\\vec{y} - y_{model}(\\vec{x}, \\theta))^2 $$\n",
    "\n",
    "If errors are provided than it will perform a $\\chi^2$-minimization\n",
    "$$ \\frac{(\\vec{y} - y_{model}(\\vec{x}, \\theta))^2}{\\vec{\\Delta y}^2} $$\n",
    "\n",
    "`curve_fit` returns the optimal parameters and the correlation matrix for the minimization allowing us to easily extract an uncertainty."
   ]
  },
  {
   "cell_type": "code",
   "execution_count": 144,
   "metadata": {},
   "outputs": [
    {
     "name": "stdout",
     "output_type": "stream",
     "text": [
      "[0.02, 0.1, -2.5]\n",
      "[ 0.02336569  0.07350938 -2.46847516]\n",
      "[0.00277373 0.02722641 0.05462685]\n"
     ]
    },
    {
     "data": {
      "image/png": "[encoded data removed]",
      "text/plain": [
       "<Figure size 640x480 with 1 Axes>"
      ]
     },
     "metadata": {},
     "output_type": "display_data"
    }
   ],
   "source": [
    "# Use scipy curve_fit to perform a fit\n",
    "from scipy.optimize import curve_fit\n",
    "\n",
    "# Returns optimal (popt) and correation matrix (pcov)\n",
    "popt, pcov = curve_fit(\n",
    "    model, # Function we want to fit\n",
    "    x,     # x data\n",
    "    y_noisey,  # y data\n",
    "    p0 = [-0.2, 1, 5],  # initial guess\n",
    "    sigma=y_err   # error on y\n",
    ")\n",
    "\n",
    "x_plot = np.linspace(0,10)\n",
    "plt.errorbar(x, y_noisey, yerr = y_err , fmt = \"C0o\", label = \"Measured\")\n",
    "plt.plot(x_plot, model(x_plot, *popt), \"r--\", label = \"Best fit\")\n",
    "plt.ylabel(\"Y Values\")\n",
    "plt.xlabel(\"X Values\")\n",
    "plt.legend()\n",
    "plt.grid()\n",
    "\n",
    "parameter_errors = np.sqrt(np.diag(pcov))\n",
    "print (p_true)\n",
    "print (popt)\n",
    "print (parameter_errors)"
   ]
  },
  {
   "cell_type": "markdown",
   "metadata": {},
   "source": [
    "## Are we confident in our uncertainty?\n",
    "\n",
    "It can often be difficult to quantify our uncertainties. Bootstrapping is a useful method to estimate our uncertainties.\n",
    "\n",
    "Assuming we have independent data points, we can randomly sample our data, apply our fit to that data, and then repeat a number of times to estimate the distribution of best fit values.\n",
    "\n",
    "<img src=\"./Python/samplingdistribution_schematic.png\" alt=\"bootstrapping\" style=\"width:500px;\"/>"
   ]
  },
  {
   "cell_type": "code",
   "execution_count": 146,
   "metadata": {},
   "outputs": [],
   "source": [
    "\n",
    "# bootstrapping\n",
    "samples = []\n",
    "\n",
    "for i in range(100):\n",
    "    # Get random indices\n",
    "    # replace = True allows us to reuse indicies\n",
    "    # So we could be drawing an estimate from the [0th, 11th, 81st, 0th] elements of our array\n",
    "    rnd_int = np.random.choice(np.arange(len(x)), size=len(x), replace=True)\n",
    "    # Extract the corresponding values\n",
    "    x_samp = x[rnd_int]\n",
    "    y_samp = y_noisey[rnd_int]\n",
    "    y_samp_err = y_err[rnd_int]\n",
    "\n",
    "    # Apply fit\n",
    "    p, _ = curve_fit(model, x_samp, y_samp, sigma = y_samp_err)\n",
    "    # Store Result\n",
    "    samples.append(p)\n",
    "samples = np.array(samples)"
   ]
  },
  {
   "cell_type": "code",
   "execution_count": 147,
   "metadata": {},
   "outputs": [
    {
     "data": {
      "image/png": "[encoded data removed]",
      "text/plain": [
       "<Figure size 1800x600 with 3 Axes>"
      ]
     },
     "metadata": {},
     "output_type": "display_data"
    }
   ],
   "source": [
    "fig, axs = plt.subplots(1,3, figsize = (18,6))\n",
    "for i in range(3):\n",
    "    mean = np.mean(samples[:,i])\n",
    "    std = np.std(samples[:,i])\n",
    "    \n",
    "    axs[i].hist(samples[:,i], alpha = 0.5)\n",
    "    axs[i].axvline(popt[i], color = \"r\", label = \"From Fit\")\n",
    "    axs[i].axvline(popt[i] - parameter_errors[i], ls = \"--\", color = \"r\")\n",
    "    axs[i].axvline(popt[i] + parameter_errors[i], ls = \"--\", color = \"r\")\n",
    "\n",
    "    axs[i].axvline(mean, color = \"C4\", label = \"Bootstrap\")\n",
    "    axs[i].axvline(mean - std, ls = \"--\", color = \"C4\")\n",
    "    axs[i].axvline(mean + std, ls = \"--\", color = \"C4\")\n",
    "    axs[i].axvline(p_true[i], color = \"k\", label = \"True\")\n",
    "    axs[i].grid()\n",
    "    axs[i].legend()\n",
    "    "
   ]
  },
  {
   "cell_type": "code",
   "execution_count": null,
   "metadata": {},
   "outputs": [],
   "source": [
    "### What if we under estimate our errors?"
   ]
  },
  {
   "cell_type": "code",
   "execution_count": 156,
   "metadata": {},
   "outputs": [],
   "source": [
    "\n",
    "\n",
    "# Let the x points be random floats between 0-10\n",
    "x = 10 * np.random.random(size = 100)\n",
    "y = model(x, *p_true)\n",
    "\n",
    "# let's add some gaussian noise\n",
    "y_noisey = y + np.random.normal(loc = 0, scale = 0.3, size = 100)\n",
    "# define our y error as 0.2\n",
    "y_err = 0.1 * np.ones(x.shape)\n"
   ]
  },
  {
   "cell_type": "code",
   "execution_count": 157,
   "metadata": {},
   "outputs": [
    {
     "data": {
      "image/png": "[encoded data removed]",
      "text/plain": [
       "<Figure size 640x480 with 1 Axes>"
      ]
     },
     "metadata": {},
     "output_type": "display_data"
    }
   ],
   "source": [
    "# Returns optimal (popt) and correation matrix (pcov)\n",
    "popt, pcov = curve_fit(\n",
    "    model, # Function we want to fit\n",
    "    x,     # x data\n",
    "    y_noisey,  # y data\n",
    "    p0 = [-0.2, 1, 5],  # initial guess\n",
    "    sigma=y_err   # error on y\n",
    ")\n",
    "\n",
    "x_plot = np.linspace(0,10)\n",
    "plt.errorbar(x, y_noisey, yerr = y_err , fmt = \"C0o\", label = \"Measured\")\n",
    "plt.plot(x_plot, model(x_plot, *popt), \"r--\", label = \"Best fit\")\n",
    "plt.ylabel(\"Y Values\")\n",
    "plt.xlabel(\"X Values\")\n",
    "plt.legend()\n",
    "plt.grid()\n"
   ]
  },
  {
   "cell_type": "code",
   "execution_count": 158,
   "metadata": {},
   "outputs": [],
   "source": [
    "# bootstrapping\n",
    "samples = []\n",
    "for i in range(100):\n",
    "    rnd_int = np.random.choice(np.arange(len(x)), size=len(x), replace=True)\n",
    "    x_samp = x[rnd_int]\n",
    "    y_samp = y_noisey[rnd_int]\n",
    "    y_samp_err = y_err[rnd_int]\n",
    "\n",
    "    p, _ = curve_fit(model, x_samp, y_samp, sigma = y_samp_err)\n",
    "    samples.append(p)\n",
    "samples = np.array(samples)"
   ]
  },
  {
   "cell_type": "code",
   "execution_count": 159,
   "metadata": {},
   "outputs": [
    {
     "data": {
      "image/png": "[encoded data removed]",
      "text/plain": [
       "<Figure size 1800x600 with 3 Axes>"
      ]
     },
     "metadata": {},
     "output_type": "display_data"
    }
   ],
   "source": [
    "fig, axs = plt.subplots(1,3, figsize = (18,6))\n",
    "for i in range(3):\n",
    "    mean = np.mean(samples[:,i])\n",
    "    std = np.std(samples[:,i])\n",
    "    \n",
    "    axs[i].hist(samples[:,i], alpha = 0.5)\n",
    "    axs[i].axvline(popt[i], color = \"r\", label = \"From Fit\")\n",
    "    axs[i].axvline(popt[i] - parameter_errors[i], ls = \"--\", color = \"r\")\n",
    "    axs[i].axvline(popt[i] + parameter_errors[i], ls = \"--\", color = \"r\")\n",
    "\n",
    "    axs[i].axvline(mean, color = \"C4\", label = \"Bootstrap\")\n",
    "    axs[i].axvline(mean - std, ls = \"--\", color = \"C4\")\n",
    "    axs[i].axvline(mean + std, ls = \"--\", color = \"C4\")\n",
    "    axs[i].axvline(p_true[i], color = \"k\", label = \"True\")\n",
    "    axs[i].grid()\n",
    "    axs[i].legend()\n",
    "    "
   ]
  },
  {
   "cell_type": "markdown",
   "metadata": {},
   "source": [
    "## How to use bootstrapping to handle no-gaussian errors\n",
    "If our errors are non-gaussian, it might not make sense to use a $\\chi^2$ fit. "
   ]
  },
  {
   "cell_type": "code",
   "execution_count": 145,
   "metadata": {},
   "outputs": [],
   "source": [
    "def exp_model(x, n, tau):\n",
    "    return n*x**-tau\n",
    "    "
   ]
  },
  {
   "cell_type": "code",
   "execution_count": null,
   "metadata": {},
   "outputs": [],
   "source": [
    "p_true = [10, 0.5]\n",
    "x_plot = np.linspace(0,10)\n",
    "plt.plot(x_plot, exp_model(x_plot, *p_true))"
   ]
  },
  {
   "cell_type": "markdown",
   "metadata": {},
   "source": [
    "### Poisson Distribution\n",
    "\n",
    "$$p(X = k ; \\lambda) = \\frac{e^{-\\lambda}\\lambda^{k}}{k!}$$\n",
    "\n",
    "\n",
    "Where $k$ is the observed counts, $\\lambda$ is the mean counts. Mean is $\\lambda$, standard deviation is $\\sqrt{\\lambda}$. In counting experiments we typically say if $f= N$, then, $\\Delta f = \\sqrt{N}$.\n",
    "\n",
    "Does this mean that its appropriate to use $\\sqrt{N}$ in a $\\chi^2$ fit?"
   ]
  },
  {
   "cell_type": "code",
   "execution_count": null,
   "metadata": {},
   "outputs": [],
   "source": [
    "lam = np.arange(6)\n",
    "fig, axs = plt.subplots(2,3, figsize = (11,6))\n",
    "\n",
    "for l, ax in zip(lam, axs.ravel()):\n",
    "    rnd_x = np.random.poisson(lam = l, size = 1000)\n",
    "\n",
    "    ax.grid()\n",
    "fig.tight_layout()\n",
    "    "
   ]
  },
  {
   "cell_type": "code",
   "execution_count": null,
   "metadata": {},
   "outputs": [],
   "source": [
    "x = 10*np.random.random(100)\n",
    "y = np.random.poisson(lam = exp_model(x, *p_true)) \n",
    "    "
   ]
  },
  {
   "cell_type": "code",
   "execution_count": null,
   "metadata": {},
   "outputs": [],
   "source": [
    "x_plot = np.linspace(0,10)\n",
    "y_err = np.sqrt(y)\n",
    "popt, pcov = curve_fit(exp_model, x, y)\n",
    "\n",
    "plt.plot(x_plot, exp_model(x_plot, *p_true))\n",
    "plt.errorbar(x, y, yerr = y_err, fmt = \"C0o\")\n",
    "plt.plot(x_plot, exp_model(x_plot, *popt))\n",
    "plt.grid()\n",
    "\n",
    "parameter_errors = \n",
    "\n"
   ]
  },
  {
   "cell_type": "code",
   "execution_count": null,
   "metadata": {},
   "outputs": [],
   "source": [
    "# bootstrapping\n",
    "samples = []\n",
    "for i in range(100):\n",
    "    rnd_int = np.random.choice(np.arange(len(x)), size=len(x), replace=True)\n",
    "    x_samp = x[rnd_int]\n",
    "    y_samp = y[rnd_int]\n",
    "    y_samp_err = y_err[rnd_int]\n",
    "\n",
    "    p, _ = curve_fit(exp_model, x_samp, y_samp)\n",
    "    samples.append(p)\n",
    "samples = np.array(samples)"
   ]
  },
  {
   "cell_type": "code",
   "execution_count": null,
   "metadata": {},
   "outputs": [],
   "source": [
    "fig, axs = plt.subplots(1,2, figsize = (18,6))\n",
    "for i in range(2):\n",
    "    mean = np.mean(samples[:,i])\n",
    "    std = np.std(samples[:,i])\n",
    "    \n",
    "    axs[i].hist(samples[:,i], alpha = 0.5)\n",
    "    axs[i].axvline(popt[i], color = \"r\", label = \"From Fit\")\n",
    "    axs[i].axvline(popt[i] - parameter_errors[i], ls = \"--\", color = \"r\")\n",
    "    axs[i].axvline(popt[i] + parameter_errors[i], ls = \"--\", color = \"r\")\n",
    "\n",
    "    axs[i].axvline(mean, color = \"C4\", label = \"Bootstrap\")\n",
    "    axs[i].axvline(mean - std, ls = \"--\", color = \"C4\")\n",
    "    axs[i].axvline(mean + std, ls = \"--\", color = \"C4\")\n",
    "    axs[i].axvline(p_true[i], color = \"k\", label = \"True\")\n",
    "    axs[i].grid()\n",
    "    axs[i].legend()\n",
    "    "
   ]
  },
  {
   "cell_type": "markdown",
   "metadata": {},
   "source": [
    "We can see that the bootstrapped distributions are highly non-gaussian. It might not make sense to report the uncertainty as 1 sigma error on the fit parameters. Instead we might report using the bootstrapped quantiles. A common way to represent the uncertinty would be to report the 90% confidience/credibility interval. This says that:\n",
    "\n",
    "* If we were to repeat this experiement 100 times, the measured value would be in this interval 90% of the time\n"
   ]
  },
  {
   "cell_type": "code",
   "execution_count": null,
   "metadata": {},
   "outputs": [],
   "source": [
    "fig, axs = plt.subplots(1,2, figsize = (18,6))\n",
    "\n",
    "\n",
    "for i, pt in enumerate(p_true):\n",
    "    \n",
    "    axs[i].hist(samples[:,i], alpha = 0.5)\n",
    "    axs[i].axvline(popt[i], color = \"r\", label = \"From Fit\")\n",
    "    axs[i].axvline(popt[i] - parameter_errors[i], ls = \"--\", color = \"r\")\n",
    "    axs[i].axvline(popt[i] + parameter_errors[i], ls = \"--\", color = \"r\")\n",
    "\n",
    "    quan = np.quantile(samples[:,i], [0.05, 0.5, 0.95])\n",
    "\n",
    "    \n",
    "    axs[i].axvline(quan[1], color = \"C4\", label = \"Bootstrap\")\n",
    "    axs[i].axvline(quan[0], ls = \"--\", color = \"C4\")\n",
    "    axs[i].axvline(quan[2], ls = \"--\", color = \"C4\")\n",
    "    axs[i].axvline(p_true[i], color = \"k\", label = \"True\")\n",
    "    axs[i].grid()\n",
    "    axs[i].legend()\n",
    "    \n",
    "    print (f\"{pt:0.3f} -> {quan[1]:0.3f} [{quan[0]:0.3f}, {quan[2]:0.3f}]\")"
   ]
  },
  {
   "cell_type": "markdown",
   "metadata": {},
   "source": [
    "# Classes in Python\n",
    "\n",
    "Classes in Python serve as templates or blueprints defining the attributes (data) and behaviors (methods) of objects. They encapsulate both data and methods that operate on that data within a single structure, promoting code organization and reusability.\n",
    "\n",
    "To create a class in Python, you use the `class` keyword, allowing you to define properties (attributes) and behaviors (methods) within it.\n",
    "\n",
    "## Attributes and Methods\n",
    "\n",
    "Attributes represent the data associated with a class, while methods are functions defined within the class that can access and manipulate this data. These methods can perform various operations on the attributes, thereby altering or providing access to the data encapsulated within the class.\n",
    "\n",
    "## Example of a Simple Class\n",
    "\n",
    "Consider the following example of a basic class in Python:\n",
    "\n",
    "```python\n",
    "class Car:\n",
    "    def __init__(self, make, model, year):\n",
    "        self.make = make\n",
    "        self.model = model\n",
    "        self.year = year\n",
    "\n",
    "    def get_details(self):\n",
    "        return f\"{self.year} {self.make} {self.model}\"\n",
    "```\n",
    "\n",
    "The `__init__` function is the \"initialization\" or constructor of the class. This function is called when the object is created."
   ]
  },
  {
   "cell_type": "code",
   "execution_count": null,
   "metadata": {},
   "outputs": [],
   "source": []
  },
  {
   "cell_type": "code",
   "execution_count": null,
   "metadata": {},
   "outputs": [],
   "source": [
    "class Data():\n",
    "    \"\"\"Data Class\n",
    "\n",
    "    Class for holding x/y data with methods to calculate the properties \n",
    "    and some plotting functionalities. \n",
    "    \"\"\"\n",
    "    # The \"self\" keyword denotes data belonging to the class\n",
    "    def __init__(self, x_data : np.ndarray, y_data : np.ndarray) -> None:\n",
    "        \"\"\"Initialization function\n",
    "\n",
    "        Copy x_data and y_data\n",
    "\n",
    "        Args:\n",
    "            x_data : data on the x axis\n",
    "            y_data : data on the y axis\n",
    "\n",
    "        Returns:\n",
    "            None\n",
    "        \"\"\"\n",
    "\n",
    "    # Member functions take \"self\" as the first argument\n",
    "    def calculate_properties(self) -> None:\n",
    "        \"\"\"Calculate properties of X and Y data\n",
    "\n",
    "        Determine the mean and standard deviation of x_data and y_data.\n",
    "        Mean and standard deviation are stored as attributes within Data class\n",
    "\n",
    "        Args:\n",
    "            None\n",
    "\n",
    "        Returns:\n",
    "            None\n",
    "        \"\"\"\n",
    "\n",
    "\n",
    "    def plot_data(self, x_label : str = None, y_label : str = None) -> plt.figure:\n",
    "        \"\"\"Plot X and Y data\n",
    "\n",
    "        Plot the X and Y data and return the figure. Add optional x/y labels.\n",
    "        Lines are added for the mean x/y and their standard deviations.\n",
    "\n",
    "        Args:\n",
    "            x_label : (optional) string for the label of the x axis. (Default None)\n",
    "            y_label : (optional) string for the label of the y axis. (Default None)\n",
    "\n",
    "        Returns:\n",
    "            figure with the plot of y(x)\n",
    "        \"\"\"\n",
    "\n",
    "\n",
    "        return fig\n",
    "                "
   ]
  },
  {
   "cell_type": "code",
   "execution_count": null,
   "metadata": {},
   "outputs": [],
   "source": [
    "x = np.linspace(-3 * np.pi, 3 * np.pi, 100 )\n",
    "y = np.sin(x)\n",
    "\n",
    "my_data = Data(x, y)\n",
    "my_data.calculate_properties()\n",
    "fig = my_data.plot_data(y_label=\"Sin(x)\")\n"
   ]
  },
  {
   "cell_type": "markdown",
   "metadata": {},
   "source": [
    "## Inheritance in Python\n",
    "\n",
    "Inheritance is a fundamental concept in object-oriented programming that allows a new class to inherit properties and behaviors (attributes and methods) from an existing class. This concept promotes code reuse, enhances readability, and enables the creation of more specialized classes.\n",
    "\n",
    "### Basics of Inheritance\n",
    "\n",
    "In Python, inheritance is achieved by specifying the name of the parent class(es) inside the definition of a new class. The new class, also known as the child class or subclass, inherits all attributes and methods from its parent class or classes, referred to as the base class or superclass.\n",
    "\n",
    "### Syntax for Inheriting Classes\n",
    "\n",
    "The syntax for creating a subclass that inherits from a superclass involves passing the name of the superclass inside parentheses when defining the subclass:\n",
    "\n",
    "```python\n",
    "class ParentClass:\n",
    "    # Parent class attributes and methods\n",
    "\n",
    "class ChildClass(ParentClass):\n",
    "    # Child class attributes and methods\n",
    "\n",
    "```\n",
    "\n",
    "Here, `ChildClass` is inheriting from `ParentClass`, which means `ChildClass` will inherit all attributes and methods defined in `ParentClass`."
   ]
  },
  {
   "cell_type": "code",
   "execution_count": null,
   "metadata": {},
   "outputs": [],
   "source": [
    "class TimeSeries(Data):\n",
    "    \"\"\"Time Series Data Class\n",
    "\n",
    "    Class for holding x/y data with methods to calculate the properties \n",
    "    and some plotting functionalities. \n",
    "    The X data is assumed to be time\n",
    "    \"\"\"\n",
    "    def __init__(self, x_data : np.ndarray, y_data: np.ndarray) -> None:\n",
    "        \"\"\"Initialization function\n",
    "\n",
    "        Copy x_data and y_data\n",
    "\n",
    "        Args:\n",
    "            x_data : data on the x axis\n",
    "            y_data : data on the y axis\n",
    "\n",
    "        Returns:\n",
    "            None\n",
    "        \"\"\"\n",
    "        # We use the \"super\" keyword to call parent class functions\n",
    "\n",
    "    # We can overwrite functions\n",
    "    def plot_data(self) -> plt.figure:\n",
    "        \"\"\"Plot X and Y data\n",
    "\n",
    "        Plot the X and Y data and return the figure. Add optional x/y labels.\n",
    "        Lines are added for the mean x/y and their standard deviations.\n",
    "\n",
    "        Args:\n",
    "            None\n",
    "\n",
    "        Returns:\n",
    "            figure with the plot of y(x)\n",
    "        \"\"\"\n",
    "        return super().plot_data(x_label = \"Time\", y_label = \"AU\")\n",
    "    \n",
    "    # We can also define new functions\n",
    "    def add_to_data(self, y : float) -> None:\n",
    "        \"\"\"Add a constant offset to y data.\n",
    "\n",
    "        A constant offset is added to self.y_data. \n",
    "        The properties (mean and std) are calculated for the adjusted dataset\n",
    "\n",
    "        Args:\n",
    "            y : constant offset to be added to self.y_data\n",
    "\n",
    "        Returns:\n",
    "            None\n",
    "        \"\"\"\n",
    "\n",
    "\n",
    "\n",
    "\n"
   ]
  },
  {
   "cell_type": "code",
   "execution_count": null,
   "metadata": {},
   "outputs": [],
   "source": [
    "my_time_series = TimeSeries(x, y)\n",
    "# Calling a function from the parent class\n",
    "my_time_series.calculate_properties()\n",
    "# Call a function that only exists in the child class\n",
    "my_time_series.add_to_data(10)\n",
    "# Call overridden function\n",
    "fig = my_time_series.plot_data()"
   ]
  },
  {
   "cell_type": "markdown",
   "metadata": {},
   "source": [
    "<img src=\"./images/qr_code_python.png\" alt=\"feedback\" style=\"width:250px;\"/>"
   ]
  },
  {
   "cell_type": "code",
   "execution_count": null,
   "metadata": {},
   "outputs": [],
   "source": []
  }
 ],
 "metadata": {
  "kernelspec": {
   "display_name": "Python 3 (ipykernel)",
   "language": "python",
   "name": "python3"
  },
  "language_info": {
   "codemirror_mode": {
    "name": "ipython",
    "version": 3
   },
   "file_extension": ".py",
   "mimetype": "text/x-python",
   "name": "python",
   "nbconvert_exporter": "python",
   "pygments_lexer": "ipython3",
   "version": "3.10.14"
  }
 },
 "nbformat": 4,
 "nbformat_minor": 4
}
