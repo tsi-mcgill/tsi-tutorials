{
 "cells": [
  {
   "cell_type": "markdown",
   "id": "9a835be2-3244-4b84-bc64-72f7bd4a4560",
   "metadata": {},
   "source": [
    "# Benchmarking and Profiling\n",
    "\n",
    "Benchmarking and Profiling are crucial techniques used to quantify the performance of code and measure improvements in its execution. In Python, understanding the performance of different implementations or comparing the efficiency of algorithms is essential, especially in scenarios where optimization is vital.\n",
    "\n",
    "When trying to optimize code, it is important to remember that the time required to optimize the code, might be better spent on other tasks. This is to say, when developing code the primary goal is to deliver working code. Delivering fast and efficent code is a secondary goal. With this in mind, it is important not to prematurely optimize code. One can spend an incredible ammount of time trying to optimize code before it even works! Futhermore, one could spend house of work to save only seconds of run time. A balance needs to be struck!\n",
    "\n",
    "A suitable development workflow would look something like this:\n",
    "1. **Get a working instance of the code.**\n",
    "2. Determine suitable benchmarks for evaluating the code (run time, iterations/second, iterations/cpu cores, percision on output, memory usage etc), and set target performance goals (e.g. total run time, total memory budget, etc).\n",
    "3. Evaluate the performance using the **predefined** benchmarks.\n",
    "4. **If performance goals aren't met**, profile the code to determine where the bottle necks are and whether changes can be made.\n",
    "5. Implement suitable changes to the code and repeat from step 3.\n",
    "\n",
    "Optimizing code can be a very time consuming process. There is a balance that needs to be made between acceptable run time and developer hours needed. Making mulitple changes to the code at once can also introduce bugs that might be difficult to debug. Either make small iterative changes to the code, or make sure the code passes pre-defined tests after each development cycle.\n",
    "\n",
    "Python provides the `timeit` module, which enables the measurement of execution time for specific code segments. This module offers a simple yet effective way to evaluate the performance of individual code snippets or functions:\n",
    "\n",
    "* `%%time` will time the contents of an entire cell with a single run\n",
    "* `%%timeit` will time the contents of an entire cell, averaging over multiples run of that cell\n",
    "* `%time` will time a signle line with a single run\n",
    "* `%timeit` will time a single line, averaging over multiples run of that cell\n",
    "\n",
    "\n",
    "`timeit` will also suspend some features, such as the garbage collector, to get an accurate measurement of the code's runtime."
   ]
  },
  {
   "cell_type": "code",
   "execution_count": null,
   "id": "5f8241fd-01e7-4464-818b-43c59dd70f29",
   "metadata": {},
   "outputs": [],
   "source": [
    "import time\n",
    "import timeit\n",
    "import numpy as np\n",
    "import matplotlib.pyplot as plt"
   ]
  },
  {
   "cell_type": "code",
   "execution_count": null,
   "id": "b8afd5e8-6287-461c-9f66-e4668e2e9c98",
   "metadata": {},
   "outputs": [],
   "source": [
    "%%timeit\n",
    "test = 0\n",
    "for i in range(100000):\n",
    "    test += 1"
   ]
  },
  {
   "cell_type": "markdown",
   "id": "10ccc59a-ebde-435c-9469-84402190078e",
   "metadata": {},
   "source": [
    "We can also measure the time of the cell from one iteration using `%%time`"
   ]
  },
  {
   "cell_type": "code",
   "execution_count": null,
   "id": "ee12a655-a5ca-4b76-9d0a-cae06e50a875",
   "metadata": {},
   "outputs": [],
   "source": [
    "%%time\n",
    "test = 0\n",
    "for i in range(100000):\n",
    "    test += 1"
   ]
  },
  {
   "cell_type": "markdown",
   "id": "906d210d-342f-428a-b9b2-2ce00fcdc816",
   "metadata": {},
   "source": [
    "We see a number of different times listed here:\n",
    "* `Wall time`: This is the time that has passed during the running of the code\n",
    "* `CPU time`: This is the time that the CPU was busy. This also includes time when the CPU has \"swapped\" its attention to a different process.\n",
    "* `user`: This is the time that the process has been running on the CPU but outside of the system kernel\n",
    "* `sys` : This is the time taken inside the system kernel. This could indicate that the code requires a lot of system calls rather than calls written by the developer.\n",
    "\n",
    "As a rule of thumb:\n",
    "* CPU Time / Wall Time ~ 1. The process spent most of it's time using the CPU. A faster CPU could improve performance.\n",
    "* CPU Time / Wall Time < 1. This suggest the process has spent time waiting. This could be resource allocations, network/hardware IO, locks (to prevent data races) etc. The smaller the number, the more time spent waiting. 0.9 would suggest 10% of the time the CPU is idle.\n",
    "* CPU Time / Wall Time > 1. This suggests that we are utilizing multiple processors when running our code.\n",
    "\n",
    "\n",
    "If we are running with N processors:\n",
    "* CPU Time / Wall Time ~ N. The process is well distributed across all CPUs with little to no idle time.\n",
    "* CPU Time / Wall Time < N. This suggest the process has spent time waiting. This could be resource allocations, network/hardware IO, locks (to prevent data races) etc."
   ]
  },
  {
   "cell_type": "markdown",
   "id": "6a4ca598-b486-4918-aa6c-b1952fe785bf",
   "metadata": {},
   "source": [
    "We can use `%timeit` to time an single line or process, averaging over multiple runs:"
   ]
  },
  {
   "cell_type": "code",
   "execution_count": null,
   "id": "5b586abd-6f10-4827-a465-5a97cf54a60d",
   "metadata": {},
   "outputs": [],
   "source": [
    "print (\"This line won't be timed\")\n",
    "# Either will this line\n",
    "test = np.random.random(1000)\n",
    "# This line will be timed\n",
    "%timeit test = np.random.random(1000)"
   ]
  },
  {
   "cell_type": "markdown",
   "id": "e2d156a6-9788-4ca8-8b00-1d463658c426",
   "metadata": {},
   "source": [
    "Or we can use `%time` to time an single line or process, with no averaging:"
   ]
  },
  {
   "cell_type": "code",
   "execution_count": null,
   "id": "182a4a78-3d20-4908-b369-14c333db68c8",
   "metadata": {},
   "outputs": [],
   "source": [
    "print (\"This line won't be timed\")\n",
    "# Either will this line\n",
    "test = np.random.random(1000)\n",
    "# This line will be timed\n",
    "%time test = np.random.random(1000)"
   ]
  },
  {
   "cell_type": "markdown",
   "id": "ea2a579c-b824-4aa9-866c-10319d18c540",
   "metadata": {},
   "source": [
    "Let's look at comparing two functions. Consider vector addition. In a pure Python, we would use a for loop to iterate over each element. We could also use numpy's inbuild functions to perform the addition/"
   ]
  },
  {
   "cell_type": "code",
   "execution_count": null,
   "id": "da6cad13-f79f-4268-bb8e-358ce2401a81",
   "metadata": {},
   "outputs": [],
   "source": [
    "def add_two_arrays(a : np.ndarray,b : np.ndarray) -> np.ndarray:\n",
    "    \"\"\"Add two numpy arrays togeter using a for loop\n",
    "\n",
    "    Args:\n",
    "        a : array 1 to be added\n",
    "        b : array 2 to be added\n",
    "\n",
    "    Returns:\n",
    "        array of a + b\n",
    "    \"\"\"\n",
    "    c = np.zeros(len(a))\n",
    "    for i in range(len(a)):\n",
    "        c[i] = a[i] + b[i]\n",
    "    return c\n",
    "\n",
    "def add_two_arrays_numpy(a : np.ndarray, b : np.ndarray) -> np.ndarray:\n",
    "    \"\"\"Add two numpy arrays togeter using vectorization\n",
    "\n",
    "    Args:\n",
    "        a : array 1 to be added\n",
    "        b : array 2 to be added\n",
    "\n",
    "    Returns:\n",
    "        array of a + b\n",
    "    \"\"\"\n",
    "    c = a + b\n",
    "    return c"
   ]
  },
  {
   "cell_type": "code",
   "execution_count": null,
   "id": "0a2c26bf-4fd9-4ac7-affa-893a01248051",
   "metadata": {},
   "outputs": [],
   "source": [
    "test_x = np.random.random(1000)\n",
    "test_y = np.random.random(1000)\n",
    "\n",
    "print(\"Pure Python:\")\n",
    "%timeit test_z = add_two_arrays(test_x, test_y)\n",
    "print(\"Numpy:\")\n",
    "%timeit test_z = add_two_arrays_numpy(test_x, test_y)\n"
   ]
  },
  {
   "cell_type": "markdown",
   "id": "d6006e35-004d-47f6-9a00-15e643ec4dcd",
   "metadata": {},
   "source": [
    "We see a dramatic improvement by using NumPy arrays to add two vectors together. This is because NumPy is a highly optimized library, with the low-level code written in C++. Is this always the case?"
   ]
  },
  {
   "cell_type": "code",
   "execution_count": null,
   "id": "a147b11d-83ef-475c-ba26-c28427a49a5d",
   "metadata": {},
   "outputs": [],
   "source": [
    "def time_addition(n):\n",
    "    \n",
    "    test_x = np.random.random(n)\n",
    "    test_y = np.random.random(n)\n",
    "    \n",
    "    n_repeat = 10\n",
    "    \n",
    "    # pure python\n",
    "    t_start = time.time()\n",
    "    for _ in range(n_repeat):\n",
    "        _ = add_two_arrays(test_x, test_y)\n",
    "    t_pure = np.median(time.time() - t_start)\n",
    "\n",
    "    # numpy\n",
    "    t_start = time.time()\n",
    "    for _ in range(n_repeat):\n",
    "        _ = add_two_arrays_numpy(test_x, test_y)\n",
    "    t_numpy = np.median(time.time() - t_start)\n",
    "\n",
    "    return t_pure, t_numpy"
   ]
  },
  {
   "cell_type": "code",
   "execution_count": null,
   "id": "80e9c9c7-3e41-45a3-9afe-dcea69b4e932",
   "metadata": {},
   "outputs": [],
   "source": [
    "n_array = np.arange(20)\n",
    "times_py = np.zeros(n_array.shape)\n",
    "times_np = np.zeros(n_array.shape)\n",
    "\n",
    "for i, n in enumerate(n_array):\n",
    "    times_py[i], times_np[i] = time_addition(int(2**n))\n",
    "\n"
   ]
  },
  {
   "cell_type": "code",
   "execution_count": null,
   "id": "bd1219be-ab8e-4785-8d36-3695eaca9b93",
   "metadata": {},
   "outputs": [],
   "source": [
    "plt.plot(2 ** n_array, times_py, \"C0s:\", label = \"Pure Python\")\n",
    "plt.plot(2 ** n_array, times_np, \"C1o--\", label = \"Numpy\")\n",
    "plt.loglog()\n",
    "plt.grid()\n",
    "plt.legend()\n",
    "plt.xlabel(\"Array Length\")\n",
    "plt.ylabel(\"Run Time [s]\");\n",
    "\n"
   ]
  },
  {
   "cell_type": "markdown",
   "id": "804840d6-1c61-44d0-8c51-698906586202",
   "metadata": {},
   "source": [
    "At very small array sizes the performance is comparable. This is likely due to the overhead of calling the low level NumPy code. The NumPy perfomance saturates around $10^2$ - $10^3$ before scaling in a comparatable fashion to pure python, however it is still orders of magnitude faster. This perfomance will be system dependent!\n",
    "\n",
    "It might be easy to assume for the above example that NumPy is always better than pure Python, but this isn't always the case and we should always consider our specific needs.\n",
    "\n",
    "If we where writing code to operate on small (O($10^1$)), we may be faster to use a pure python implementation rather than importing NumPy and introducing an additional overhead.\n"
   ]
  },
  {
   "cell_type": "markdown",
   "id": "644c5d43-49e4-4b7d-87b7-b734ce44b169",
   "metadata": {},
   "source": [
    "## Line profiling\n",
    "\n",
    "Line profiling is a useful tool for finding bottlenecks within a block of code. There are many profilers one can use:\n",
    "* cProfiles\n",
    "* line_profiler\n",
    "* todo get more\n",
    "\n",
    "For this example, we'll use line_profiler\n",
    "```\n",
    "mamba/conda install line_profiler\n",
    "```\n",
    "or \n",
    "\n",
    "```\n",
    "pip install line_profiler\n",
    "```"
   ]
  },
  {
   "cell_type": "markdown",
   "id": "b5f498c6-67e2-471e-a3d0-6ddf9d638c22",
   "metadata": {},
   "source": [
    "Let's look at an expensive function that uses a MC method to estimate $\\pi$.\n",
    "\n",
    "We're going to throw random points $x, y \\in [0,1]$ into a square of length 1. This will give an estimate of the the area of the square:\n",
    "\n",
    "$$ A_{square} \\propto N_{total}$$\n",
    "The area of a circle is given by:\n",
    "$$ A_{circle} = \\pi r^2$$\n",
    "Since we're throwing random numbers in the range $[0,1]$, we will fill a quatre of a circle. \n",
    "$$ A_{circle} \\propto 4 * \\tilde{N_{within}}$$\n",
    "Where $\\tilde{N_{within}}$ is the number of samples within 1 of the origin (or $x^2 + y^2 <1$).\n",
    "\n",
    "Combing these, we can estimate $pi$ as:\n",
    "$$ \\pi \\approx 4 \\frac{N_{within}}{N_{total}}$$\n"
   ]
  },
  {
   "cell_type": "code",
   "execution_count": null,
   "id": "3b6c7dc2-de88-401f-a721-13a3e3b4d58c",
   "metadata": {},
   "outputs": [],
   "source": [
    "def monte_carlo_pi(nsamples):\n",
    "    acc = 0\n",
    "    for i in range(nsamples):\n",
    "        x = np.random.random()\n",
    "        y = np.random.random()\n",
    "        if (x ** 2 + y ** 2) < 1.0:\n",
    "            acc += 1\n",
    "    return 4.0 * acc / nsamples"
   ]
  },
  {
   "cell_type": "code",
   "execution_count": null,
   "id": "a0fad3c5-41c1-47eb-8742-a8dd501c5733",
   "metadata": {},
   "outputs": [],
   "source": [
    "n_range = np.arange(7)\n",
    "\n",
    "pi_diff = [np.abs(np.pi - monte_carlo_pi(10**n)) for n in n_range]"
   ]
  },
  {
   "cell_type": "code",
   "execution_count": null,
   "id": "8aaf8d76-3f22-4649-ab06-2f7669473de2",
   "metadata": {},
   "outputs": [],
   "source": [
    "plt.plot(10**n_range, pi_diff)\n",
    "plt.xlabel(\"Number of Random Samples\")\n",
    "plt.ylabel(\"$|\\pi_{NumPy} - \\pi_{MC}|$\")\n",
    "plt.grid()\n",
    "plt.xscale('log')\n",
    "#plt.yscale('log')"
   ]
  },
  {
   "cell_type": "markdown",
   "id": "cc36ade8-1913-4bdd-97d6-4331ff0e9b76",
   "metadata": {},
   "source": [
    "We can see that as $N_{total}$ increases we tend to the NumPy value of $\\pi$. We obtain deminising returns at around $10^4$ samples. Let's choose this as our benchmark point."
   ]
  },
  {
   "cell_type": "code",
   "execution_count": null,
   "id": "4e449c68-638b-458e-a045-48b0c8633c87",
   "metadata": {},
   "outputs": [],
   "source": [
    "n_total = 10 ** 4"
   ]
  },
  {
   "cell_type": "markdown",
   "id": "86a24882-812a-4796-a977-a9e460e931bf",
   "metadata": {},
   "source": [
    "How long does this take to run?"
   ]
  },
  {
   "cell_type": "code",
   "execution_count": null,
   "id": "ad64d980-42de-407c-bed9-15f89a75ffd0",
   "metadata": {},
   "outputs": [],
   "source": [
    "%timeit monte_carlo_pi(n_total)"
   ]
  },
  {
   "cell_type": "code",
   "execution_count": null,
   "id": "6271e4d9-9a72-4caa-9950-9f499d8cd404",
   "metadata": {},
   "outputs": [],
   "source": [
    "n_run = 100\n",
    "n_repeat = 10\n",
    "t_original = np.array(\n",
    "    timeit.repeat(f\"monte_carlo_pi({n_total})\", \"from __main__ import monte_carlo_pi\", repeat = n_repeat,  number = n_run)\n",
    ") / n_run"
   ]
  },
  {
   "cell_type": "code",
   "execution_count": null,
   "id": "3b1ee721-efaf-4329-876d-927d9bc026de",
   "metadata": {},
   "outputs": [],
   "source": [
    "print(f\"Original Runtime = {np.mean(t_original) : 0.2e} +/- {np.std(t_original) :0.2e} s\") "
   ]
  },
  {
   "cell_type": "markdown",
   "id": "cddf05bf-3faa-4026-9ec0-cd32386c14ea",
   "metadata": {},
   "source": [
    "If we want to speed up this calculation, we should first find what is the major bottleneck."
   ]
  },
  {
   "cell_type": "code",
   "execution_count": null,
   "id": "caa78aee-0c1d-4f8f-94b8-65f57d1a7098",
   "metadata": {},
   "outputs": [],
   "source": [
    "%load_ext line_profiler"
   ]
  },
  {
   "cell_type": "code",
   "execution_count": null,
   "id": "b3ec125d-50ea-41a3-9a92-913c711823ae",
   "metadata": {},
   "outputs": [],
   "source": [
    "%lprun -f monte_carlo_pi monte_carlo_pi(n_total)"
   ]
  },
  {
   "cell_type": "markdown",
   "id": "8af62df4-c66d-40d7-8756-7dceb9ca2a3a",
   "metadata": {},
   "source": [
    "The above shows a breakdown of where we're spending time. We have each line of the function broken down. We can see that the allocations of `acc` and the return of `4.0 * acc / nsamples` are expensive operations, but this only happens once per execution. Since these only happen once there may be some \"noise\" effecting these estimates. \n",
    "\n",
    "`for i in range(nsamples):` takes 8% of our time. This is pretty significant. Python is also nutoriously bad at looping. If we can avoid looping in Python we should.\n",
    "\n",
    "We also see that `acc += 1` doesn't happen every iteration, and we spend ~20% of our time checking `if (x ** 2 + y ** 2) < 1.0`. We can see that the dominate part of the time is spent generating random numbers (`x/y = np.random.random()`) which takes ~60% of the run time. \n",
    "\n",
    "If we were looking to speed up this function, we should work target the most expensive parts first, this would suggest targeting:\n",
    "```\n",
    "        x = np.random.random()\n",
    "        y = np.random.random()\n",
    "        if (x ** 2 + y ** 2) < 1.0:\n",
    "```\n",
    "Which constitutes 80% or our run time. Since these are ran 10000 times, it might make more sense to somehow only run this once. But how..."
   ]
  },
  {
   "cell_type": "code",
   "execution_count": null,
   "id": "d9b1264e-0894-4c42-92a5-25b9bdfad09c",
   "metadata": {},
   "outputs": [],
   "source": [
    "def monte_carlo_pi_pure_numpy(nsamples):\n"
   ]
  },
  {
   "cell_type": "code",
   "execution_count": null,
   "id": "1c9ce2ae-8651-46ef-8e5e-b8d1bdec1f5a",
   "metadata": {},
   "outputs": [],
   "source": [
    "%timeit monte_carlo_pi_pure_numpy(n_total)"
   ]
  },
  {
   "cell_type": "code",
   "execution_count": null,
   "id": "32c21ad4-fe78-4611-80ac-772c49e336ed",
   "metadata": {},
   "outputs": [],
   "source": [
    "n_run = 1000\n",
    "n_repeat = 10\n",
    "t_optimized = np.array(\n",
    "    timeit.repeat(f\"monte_carlo_pi_pure_numpy({n_total})\", \"from __main__ import monte_carlo_pi_pure_numpy\", repeat = n_repeat,  number = n_run)\n",
    ") / n_run\n",
    "t_optimized"
   ]
  },
  {
   "cell_type": "code",
   "execution_count": null,
   "id": "651d53d0-51b2-4412-916f-2a2798c9c692",
   "metadata": {},
   "outputs": [],
   "source": [
    "print(f\"Optimized Runtime = {np.mean(t_optimized) : 0.2e} +/- {np.std(t_optimized) :0.2e} s\") "
   ]
  },
  {
   "cell_type": "code",
   "execution_count": null,
   "id": "3d16c5a7-9104-47b6-a7d8-f0eff3f32fa8",
   "metadata": {},
   "outputs": [],
   "source": [
    "%lprun -f monte_carlo_pi_pure_numpy monte_carlo_pi_pure_numpy(n_total)"
   ]
  },
  {
   "cell_type": "code",
   "execution_count": null,
   "id": "ab481976-7533-40c2-b986-27c5701a510e",
   "metadata": {},
   "outputs": [],
   "source": [
    "speedup =  np.mean(t_original) / np.mean(t_optimized)\n",
    "print (f\"Optmization speeds up the code by a factor of {speedup:0.2f}\")"
   ]
  },
  {
   "cell_type": "markdown",
   "id": "820959f7-744c-482c-ac07-d2e2d0b8517a",
   "metadata": {},
   "source": [
    "## Can we do better?\n",
    "\n",
    "We're already using highly optimized NumPy which is based on C/C++ code. However we're still interpting slow bytecode at run time and running on one core."
   ]
  },
  {
   "cell_type": "code",
   "execution_count": null,
   "id": "3d91d4ee-33c9-4083-9c39-e2ae7008e186",
   "metadata": {},
   "outputs": [],
   "source": [
    "# !pip install numba"
   ]
  },
  {
   "cell_type": "code",
   "execution_count": null,
   "id": "ca462a87-8e96-450f-9a1b-c4f47dfecaa9",
   "metadata": {},
   "outputs": [],
   "source": [
    "from numba import jit"
   ]
  },
  {
   "cell_type": "code",
   "execution_count": null,
   "id": "f127d076-75a1-44d4-bfe6-c70390fe0cb0",
   "metadata": {},
   "outputs": [],
   "source": [
    "def monte_carlo_pi_pure_numpy_jit(nsamples):\n"
   ]
  },
  {
   "cell_type": "code",
   "execution_count": null,
   "id": "1d7138b9-7329-4d9a-8649-389fa6183986",
   "metadata": {},
   "outputs": [],
   "source": [
    "t1 = time.time()\n",
    "monte_carlo_pi_pure_numpy_jit(n_total)\n",
    "telap = time.time() - t1\n",
    "print (f\"This took {telap}s\")"
   ]
  },
  {
   "cell_type": "code",
   "execution_count": null,
   "id": "922cf891-0c98-44b1-a917-2bc4fb6aef2a",
   "metadata": {},
   "outputs": [],
   "source": [
    "t1 = time.time()\n",
    "monte_carlo_pi_pure_numpy_jit(n_total)\n",
    "telap = time.time() - t1\n",
    "print (f\"This took {telap}s\")"
   ]
  },
  {
   "cell_type": "code",
   "execution_count": null,
   "id": "f2c66207-94f4-4a14-889c-4212fecd40ad",
   "metadata": {},
   "outputs": [],
   "source": [
    "n_run = 1000\n",
    "n_repeat = 10\n",
    "t_jitted = np.array(\n",
    "    timeit.repeat(f\"monte_carlo_pi_pure_numpy_jit({n_total})\", \"from __main__ import monte_carlo_pi_pure_numpy_jit\", repeat = n_repeat,  number = n_run)\n",
    ") / n_run\n",
    "# t_jitted"
   ]
  },
  {
   "cell_type": "code",
   "execution_count": null,
   "id": "6b04ac5a-c8b0-4898-8fb8-a1c3a3f5f6a2",
   "metadata": {},
   "outputs": [],
   "source": [
    "print(f\"jitted Runtime = {np.mean(t_jitted) : 0.2e} +/- {np.std(t_jitted) :0.2e} s\") "
   ]
  },
  {
   "cell_type": "code",
   "execution_count": null,
   "id": "2fe1c157-b65b-4c48-a196-4f0cd618b85e",
   "metadata": {},
   "outputs": [],
   "source": [
    "speedup =  np.mean(t_original) / np.mean(t_jitted)\n",
    "print (f\"Optmization speeds up the code by a factor of {speedup:0.2f}\")"
   ]
  },
  {
   "cell_type": "code",
   "execution_count": null,
   "id": "65eb5cde-a37f-4e2e-a60c-40be34f35944",
   "metadata": {},
   "outputs": [],
   "source": [
    "def monte_carlo_pi_pure_numpy_jit_parallel(nsamples):\n"
   ]
  },
  {
   "cell_type": "code",
   "execution_count": null,
   "id": "a9c6e170-fb03-4bd6-a619-b91781bfb157",
   "metadata": {},
   "outputs": [],
   "source": [
    "t1 = time.time()\n",
    "monte_carlo_pi_pure_numpy_jit_parallel(n_total)\n",
    "telap = time.time() - t1\n",
    "print (f\"This took {telap}s\")"
   ]
  },
  {
   "cell_type": "code",
   "execution_count": null,
   "id": "c5ba585b-a3d2-46a1-83d3-4febcf7fc9d6",
   "metadata": {},
   "outputs": [],
   "source": [
    "n_run = 10000\n",
    "n_repeat = 10\n",
    "t_jitted_parallel = np.array(\n",
    "    timeit.repeat(f\"monte_carlo_pi_pure_numpy_jit_parallel({n_total})\", \"from __main__ import monte_carlo_pi_pure_numpy_jit_parallel\", repeat = n_repeat,  number = n_run)\n",
    ") / n_run\n",
    "t_jitted_parallel"
   ]
  },
  {
   "cell_type": "code",
   "execution_count": null,
   "id": "83798bb3-f3b4-42e3-8004-a76db3988adf",
   "metadata": {},
   "outputs": [],
   "source": [
    "print(f\"jitted parallel Runtime = {np.mean(t_jitted_parallel) : 0.2e} +/- {np.std(t_jitted_parallel) :0.2e} s\") "
   ]
  },
  {
   "cell_type": "code",
   "execution_count": null,
   "id": "201b22a5-f945-469a-b235-bbe0ac2f89c2",
   "metadata": {},
   "outputs": [],
   "source": [
    "speedup =  np.mean(t_original) / np.mean(t_jitted_parallel)\n",
    "print (f\"Optmization speeds up the code by a factor of {speedup:0.2f}\")"
   ]
  },
  {
   "cell_type": "code",
   "execution_count": null,
   "id": "f2aa9e9c-bd79-49a2-addc-97e966bfd858",
   "metadata": {},
   "outputs": [],
   "source": [
    "def monte_carlo_pi_pure_numpy_jit_parallel_nopython(nsamples):\n"
   ]
  },
  {
   "cell_type": "code",
   "execution_count": null,
   "id": "6d06127a-50f0-4dec-9438-d259c1708268",
   "metadata": {},
   "outputs": [],
   "source": [
    "t1 = time.time()\n",
    "monte_carlo_pi_pure_numpy_jit_parallel_nopython(n_total)\n",
    "telap = time.time() - t1\n",
    "print (f\"This took {telap}s\")"
   ]
  },
  {
   "cell_type": "code",
   "execution_count": null,
   "id": "aa8f2a55-45ce-4caa-94fd-91769be3166a",
   "metadata": {},
   "outputs": [],
   "source": [
    "n_run = 10000\n",
    "n_repeat = 10\n",
    "t_jitted_parallel_nopython = np.array(\n",
    "    timeit.repeat(f\"monte_carlo_pi_pure_numpy_jit_parallel_nopython({n_total})\", \"from __main__ import monte_carlo_pi_pure_numpy_jit_parallel_nopython\", repeat = n_repeat,  number = n_run)\n",
    ") / n_run\n",
    "t_jitted_parallel_nopython"
   ]
  },
  {
   "cell_type": "code",
   "execution_count": null,
   "id": "90e268ad-42df-4149-b9c0-41946926030e",
   "metadata": {},
   "outputs": [],
   "source": [
    "print(f\"jitted parallel no python Runtime = {np.mean(t_jitted_parallel_nopython) : 0.2e} +/- {np.std(t_jitted_parallel_nopython) :0.2e} s\") "
   ]
  },
  {
   "cell_type": "code",
   "execution_count": null,
   "id": "40d9cfd9-4214-4982-9b70-682bde980bbc",
   "metadata": {},
   "outputs": [],
   "source": [
    "speedup =  np.mean(t_original) / np.mean(t_jitted_parallel_nopython)\n",
    "print (f\"Optmization speeds up the code by a factor of {speedup:0.2f}\")"
   ]
  },
  {
   "cell_type": "code",
   "execution_count": null,
   "id": "e385781e-0b2b-4eda-a78e-d877bb271c3d",
   "metadata": {},
   "outputs": [],
   "source": [
    "def monte_carlo_pi_revisit(nsamples):\n"
   ]
  },
  {
   "cell_type": "code",
   "execution_count": null,
   "id": "9a056dbf-ea1f-4604-baa8-05e76bfca48c",
   "metadata": {},
   "outputs": [],
   "source": [
    "t1 = time.time()\n",
    "monte_carlo_pi_revisit(n_total)\n",
    "telap = time.time() - t1\n",
    "print (f\"This took {telap}s\")"
   ]
  },
  {
   "cell_type": "code",
   "execution_count": null,
   "id": "ad78c7ad-ea2f-4ed6-9a39-fa8b2d78e5f8",
   "metadata": {},
   "outputs": [],
   "source": [
    "n_run = 10000\n",
    "n_repeat = 10\n",
    "t_jitted_revisit = np.array(\n",
    "    timeit.repeat(f\"monte_carlo_pi_revisit({n_total})\", \"from __main__ import monte_carlo_pi_revisit\", repeat = n_repeat,  number = n_run)\n",
    ") / n_run\n",
    "t_jitted_revisit"
   ]
  },
  {
   "cell_type": "code",
   "execution_count": null,
   "id": "7032d1a8-e0dc-48aa-97b4-77d897d4d832",
   "metadata": {},
   "outputs": [],
   "source": [
    "print(f\"jitted parallel no python Runtime = {np.mean(t_jitted_revisit) : 0.2e} +/- {np.std(t_jitted_revisit) :0.2e} s\") "
   ]
  },
  {
   "cell_type": "code",
   "execution_count": null,
   "id": "ea0a2411-16f4-4e6b-9383-2ff2f88d3518",
   "metadata": {},
   "outputs": [],
   "source": [
    "speedup =  np.mean(t_original) / np.mean(t_jitted_revisit)\n",
    "print (f\"Optmization speeds up the code by a factor of {speedup:0.2f}\")"
   ]
  },
  {
   "cell_type": "markdown",
   "id": "c060b4b0-1c63-46e3-b457-2e223556ece8",
   "metadata": {},
   "source": [
    "### Summary\n",
    "\n",
    "We've looked at both how to speed up a simple function by first using pure NumPy, then moving to compiled versions, before moving to a parallel implementation:"
   ]
  },
  {
   "cell_type": "code",
   "execution_count": null,
   "id": "513afc0d-b05a-4bf9-a7f7-1fc81b1932a0",
   "metadata": {},
   "outputs": [],
   "source": [
    "speedup =  np.mean(t_original) / np.mean(t_optimized)\n",
    "print (f\"Pure NumPy speeds up the code by a factor of {speedup:0.2f}\")\n",
    "\n",
    "speedup =  np.mean(t_original) / np.mean(t_jitted)\n",
    "print (f\"Compiled NumPy speeds up the code by a factor of {speedup:0.2f}\")\n",
    "\n",
    "speedup =  np.mean(t_original) / np.mean(t_jitted_parallel)\n",
    "print (f\"Parallel annd compiled NumPy speeds up the code by a factor of {speedup:0.2f}\")\n",
    "\n",
    "speedup =  np.mean(t_original) / np.mean(t_jitted_parallel_nopython)\n",
    "print (f\"Parallel annd compiled NumPy with 'no python' speeds up the code by a factor of {speedup:0.2f}\")\n",
    "\n",
    "speedup =  np.mean(t_original) / np.mean(t_jitted_revisit)\n",
    "print (f\"Parallel and complied python speeds up the code by a factor of {speedup:0.2f}\")"
   ]
  },
  {
   "cell_type": "markdown",
   "id": "e245e310-64fb-4f17-b3a2-4c46380984b3",
   "metadata": {},
   "source": [
    "The compiled and parallel implementations offer the best performance. If we don't have access to a multi-core system, we achieve x100 performace by simply compiling the function with numba and jit. "
   ]
  },
  {
   "cell_type": "markdown",
   "id": "89c3ed07-9dd6-41ae-b086-5eb38dfcb825",
   "metadata": {},
   "source": [
    "## Memory Profiling\n",
    "\n",
    "So far we've only considered the run time performance. This is only one aspect of performance. Memory usage is often a limiting factor in performance. \n",
    "\n",
    "We can use the `memory_profile` to profile the memory of our code. This works by sampling the memory usage at intervals while the code is running.\n",
    "\n",
    "Similar to `%%timeit` and `%timeit` we can use `%%memit` and `%memit` to get the memory usage of a cell and a single line."
   ]
  },
  {
   "cell_type": "code",
   "execution_count": null,
   "id": "bf0791e1-5da2-42ef-b948-d6634a8ccc2e",
   "metadata": {
    "scrolled": true
   },
   "outputs": [],
   "source": [
    "# if you have issues with async switch to v0.61\n",
    "# pip install memory_profiler==0.61"
   ]
  },
  {
   "cell_type": "code",
   "execution_count": 1,
   "id": "6139050c-30c7-4ff6-be25-5393373270ea",
   "metadata": {},
   "outputs": [],
   "source": [
    "%load_ext memory_profiler\n",
    "# to automatically reload changed files\n",
    "%load_ext autoreload\n",
    "%autoreload 2"
   ]
  },
  {
   "cell_type": "code",
   "execution_count": 2,
   "id": "713cc2f9-b66e-4fa5-aafd-e2978d622b96",
   "metadata": {},
   "outputs": [
    {
     "name": "stdout",
     "output_type": "stream",
     "text": [
      "peak memory: 445.73 MiB, increment: 383.50 MiB\n"
     ]
    }
   ],
   "source": [
    "%memit big_array = [i for i in range(10**7)]"
   ]
  },
  {
   "cell_type": "markdown",
   "id": "76cf447c-daad-43e4-a9a0-6cde0a975a13",
   "metadata": {},
   "source": [
    "If we want to try and find what processes are using a lot of memory, we can line profile a function."
   ]
  },
  {
   "cell_type": "code",
   "execution_count": 3,
   "id": "ffe46f9d-25ba-484f-a17e-2af770b2dc6a",
   "metadata": {},
   "outputs": [
    {
     "name": "stdout",
     "output_type": "stream",
     "text": [
      "Overwriting function_to_profile.py\n"
     ]
    }
   ],
   "source": [
    "%%writefile function_to_profile.py\n",
    "import time\n",
    "\n",
    "def expensive_function():\n",
    "    \n",
    "    x = [ 120 for i in range(100) ]\n",
    "    b = [ x * 100 for i in range(1000) ]\n",
    "    big_list = [ i for i in range(10**5) ]\n",
    "    another_big_list = [ i for i in range(10**5) ]\n",
    "    time.sleep(0.01)\n",
    "\n",
    "    x = [ 42 for i in range(1000) ] "
   ]
  },
  {
   "cell_type": "code",
   "execution_count": 4,
   "id": "0bf23c61-ad3d-4697-a944-9f59e7ea603b",
   "metadata": {},
   "outputs": [
    {
     "name": "stdout",
     "output_type": "stream",
     "text": [
      "\n"
     ]
    },
    {
     "data": {
      "text/plain": [
       "Filename: /home/obriens/Documents/websites/mcgill_site/docs/Tutorials/Python/function_to_profile.py\n",
       "\n",
       "Line #    Mem usage    Increment  Occurrences   Line Contents\n",
       "=============================================================\n",
       "     3    446.0 MiB    446.0 MiB           1   def expensive_function():\n",
       "     4                                             \n",
       "     5    446.0 MiB      0.0 MiB         103       x = [ 120 for i in range(100) ]\n",
       "     6    522.0 MiB     76.0 MiB        1003       b = [ x * 100 for i in range(1000) ]\n",
       "     7    525.6 MiB      3.6 MiB      100003       big_list = [ i for i in range(10**5) ]\n",
       "     8    530.2 MiB      4.6 MiB      100003       another_big_list = [ i for i in range(10**5) ]\n",
       "     9    530.2 MiB      0.0 MiB           1       time.sleep(0.01)\n",
       "    10                                         \n",
       "    11    530.2 MiB      0.0 MiB        1003       x = [ 42 for i in range(1000) ]"
      ]
     },
     "metadata": {},
     "output_type": "display_data"
    }
   ],
   "source": [
    "from function_to_profile import expensive_function\n",
    "%mprun -f expensive_function expensive_function()"
   ]
  },
  {
   "cell_type": "markdown",
   "id": "9c7dd6c2-6644-4970-bf4e-74e6d549d058",
   "metadata": {},
   "source": [
    "This can often be difficult to parse and understand, in a jupyter notebook. I prefer to use `memory_profiler` via the command line interface (which we can still call from jupyter!)."
   ]
  },
  {
   "cell_type": "code",
   "execution_count": 5,
   "id": "bd858328-97ac-4383-87ec-89eca507616d",
   "metadata": {},
   "outputs": [
    {
     "name": "stdout",
     "output_type": "stream",
     "text": [
      "Overwriting initial_code.py\n"
     ]
    }
   ],
   "source": [
    "%%writefile initial_code.py\n",
    "\n",
    "import numpy as np\n",
    "import pandas as pd\n",
    "import time\n",
    "\n",
    "@profile\n",
    "def load_data():\n",
    "    df = pd.read_csv(\"./gaia3.csv\")\n",
    "    return df\n",
    "\n",
    "@profile\n",
    "def filter_data(df):\n",
    "    parallax = df[\"parallax\"]\n",
    "    parallax_err = df[\"parallax_over_error\"]\n",
    "    good_mask = parallax_err > 20\n",
    "    return good_mask\n",
    "    \n",
    "@profile\n",
    "def get_distance(df):\n",
    "    distance = 1./ (df[\"parallax\"] * 1e-3)\n",
    "    return distance\n",
    "\n",
    "@profile\n",
    "def assign_distance(df, distance):\n",
    "    df[\"distance\"] = distance\n",
    "\n",
    "\n",
    "\n",
    "@profile\n",
    "def filter_distance(df):\n",
    "    distance = df[\"distance\"]\n",
    "    good_mask = distance < 10\n",
    "    return good_mask\n",
    "\n",
    "\n",
    "@profile\n",
    "def apply_filter(df, data_filter):\n",
    "    data = df[data_filter]\n",
    "    return data\n",
    "\n",
    "\n",
    "\n",
    "if __name__ == '__main__':\n",
    "\n",
    "    data = load_data()\n",
    "    time.sleep(0.1)\n",
    "    \n",
    "    data_filter = filter_data(data)\n",
    "    time.sleep(0.1)\n",
    "    \n",
    "    data_filtered = apply_filter(data, data_filter)\n",
    "    time.sleep(0.1)\n",
    "    \n",
    "    distance = get_distance(data_filtered)\n",
    "    time.sleep(0.1)\n",
    "    \n",
    "    assign_distance(data_filtered, distance)\n",
    "    time.sleep(0.1)\n",
    "    \n",
    "    distance_filter = filter_distance(data_filtered)\n",
    "    time.sleep(0.1)\n",
    "    \n",
    "    data_10pc = apply_filter(data_filtered, distance_filter)\n",
    "    time.sleep(0.1)\n",
    "\n",
    "\n"
   ]
  },
  {
   "cell_type": "code",
   "execution_count": 6,
   "id": "8dc8a4ea-f5bf-4a58-81ab-70c7156a534e",
   "metadata": {},
   "outputs": [
    {
     "name": "stdout",
     "output_type": "stream",
     "text": [
      "mprof: Sampling memory every 0.005s\n",
      "running new process\n",
      "running as a Python program...\n",
      "initial_code.py:25: SettingWithCopyWarning: \n",
      "A value is trying to be set on a copy of a slice from a DataFrame.\n",
      "Try using .loc[row_indexer,col_indexer] = value instead\n",
      "\n",
      "See the caveats in the documentation: https://pandas.pydata.org/pandas-docs/stable/user_guide/indexing.html#returning-a-view-versus-a-copy\n",
      "  df[\"distance\"] = distance\n",
      "Using last profile data.\n"
     ]
    }
   ],
   "source": [
    "!mprof run --interval 0.005 --python python initial_code.py\n",
    "!mprof plot --output initial_code_profile.png"
   ]
  },
  {
   "cell_type": "code",
   "execution_count": 7,
   "id": "dac2779e-7873-492c-af92-0426ced79f37",
   "metadata": {},
   "outputs": [],
   "source": [
    "from IPython.display import Image, display"
   ]
  },
  {
   "cell_type": "code",
   "execution_count": 8,
   "id": "a08e10a4-2046-4853-baca-f8ed8ddabef3",
   "metadata": {},
   "outputs": [
    {
     "data": {
      "image/png": "[encoded data removed]",
      "text/plain": [
       "<IPython.core.display.Image object>"
      ]
     },
     "metadata": {},
     "output_type": "display_data"
    }
   ],
   "source": [
    "display(Image(\"./initial_code_profile.png\"))"
   ]
  },
  {
   "cell_type": "markdown",
   "id": "7d618e98-de63-42ae-b313-ca1faba9d808",
   "metadata": {},
   "source": [
    "From the above we can see a few things:\n",
    "\n",
    "1. The file we read in is pretty big. The dataframe takes up ~250 MiB.\n",
    "2. Filtering the data has a negligable effect on the memory usage.\n",
    "3. We see a huge spike when calling `apply_filter` for the first time.\n",
    "4. We see a second smaller spike when calling `get_distance`.\n",
    "\n",
    "\n",
    "A plot like this is useful when we're trying to decide on what resources we need to run this program. We could likely run this on most machines as ~400 MiB is attainable by most personal laptops. **If we wanted to submit this job to a cluster, we'd want at least ~450 MiB to provide some breathing room.**\n",
    "\n",
    "\n",
    "If we want to target areas to reduce memory usage, we should target the `apply_filter` and `get_distance` functions. Additionally we can look at ways to reduce the dataset size (we'll come back to this...)."
   ]
  },
  {
   "cell_type": "markdown",
   "id": "374ee3d7-c0d8-4b3b-9918-e6d3b5960d6d",
   "metadata": {},
   "source": [
    "Let's look at `apply_filter`:\n",
    "\n",
    "```python\n",
    "@profile\n",
    "def apply_filter(df, data_filter):\n",
    "    data = df[data_filter]\n",
    "    return data\n",
    "...\n",
    "    data_filtered = apply_filter(data, data_filter)\n",
    "...\n",
    "    data_10pc = apply_filter(data_filtered, distance_filter)\n",
    "...\n",
    "```\n",
    "\n",
    "We are using the `apply_filter`. This function takes in a `pandas.dataframe` and a boolean array and returns a new `pandas.dataframe`. Let's start by overwriting the data in the function:\n",
    "```python\n",
    "\n",
    "@profile\n",
    "def apply_filter(df, data_filter):\n",
    "    df = df[data_filter]\n",
    "    return df\n",
    "```\n",
    "\n",
    "Additionally we'll overwrite all the instances of `data`"
   ]
  },
  {
   "cell_type": "code",
   "execution_count": 13,
   "id": "b199d18b-5eee-4eaa-baec-a932b07386e2",
   "metadata": {},
   "outputs": [
    {
     "name": "stdout",
     "output_type": "stream",
     "text": [
      "Overwriting initial_code_iteration1.py\n"
     ]
    }
   ],
   "source": [
    "%%writefile initial_code_iteration1.py\n",
    "\n",
    "import numpy as np\n",
    "import pandas as pd\n",
    "import time\n",
    "\n",
    "@profile\n",
    "def load_data():\n",
    "    df = pd.read_csv(\"./gaia3.csv\")\n",
    "    return df\n",
    "\n",
    "@profile\n",
    "def filter_data(df):\n",
    "    parallax = df[\"parallax\"]\n",
    "    parallax_err = df[\"parallax_over_error\"]\n",
    "    good_mask = parallax_err > 20\n",
    "    return good_mask\n",
    "    \n",
    "@profile\n",
    "def get_distance(df):\n",
    "    distance = 1./ (df[\"parallax\"] * 1e-3)\n",
    "    return distance\n",
    "\n",
    "@profile\n",
    "def assign_distance(df, distance):\n",
    "    df[\"distance\"] = distance\n",
    "\n",
    "\n",
    "\n",
    "@profile\n",
    "def filter_distance(df):\n",
    "    distance = df[\"distance\"]\n",
    "    good_mask = distance < 10\n",
    "    return good_mask\n",
    "\n",
    "\n",
    "@profile\n",
    "def apply_filter(df, data_filter):\n",
    "    df = df[data_filter]\n",
    "    return df\n",
    "\n",
    "\n",
    "\n",
    "if __name__ == '__main__':\n",
    "\n",
    "    data = load_data()\n",
    "    time.sleep(0.1)\n",
    "    \n",
    "    data_filter = filter_data(data)\n",
    "    time.sleep(0.1)\n",
    "    \n",
    "    data_filtered = apply_filter(data, data_filter)\n",
    "    time.sleep(0.1)\n",
    "    \n",
    "    distance = get_distance(data_filtered)\n",
    "    time.sleep(0.1)\n",
    "    \n",
    "    assign_distance(data_filtered, distance)\n",
    "    time.sleep(0.1)\n",
    "    \n",
    "    distance_filter = filter_distance(data_filtered)\n",
    "    time.sleep(0.1)\n",
    "    \n",
    "    data_10pc = apply_filter(data_filtered, distance_filter)\n",
    "    time.sleep(0.1)\n",
    "\n",
    "\n"
   ]
  },
  {
   "cell_type": "code",
   "execution_count": 14,
   "id": "6c1501bd-d094-4a0a-acc5-0ac9904a1928",
   "metadata": {},
   "outputs": [
    {
     "name": "stdout",
     "output_type": "stream",
     "text": [
      "mprof: Sampling memory every 0.005s\n",
      "running new process\n",
      "running as a Python program...\n",
      "initial_code_iteration1.py:25: SettingWithCopyWarning: \n",
      "A value is trying to be set on a copy of a slice from a DataFrame.\n",
      "Try using .loc[row_indexer,col_indexer] = value instead\n",
      "\n",
      "See the caveats in the documentation: https://pandas.pydata.org/pandas-docs/stable/user_guide/indexing.html#returning-a-view-versus-a-copy\n",
      "  df[\"distance\"] = distance\n",
      "Using last profile data.\n"
     ]
    }
   ],
   "source": [
    "!mprof run --interval 0.005 --python python initial_code_iteration1.py\n",
    "!mprof plot --output initial_code_iteration1.png"
   ]
  },
  {
   "cell_type": "code",
   "execution_count": 15,
   "id": "c68a85b5-51dc-4feb-afc7-eeb799277482",
   "metadata": {},
   "outputs": [
    {
     "data": {
      "image/png": "[encoded data removed]",
      "text/plain": [
       "<IPython.core.display.Image object>"
      ]
     },
     "metadata": {},
     "output_type": "display_data"
    }
   ],
   "source": [
    "display(Image(\"./initial_code_iteration1.png\"))"
   ]
  },
  {
   "cell_type": "markdown",
   "id": "97e7a33b-0fb9-4917-bf4a-a02358b8e972",
   "metadata": {},
   "source": [
    "This is an improvement, but we still see a spike at ~400 MiB when `apply_filter` is called for the first time. Why is this? Let's look at the function again:\n",
    "\n",
    "```python\n",
    "def apply_filter(df, data_filter):\n",
    "    df = df[data_filter]\n",
    "    return df\n",
    "```\n",
    "\n",
    "\n",
    "When calling `df = df[data_filter]` we first make a copy of the data using `df[data_filter]` before assigning it to `df`. Let's look at a more memory efficient way to do this:\n",
    "\n",
    "```python\n",
    "def apply_filter(df, data_filter):\n",
    "    # Assign NaN to all the RA of the filtered events\n",
    "    df[\"ra\"][data_filter] = np.nan\n",
    "    # Drop the entries with NaN, inplace = True meaning overwrite\n",
    "    df.dropna(inplace = True)\n",
    "```\n",
    "\n",
    "Since we've overwritten the original dataframe, we don't need to return anything...\n",
    "\n"
   ]
  },
  {
   "cell_type": "code",
   "execution_count": null,
   "id": "82f4b887-d7d4-48b3-bbfa-b736f7645b56",
   "metadata": {},
   "outputs": [],
   "source": [
    "%%writefile initial_code_iteration2.py\n"
   ]
  },
  {
   "cell_type": "code",
   "execution_count": null,
   "id": "1a5f788a-79ce-4ccc-af5f-479d14590663",
   "metadata": {},
   "outputs": [],
   "source": [
    "!mprof run --interval 0.005 --python python initial_code_iteration2.py\n",
    "!mprof plot --output initial_code_iteration2.png"
   ]
  },
  {
   "cell_type": "code",
   "execution_count": null,
   "id": "ac5df3ba-1b9b-4a01-8908-b8b114184abd",
   "metadata": {},
   "outputs": [],
   "source": [
    "display(Image(\"./initial_code_iteration2.png\"))"
   ]
  },
  {
   "cell_type": "markdown",
   "id": "02768264-28b9-4529-90b4-6e57776fa8b2",
   "metadata": {},
   "source": [
    "This looks a lot better, but we still have that inital overhead of the dataset, is there anything we can do here?\n",
    "\n",
    "Let's look at the data."
   ]
  },
  {
   "cell_type": "code",
   "execution_count": null,
   "id": "d62ed2b8-1527-47c9-ac78-248ec3462297",
   "metadata": {},
   "outputs": [],
   "source": [
    "!head gaia3.csv"
   ]
  },
  {
   "cell_type": "markdown",
   "id": "74c27d93-0020-4dcd-ac30-92694e435922",
   "metadata": {},
   "source": [
    "We have a lot of percision in our measurements. Lets compare the measured values to the uncertainty on these values. Let's limit ourself to the first 100 values. By default, `pandas` will use 64 bit percision when reading in floats. This might be overkill."
   ]
  },
  {
   "cell_type": "code",
   "execution_count": null,
   "id": "6c6e061e-4ded-4f14-b893-36fc4c246ddb",
   "metadata": {},
   "outputs": [],
   "source": [
    "import pandas as pd\n",
    "df = pd.read_csv(\"gaia3.csv\", nrows=100)\n",
    "df.head()"
   ]
  },
  {
   "cell_type": "markdown",
   "id": "9016b390-5bcb-45f1-96e8-988039887bbf",
   "metadata": {},
   "source": [
    "Do we need this percision? In this case it looks like the errors on our data are already pretty large."
   ]
  },
  {
   "cell_type": "code",
   "execution_count": null,
   "id": "c7af6df0-98b5-4187-aecd-731498922b2e",
   "metadata": {},
   "outputs": [],
   "source": [
    "import numpy as np\n",
    "df_f32 = pd.read_csv(\"gaia3.csv\", nrows=100, dtype=np.float32)\n",
    "df_f32.head()"
   ]
  },
  {
   "cell_type": "code",
   "execution_count": null,
   "id": "183db0ae-89e6-430f-a43e-b9942b53cae4",
   "metadata": {},
   "outputs": [],
   "source": [
    "import matplotlib.pyplot as plt\n",
    "plt.hist(df[\"parallax\"] - df_f32[\"parallax\"])"
   ]
  },
  {
   "cell_type": "code",
   "execution_count": null,
   "id": "743c7b95-8935-45ad-b5fb-ba54b77418f4",
   "metadata": {},
   "outputs": [],
   "source": [
    "df_f16 = pd.read_csv(\"gaia3.csv\", nrows=100, dtype=np.float16)\n",
    "df_f16.head()"
   ]
  },
  {
   "cell_type": "code",
   "execution_count": null,
   "id": "2b7fa571-e9a9-47e3-bdaa-8dc236aa2962",
   "metadata": {},
   "outputs": [],
   "source": [
    "plt.hist(df[\"parallax\"] - df_f16[\"parallax\"])"
   ]
  },
  {
   "cell_type": "markdown",
   "id": "8c6cdc2d-902d-482a-be43-8cd86e904ec7",
   "metadata": {},
   "source": [
    "For a 32 bit float the uncertainy introduce is O($10^{-7}$), whereas for a 16 bit float the uncertainy is O($10^{-3}$).  Let's start off by looking at using 32 bit floats instead when creating the pandas dataframe:\n",
    "\n",
    "```python\n",
    "def load_data():\n",
    "    df = pd.read_csv(\"./gaia3.csv\", dtype = np.float32)\n",
    "    return df\n",
    "```"
   ]
  },
  {
   "cell_type": "code",
   "execution_count": null,
   "id": "382c45e9-bb15-44af-8a72-ee2d58c367cf",
   "metadata": {},
   "outputs": [],
   "source": [
    "%%writefile initial_code_iteration3.py\n"
   ]
  },
  {
   "cell_type": "code",
   "execution_count": null,
   "id": "37f7c25e-af0f-4025-9c5b-1eb515d4f30c",
   "metadata": {},
   "outputs": [],
   "source": [
    "!mprof run --interval 0.005 --python python initial_code_iteration3.py\n",
    "!mprof plot --output initial_code_iteration3.png"
   ]
  },
  {
   "cell_type": "code",
   "execution_count": null,
   "id": "f1aaf82d-1f84-45cc-8ae1-50f5f4e70c96",
   "metadata": {},
   "outputs": [],
   "source": [
    "display(Image(\"./initial_code_iteration3.png\"))"
   ]
  },
  {
   "cell_type": "markdown",
   "id": "8c063b76-466d-459e-a55b-4be06fb94b64",
   "metadata": {},
   "source": [
    "We see a big improvement, with the peak memory usage < 250 MiB. Since we're limited by the uncertinty in the measurements, we might decide to lower our precision again:\n",
    "```python\n",
    "def load_data():\n",
    "    df = pd.read_csv(\"./gaia3.csv\", dtype = np.float16)\n",
    "    return df\n",
    "```"
   ]
  },
  {
   "cell_type": "code",
   "execution_count": null,
   "id": "137f9443-2224-4dea-b636-873185e5a448",
   "metadata": {},
   "outputs": [],
   "source": [
    "%%writefile initial_code_iteration4.py\n"
   ]
  },
  {
   "cell_type": "code",
   "execution_count": null,
   "id": "e9352e09-2607-4cd5-9a93-9ef816a3c6a6",
   "metadata": {},
   "outputs": [],
   "source": [
    "!mprof run --interval 0.005 --python python initial_code_iteration4.py\n",
    "!mprof plot --output initial_code_iteration4.png"
   ]
  },
  {
   "cell_type": "code",
   "execution_count": null,
   "id": "11a9ab40-8dc9-45c4-8146-20feb089d901",
   "metadata": {},
   "outputs": [],
   "source": [
    "display(Image(\"./initial_code_iteration4.png\"))"
   ]
  },
  {
   "cell_type": "markdown",
   "id": "9681742f-1067-46ec-a802-41138f7cbe65",
   "metadata": {},
   "source": [
    "Before we start reading the the dataframe we already have ~75 MiB. Can we reduce this?\n",
    "\n",
    "NumPy is a pretty big library, let's only import what we need."
   ]
  },
  {
   "cell_type": "code",
   "execution_count": null,
   "id": "f7ad51ef-04fc-4ada-a8c6-4f728f159956",
   "metadata": {},
   "outputs": [],
   "source": [
    "%%writefile initial_code_iteration5.py\n"
   ]
  },
  {
   "cell_type": "code",
   "execution_count": null,
   "id": "0009914d-f7eb-4c2f-bdba-105ead6c28ef",
   "metadata": {},
   "outputs": [],
   "source": [
    "!mprof run --interval 0.005 --python python initial_code_iteration5.py\n",
    "!mprof plot --output initial_code_iteration5.png"
   ]
  },
  {
   "cell_type": "code",
   "execution_count": null,
   "id": "f2973b33-3b8e-4ddc-99c9-0537bf1faf9c",
   "metadata": {},
   "outputs": [],
   "source": [
    "display(Image(\"./initial_code_iteration5.png\"))"
   ]
  },
  {
   "cell_type": "markdown",
   "id": "7c5bd3d2-c979-4211-8ea0-4d51dac0819c",
   "metadata": {},
   "source": [
    "This brings us below 175 MiB. There are other steps we could look at:\n",
    "\n",
    "* Running in batches to reduce the overall usage.\n",
    "* Only loading in the columns needed for analysis\n",
    "* Using a different package/backend?"
   ]
  },
  {
   "cell_type": "markdown",
   "id": "a259b80c-2cf2-4a03-9060-1ed9b89f9cf6",
   "metadata": {},
   "source": [
    "## Summary\n",
    "\n",
    "We're managed to reduce the memory usage from ~450 MiB to < 175 MiB. We achieved this by:\n",
    "\n",
    "* Profiling the memory usage to see what to target\n",
    "* Avoiding copying the data\n",
    "* Using inbuild functions to delete elements rather than doing by copy\n",
    "* Changing the percision of the data we're using\n",
    "* Reducing the import overhead\n",
    "\n",
    "There is still a lot of redundency in the above code, we could explore other options:\n",
    "\n",
    "* Rewriting parts of the code in more memory efficient languages (Rust, C++). \n",
    "* Reducing the import overhead by reducing the complexity of the code and doing more steps in pure python.\n",
    "* Using more memory efficient libraries (e.g. Polars).\n",
    "* Spliting the dataset into chunks and loading in smaller bits at a time.\n",
    "\n",
    "We also need to consider the development cost in finding low-memory solutions. Reducing the memory usage by 10% might be better than spending hours trying to reduce it by 20%. \n",
    "\n",
    "The methods we've used here also have trade offs:\n",
    "* Going from f64 -> f16 is a lossy form of compression. We have lost information that we cannot simply get back.\n",
    "* We've thrown away data after it's read in and filtered. We can no longer compare to the original dataset without rewriting code.\n",
    "* We've decreased the complexity, we can no longer access functions like `numpy.sum` without explicitly importing them first.\n",
    "\n",
    "When working with clusters we can use tools such as `memory_profiler` to estimate the requirements of the job we're about to submit. This can prevent our job crashing if we haven't requested enough memory.\n",
    "\n",
    "\n",
    "\n"
   ]
  },
  {
   "cell_type": "markdown",
   "id": "7cf1b928-5717-4a31-b618-7384fb7969b8",
   "metadata": {},
   "source": [
    "## Cheap Tricks to \"generally\" speed up your code\n",
    "\n",
    "### Vectorization is your friend\n",
    "\n",
    "Vecorizing functions allow them to be applied to NumPy arrays, without having to write a for loop."
   ]
  },
  {
   "cell_type": "code",
   "execution_count": null,
   "id": "06bc66d5-2a01-4028-96d6-fc6e787cb4e2",
   "metadata": {},
   "outputs": [],
   "source": [
    "def if_function(x):\n",
    "    if x < 0:\n",
    "        return 0\n",
    "    else:\n",
    "        return np.sqrt(x)\n"
   ]
  },
  {
   "cell_type": "code",
   "execution_count": null,
   "id": "2d62f2fa-5999-430f-a543-8b4bca6cae1a",
   "metadata": {},
   "outputs": [],
   "source": [
    "x = np.random.random(10**5)"
   ]
  },
  {
   "cell_type": "code",
   "execution_count": null,
   "id": "3b8caf01-8930-4879-ac6a-024f458c9321",
   "metadata": {},
   "outputs": [],
   "source": [
    "%timeit y = if_function(x)"
   ]
  },
  {
   "cell_type": "markdown",
   "id": "0b920975-8e95-4320-9ef8-216a6f733438",
   "metadata": {},
   "source": [
    "We might be tempted to simply rewrite this function with a for loop. But remember, Python is terrible when looping..."
   ]
  },
  {
   "cell_type": "code",
   "execution_count": null,
   "id": "f27f12c0-e73a-4abc-bce8-d8f5a248e846",
   "metadata": {},
   "outputs": [],
   "source": [
    "def loop_function(x):\n",
    "    ret = np.zeros(len(x))\n",
    "    for i in range(len(x)):\n",
    "        if x[i] < 0:\n",
    "            ret[i] =  0\n",
    "        else:\n",
    "            ret[i] = np.sqrt(x[i])\n",
    "    return ret "
   ]
  },
  {
   "cell_type": "code",
   "execution_count": null,
   "id": "dcb0d5ef-777f-4da2-85cd-fc814e38f77b",
   "metadata": {},
   "outputs": [],
   "source": [
    "%timeit y = loop_function(x)"
   ]
  },
  {
   "cell_type": "code",
   "execution_count": null,
   "id": "fcb77127-4718-4834-8f76-77db424e2ebd",
   "metadata": {},
   "outputs": [],
   "source": [
    "vec_function = np.vectorize(if_function)"
   ]
  },
  {
   "cell_type": "code",
   "execution_count": null,
   "id": "0d62c0eb-d790-43e7-8393-2008987a4232",
   "metadata": {},
   "outputs": [],
   "source": [
    "%timeit y = vec_function(x)"
   ]
  },
  {
   "cell_type": "markdown",
   "id": "b4f47a0c-ba17-4bd4-bf3d-be820d0c396b",
   "metadata": {},
   "source": [
    "### Caching frequently used function calls\n",
    "When you're expecting to repeat function calls with the same arguements, cache the results."
   ]
  },
  {
   "cell_type": "code",
   "execution_count": null,
   "id": "9a0becbb-957f-460b-a49c-2939073e5be2",
   "metadata": {},
   "outputs": [],
   "source": [
    "#first in first out cache wrapper\n",
    "def fifo(func):\n",
    "    # Define the cache size \n",
    "    cache_size = 5\n",
    "    # Use a dictionary as the cache\n",
    "    cache = {}\n",
    "\n",
    "    def wrapper(*args, **kwargs):\n",
    "        # tokenize the arguments\n",
    "        token = \"\"\n",
    "        for arg in args:\n",
    "            token += str(arg)\n",
    "        for arg in kwargs:\n",
    "            token += str(arg)\n",
    "\n",
    "        # If still have the token\n",
    "        if token in cache:\n",
    "            return cache[token]\n",
    "\n",
    "        # Call function\n",
    "        result = func(*args, **kwargs)\n",
    "        cache[token] = result\n",
    "\n",
    "        # Check if we need to remove items from cache\n",
    "        if len(cache) > 5:\n",
    "            cache[next(iter(cache))]\n",
    "            \n",
    "        # Return the results of the function\n",
    "        return result\n",
    "    return wrapper"
   ]
  },
  {
   "cell_type": "code",
   "execution_count": null,
   "id": "54f12dbb-8cfe-4586-b036-ca97f05db74a",
   "metadata": {},
   "outputs": [],
   "source": [
    "def multiply_string(my_string, rept):\n",
    "    time.sleep(0.5)\n",
    "    return my_string * rept\n",
    "\n"
   ]
  },
  {
   "cell_type": "code",
   "execution_count": null,
   "id": "01f3bf5a-b39a-49e0-b425-5aa4a3730353",
   "metadata": {},
   "outputs": [],
   "source": [
    "%time multiply_string(\"hello\", 5)\n"
   ]
  },
  {
   "cell_type": "code",
   "execution_count": null,
   "id": "e5673147-9037-461f-9ee2-78578d11e05a",
   "metadata": {},
   "outputs": [],
   "source": [
    "%time multiply_string(\"hello\", 5)"
   ]
  },
  {
   "cell_type": "code",
   "execution_count": null,
   "id": "f2514652-7d60-4d53-8e58-1d7af7563842",
   "metadata": {},
   "outputs": [],
   "source": [
    "@fifo\n",
    "def multiply_string_cache(my_string, rept):\n",
    "    time.sleep(0.5)\n",
    "    return my_string * rept"
   ]
  },
  {
   "cell_type": "code",
   "execution_count": null,
   "id": "88ea4a18-eeb4-4dde-a128-7f353caddd57",
   "metadata": {},
   "outputs": [],
   "source": [
    "%time multiply_string_cache(\"goodbye\", 5)\n"
   ]
  },
  {
   "cell_type": "code",
   "execution_count": null,
   "id": "610b83d1-f505-400b-b074-7e77664d01b2",
   "metadata": {},
   "outputs": [],
   "source": [
    "%time multiply_string_cache(\"goodbye\", 5)"
   ]
  },
  {
   "cell_type": "markdown",
   "id": "9b5cb582-1825-4a40-95c3-234ae301a34f",
   "metadata": {},
   "source": [
    "Now that we know how the cache works, we can use some blackboxed python functions.\n",
    "\n",
    "Let's use a [Least recently used](https://en.wikipedia.org/wiki/Cache_replacement_policies#Least_recently_used_(LRU)) cache. This will track the number of times we call a set of args. When the cache fills up, the least used item will be removed."
   ]
  },
  {
   "cell_type": "code",
   "execution_count": null,
   "id": "1670e0e7-3b08-4180-919c-a78e2f0ebeb8",
   "metadata": {},
   "outputs": [],
   "source": [
    "from functools import lru_cache\n",
    "\n",
    "@lru_cache(maxsize=5)\n",
    "def multiply_string_lru(my_string, rept):\n",
    "    time.sleep(0.5)\n",
    "    return my_string * rept"
   ]
  },
  {
   "cell_type": "code",
   "execution_count": null,
   "id": "a3116f76-ffc1-44f8-8029-fc6eafcdd9ea",
   "metadata": {},
   "outputs": [],
   "source": [
    "%time multiply_string_lru(\"goodbye\", 5)\n"
   ]
  },
  {
   "cell_type": "code",
   "execution_count": null,
   "id": "3eb0ff3d-5807-4b81-8412-c93e6118d517",
   "metadata": {},
   "outputs": [],
   "source": [
    "%time multiply_string_lru(\"goodbye\", 5)"
   ]
  },
  {
   "cell_type": "markdown",
   "id": "49dcec9d-6708-475a-b6ef-4bd7542b2cf9",
   "metadata": {},
   "source": [
    "### Already have working code from a more efficient language? Import it!\n",
    "\n",
    "Python has lots of tools to import code from different languages"
   ]
  },
  {
   "cell_type": "code",
   "execution_count": null,
   "id": "507f13ce-9af4-4cef-93b0-49e8af4bb7d3",
   "metadata": {},
   "outputs": [],
   "source": [
    "def py_fib(x):\n",
    "    if x in [0,1] :\n",
    "        return 1\n",
    "    else:\n",
    "        return py_fib(x - 1) + py_fib(x - 2)\n"
   ]
  },
  {
   "cell_type": "code",
   "execution_count": null,
   "id": "2b0330bb-c3e4-4806-a90c-923d06e5b49b",
   "metadata": {},
   "outputs": [],
   "source": [
    "%timeit py_fib(10)"
   ]
  },
  {
   "cell_type": "code",
   "execution_count": null,
   "id": "1e701114-49a9-4cb1-b118-9a00128e7018",
   "metadata": {},
   "outputs": [],
   "source": [
    "from numba import jit\n",
    "\n",
    "@jit( nopython = True )\n",
    "def py_fib(x):\n",
    "    if x in [0,1] :\n",
    "        return 1\n",
    "    else:\n",
    "        return py_fib(x - 1) + py_fib(x - 2)\n"
   ]
  },
  {
   "cell_type": "code",
   "execution_count": null,
   "id": "393897a0-e866-4b2b-9ef8-b113bed2f0c4",
   "metadata": {},
   "outputs": [],
   "source": [
    "py_fib(10)"
   ]
  },
  {
   "cell_type": "code",
   "execution_count": null,
   "id": "8ffcfff9-4edd-4374-8487-98add37b4695",
   "metadata": {},
   "outputs": [],
   "source": [
    "%timeit py_fib(10)"
   ]
  },
  {
   "cell_type": "markdown",
   "id": "0c601193-35f7-492c-8dee-8e0b282ae944",
   "metadata": {},
   "source": [
    "We can use packages like Cython to write C++ code in Python. Or we can directly import a precompiled library.\n",
    "\n",
    "We can make C++ functions accessible in Python by wrapping our code in a `extern \"C\"` block.\n",
    "\n",
    "```C++\n",
    "extern \"C\" {\n",
    "\n",
    "    double my_function(... some arguments...){\n",
    "        ... some code ...\n",
    "    }\n",
    "}\n",
    "```\n",
    "\n",
    "Why `extern \"C\"`? One of the differences between C and C++ is that C++ allows us to overload functions. This means that two functions can have the same name, but accept different arguements. For example let say we have some functionality that we would like to make common across different data types:\n",
    "```C++\n",
    "double get_sqrt_integer( int a );\n",
    "double get_sqrt_double( double a );\n",
    "```\n",
    "\n",
    "The user shouldn't need to worry if the argument is an `int` or a `double`. So we would \"overload\" the function like so:\n",
    "```C++\n",
    "double get_sqrt( int a );\n",
    "double get_sqrt( double a );\n",
    "```\n",
    "So the user only ever calls `get_sqrt` and the compile handles the logic on whether it is a `double` or an `int`. The compile does this by giving each of the function versions unique names that are generated at compile time.\n",
    "\n",
    "By using `extern \"C\"` we are reverting back to the `C` method, which will explicitly asign the name we give the function, but it means that we can no longer overload the function. We therefore would need to run:\n",
    "\n",
    "```C++\n",
    "extern \"C\" {   \n",
    "    double get_sqrt_integer( int a );\n",
    "    double get_sqrt_double( double a );\n",
    "}\n",
    "```\n",
    "\n",
    "When analyzing the compiled library we would see the two functions called `get_sqrt_integer` and `get_sqrt_double`."
   ]
  },
  {
   "cell_type": "code",
   "execution_count": null,
   "id": "389d4884-f25d-45c6-880f-03af5e559430",
   "metadata": {},
   "outputs": [],
   "source": [
    "%%writefile cpp_fib.cpp\n",
    "extern \"C\" {\n",
    "    int cpp_fib(unsigned int x)\n",
    "    {\n",
    "        if ( (x == 0) || (x == 1) )\n",
    "        {\n",
    "            return 1;\n",
    "        }\n",
    "        else\n",
    "        {\n",
    "            return cpp_fib(x-1) + cpp_fib(x-2);\n",
    "        }\n",
    "    }\n",
    "}"
   ]
  },
  {
   "cell_type": "markdown",
   "id": "9a7dec58-f334-44f5-8ae3-a2021bf289c4",
   "metadata": {},
   "source": [
    "Compile to a shared library"
   ]
  },
  {
   "cell_type": "code",
   "execution_count": null,
   "id": "16c50954-27c8-4693-81ae-8af5b3ce174c",
   "metadata": {},
   "outputs": [],
   "source": [
    "# mamba / conda install gxx\n",
    "# or\n",
    "# mamba /conda install gxx-compiler"
   ]
  },
  {
   "cell_type": "code",
   "execution_count": null,
   "id": "a8e96c11-94da-4a68-bf22-63e179f1508a",
   "metadata": {},
   "outputs": [],
   "source": [
    "! g++ -fPIC -shared -o cpp_fib.so cpp_fib.cpp -O3"
   ]
  },
  {
   "cell_type": "code",
   "execution_count": null,
   "id": "f5fca9ea-b312-4614-a5c8-46066dc68cfd",
   "metadata": {},
   "outputs": [],
   "source": [
    "! ls cpp_*"
   ]
  },
  {
   "cell_type": "markdown",
   "id": "0f603784-c9d2-45ed-98ba-2a7037b53ba9",
   "metadata": {},
   "source": [
    "Load in the library with `ctypes` and \"translate\" the argument types"
   ]
  },
  {
   "cell_type": "code",
   "execution_count": null,
   "id": "c1e091e3-942c-429f-9c60-52344d0f801d",
   "metadata": {},
   "outputs": [],
   "source": [
    "import ctypes\n",
    "\n",
    "cpp_lib = ctypes.CDLL(\"./cpp_fib.so\")\n",
    "# Access the cpp_fib function from the library\n",
    "# and assigne the argument type\n",
    "cpp_lib.cpp_fib.argtypes = [ctypes.c_uint] \n",
    "# Alias it to cpp_fib\n",
    "cpp_fib = cpp_lib.cpp_fib\n"
   ]
  },
  {
   "cell_type": "code",
   "execution_count": null,
   "id": "596d43d9-3fff-4e1a-bc50-0bedac8dba62",
   "metadata": {},
   "outputs": [],
   "source": [
    "%timeit cpp_fib(10)"
   ]
  },
  {
   "cell_type": "markdown",
   "id": "18c99148-891f-4980-9a6f-10e7506f2855",
   "metadata": {},
   "source": [
    "We can also load in Rust code using rustimport\n",
    "```\n",
    "mamba/conda install rustimport\n",
    "```\n",
    "\n",
    "And the `pyo3` rust crate:"
   ]
  },
  {
   "cell_type": "code",
   "execution_count": null,
   "id": "b7b8625f-7ae7-455a-8aa6-e0a00b6287a5",
   "metadata": {},
   "outputs": [],
   "source": [
    "%load_ext rustimport"
   ]
  },
  {
   "cell_type": "markdown",
   "id": "2e598b4d-f22a-4422-bfa0-b08a0fe0a529",
   "metadata": {},
   "source": [
    "use `--release` to complie an optimized binary rather than a debug binary."
   ]
  },
  {
   "cell_type": "code",
   "execution_count": null,
   "id": "1f9d470a-5606-418f-86d8-ca6b40ca698e",
   "metadata": {
    "scrolled": true
   },
   "outputs": [],
   "source": [
    "%%rustimport  --release --force\n",
    "use pyo3::prelude::*;\n",
    "\n",
    "#[pyfunction]\n",
    "fn rust_fib(x: usize) -> usize {\n",
    "    match x {\n",
    "        1 => 1,\n",
    "        0 => 1,\n",
    "        _ => rust_fib(x - 1) + rust_fib(x - 2)\n",
    "    }\n",
    "}"
   ]
  },
  {
   "cell_type": "code",
   "execution_count": null,
   "id": "d2b9c8a2-b199-4c00-8c7d-2d503076acae",
   "metadata": {},
   "outputs": [],
   "source": [
    "%timeit rust_fib(10)"
   ]
  },
  {
   "cell_type": "code",
   "execution_count": null,
   "id": "62db9db5-704d-45a5-8b4e-8bb1c015debb",
   "metadata": {},
   "outputs": [],
   "source": [
    "# fib_sqe = [py_fib(i) for i in range(10)]\n",
    "# fib_sqe"
   ]
  },
  {
   "cell_type": "code",
   "execution_count": null,
   "id": "acd84503-a71e-4809-b15a-f1fa578ad1d4",
   "metadata": {},
   "outputs": [],
   "source": [
    "# fib_sqe = [cpp_fib(i) for i in range(10)]\n",
    "# fib_sqe"
   ]
  },
  {
   "cell_type": "code",
   "execution_count": null,
   "id": "4c206bed-1221-4b63-bae0-b3ee1498417e",
   "metadata": {},
   "outputs": [],
   "source": [
    "# fib_sqe = [rust_fib(i) for i in range(10)]\n",
    "# fib_sqe"
   ]
  },
  {
   "cell_type": "markdown",
   "id": "ac388fdc-ab71-4812-a86e-3493abb53f48",
   "metadata": {},
   "source": [
    "### Don't reinvent the wheel!\n",
    "\n",
    "Python is one of the most popular languages. A lot of super talented people have spent a lot of time optimizing python and wrapping low lower level languages in Python code. Use libraries such as:\n",
    "\n",
    "* NumPy\n",
    "* SciPy\n",
    "* Pandas"
   ]
  },
  {
   "cell_type": "code",
   "execution_count": null,
   "id": "06d311a6-0643-4899-924d-7a66048ed070",
   "metadata": {},
   "outputs": [],
   "source": []
  },
  {
   "cell_type": "code",
   "execution_count": null,
   "id": "e58702c2-ff37-4c37-8c58-cb795fe7dc08",
   "metadata": {},
   "outputs": [],
   "source": []
  },
  {
   "cell_type": "code",
   "execution_count": null,
   "id": "931eca87-c308-4680-a49e-e522b23865fc",
   "metadata": {},
   "outputs": [],
   "source": []
  }
 ],
 "metadata": {
  "kernelspec": {
   "display_name": "Python 3 (ipykernel)",
   "language": "python",
   "name": "python3"
  },
  "language_info": {
   "codemirror_mode": {
    "name": "ipython",
    "version": 3
   },
   "file_extension": ".py",
   "mimetype": "text/x-python",
   "name": "python",
   "nbconvert_exporter": "python",
   "pygments_lexer": "ipython3",
   "version": "3.10.14"
  }
 },
 "nbformat": 4,
 "nbformat_minor": 5
}
